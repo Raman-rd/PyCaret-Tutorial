{
 "cells": [
  {
   "cell_type": "code",
   "execution_count": 1,
   "metadata": {},
   "outputs": [],
   "source": [
    "#### Created new environment"
   ]
  },
  {
   "cell_type": "code",
   "execution_count": 2,
   "metadata": {},
   "outputs": [],
   "source": [
    "### Loading dataset fromm PyCaret"
   ]
  },
  {
   "cell_type": "code",
   "execution_count": 4,
   "metadata": {},
   "outputs": [],
   "source": [
    "from pycaret.datasets import get_data"
   ]
  },
  {
   "cell_type": "code",
   "execution_count": 5,
   "metadata": {},
   "outputs": [
    {
     "data": {
      "text/html": [
       "<div>\n",
       "<style scoped>\n",
       "    .dataframe tbody tr th:only-of-type {\n",
       "        vertical-align: middle;\n",
       "    }\n",
       "\n",
       "    .dataframe tbody tr th {\n",
       "        vertical-align: top;\n",
       "    }\n",
       "\n",
       "    .dataframe thead th {\n",
       "        text-align: right;\n",
       "    }\n",
       "</style>\n",
       "<table border=\"1\" class=\"dataframe\">\n",
       "  <thead>\n",
       "    <tr style=\"text-align: right;\">\n",
       "      <th></th>\n",
       "      <th>Id</th>\n",
       "      <th>Purchase</th>\n",
       "      <th>WeekofPurchase</th>\n",
       "      <th>StoreID</th>\n",
       "      <th>PriceCH</th>\n",
       "      <th>PriceMM</th>\n",
       "      <th>DiscCH</th>\n",
       "      <th>DiscMM</th>\n",
       "      <th>SpecialCH</th>\n",
       "      <th>SpecialMM</th>\n",
       "      <th>LoyalCH</th>\n",
       "      <th>SalePriceMM</th>\n",
       "      <th>SalePriceCH</th>\n",
       "      <th>PriceDiff</th>\n",
       "      <th>Store7</th>\n",
       "      <th>PctDiscMM</th>\n",
       "      <th>PctDiscCH</th>\n",
       "      <th>ListPriceDiff</th>\n",
       "      <th>STORE</th>\n",
       "    </tr>\n",
       "  </thead>\n",
       "  <tbody>\n",
       "    <tr>\n",
       "      <th>0</th>\n",
       "      <td>1</td>\n",
       "      <td>CH</td>\n",
       "      <td>237</td>\n",
       "      <td>1</td>\n",
       "      <td>1.75</td>\n",
       "      <td>1.99</td>\n",
       "      <td>0.00</td>\n",
       "      <td>0.0</td>\n",
       "      <td>0</td>\n",
       "      <td>0</td>\n",
       "      <td>0.500000</td>\n",
       "      <td>1.99</td>\n",
       "      <td>1.75</td>\n",
       "      <td>0.24</td>\n",
       "      <td>No</td>\n",
       "      <td>0.000000</td>\n",
       "      <td>0.000000</td>\n",
       "      <td>0.24</td>\n",
       "      <td>1</td>\n",
       "    </tr>\n",
       "    <tr>\n",
       "      <th>1</th>\n",
       "      <td>2</td>\n",
       "      <td>CH</td>\n",
       "      <td>239</td>\n",
       "      <td>1</td>\n",
       "      <td>1.75</td>\n",
       "      <td>1.99</td>\n",
       "      <td>0.00</td>\n",
       "      <td>0.3</td>\n",
       "      <td>0</td>\n",
       "      <td>1</td>\n",
       "      <td>0.600000</td>\n",
       "      <td>1.69</td>\n",
       "      <td>1.75</td>\n",
       "      <td>-0.06</td>\n",
       "      <td>No</td>\n",
       "      <td>0.150754</td>\n",
       "      <td>0.000000</td>\n",
       "      <td>0.24</td>\n",
       "      <td>1</td>\n",
       "    </tr>\n",
       "    <tr>\n",
       "      <th>2</th>\n",
       "      <td>3</td>\n",
       "      <td>CH</td>\n",
       "      <td>245</td>\n",
       "      <td>1</td>\n",
       "      <td>1.86</td>\n",
       "      <td>2.09</td>\n",
       "      <td>0.17</td>\n",
       "      <td>0.0</td>\n",
       "      <td>0</td>\n",
       "      <td>0</td>\n",
       "      <td>0.680000</td>\n",
       "      <td>2.09</td>\n",
       "      <td>1.69</td>\n",
       "      <td>0.40</td>\n",
       "      <td>No</td>\n",
       "      <td>0.000000</td>\n",
       "      <td>0.091398</td>\n",
       "      <td>0.23</td>\n",
       "      <td>1</td>\n",
       "    </tr>\n",
       "    <tr>\n",
       "      <th>3</th>\n",
       "      <td>4</td>\n",
       "      <td>MM</td>\n",
       "      <td>227</td>\n",
       "      <td>1</td>\n",
       "      <td>1.69</td>\n",
       "      <td>1.69</td>\n",
       "      <td>0.00</td>\n",
       "      <td>0.0</td>\n",
       "      <td>0</td>\n",
       "      <td>0</td>\n",
       "      <td>0.400000</td>\n",
       "      <td>1.69</td>\n",
       "      <td>1.69</td>\n",
       "      <td>0.00</td>\n",
       "      <td>No</td>\n",
       "      <td>0.000000</td>\n",
       "      <td>0.000000</td>\n",
       "      <td>0.00</td>\n",
       "      <td>1</td>\n",
       "    </tr>\n",
       "    <tr>\n",
       "      <th>4</th>\n",
       "      <td>5</td>\n",
       "      <td>CH</td>\n",
       "      <td>228</td>\n",
       "      <td>7</td>\n",
       "      <td>1.69</td>\n",
       "      <td>1.69</td>\n",
       "      <td>0.00</td>\n",
       "      <td>0.0</td>\n",
       "      <td>0</td>\n",
       "      <td>0</td>\n",
       "      <td>0.956535</td>\n",
       "      <td>1.69</td>\n",
       "      <td>1.69</td>\n",
       "      <td>0.00</td>\n",
       "      <td>Yes</td>\n",
       "      <td>0.000000</td>\n",
       "      <td>0.000000</td>\n",
       "      <td>0.00</td>\n",
       "      <td>0</td>\n",
       "    </tr>\n",
       "  </tbody>\n",
       "</table>\n",
       "</div>"
      ],
      "text/plain": [
       "   Id Purchase  WeekofPurchase  StoreID  PriceCH  PriceMM  DiscCH  DiscMM  \\\n",
       "0   1       CH             237        1     1.75     1.99    0.00     0.0   \n",
       "1   2       CH             239        1     1.75     1.99    0.00     0.3   \n",
       "2   3       CH             245        1     1.86     2.09    0.17     0.0   \n",
       "3   4       MM             227        1     1.69     1.69    0.00     0.0   \n",
       "4   5       CH             228        7     1.69     1.69    0.00     0.0   \n",
       "\n",
       "   SpecialCH  SpecialMM   LoyalCH  SalePriceMM  SalePriceCH  PriceDiff Store7  \\\n",
       "0          0          0  0.500000         1.99         1.75       0.24     No   \n",
       "1          0          1  0.600000         1.69         1.75      -0.06     No   \n",
       "2          0          0  0.680000         2.09         1.69       0.40     No   \n",
       "3          0          0  0.400000         1.69         1.69       0.00     No   \n",
       "4          0          0  0.956535         1.69         1.69       0.00    Yes   \n",
       "\n",
       "   PctDiscMM  PctDiscCH  ListPriceDiff  STORE  \n",
       "0   0.000000   0.000000           0.24      1  \n",
       "1   0.150754   0.000000           0.24      1  \n",
       "2   0.000000   0.091398           0.23      1  \n",
       "3   0.000000   0.000000           0.00      1  \n",
       "4   0.000000   0.000000           0.00      0  "
      ]
     },
     "metadata": {},
     "output_type": "display_data"
    }
   ],
   "source": [
    "df=get_data(\"juice\")"
   ]
  },
  {
   "cell_type": "code",
   "execution_count": 6,
   "metadata": {},
   "outputs": [],
   "source": [
    "########### Classification Example"
   ]
  },
  {
   "cell_type": "code",
   "execution_count": 7,
   "metadata": {},
   "outputs": [
    {
     "data": {
      "text/html": [
       "<div>\n",
       "<style scoped>\n",
       "    .dataframe tbody tr th:only-of-type {\n",
       "        vertical-align: middle;\n",
       "    }\n",
       "\n",
       "    .dataframe tbody tr th {\n",
       "        vertical-align: top;\n",
       "    }\n",
       "\n",
       "    .dataframe thead th {\n",
       "        text-align: right;\n",
       "    }\n",
       "</style>\n",
       "<table border=\"1\" class=\"dataframe\">\n",
       "  <thead>\n",
       "    <tr style=\"text-align: right;\">\n",
       "      <th></th>\n",
       "      <th>Number of times pregnant</th>\n",
       "      <th>Plasma glucose concentration a 2 hours in an oral glucose tolerance test</th>\n",
       "      <th>Diastolic blood pressure (mm Hg)</th>\n",
       "      <th>Triceps skin fold thickness (mm)</th>\n",
       "      <th>2-Hour serum insulin (mu U/ml)</th>\n",
       "      <th>Body mass index (weight in kg/(height in m)^2)</th>\n",
       "      <th>Diabetes pedigree function</th>\n",
       "      <th>Age (years)</th>\n",
       "      <th>Class variable</th>\n",
       "    </tr>\n",
       "  </thead>\n",
       "  <tbody>\n",
       "    <tr>\n",
       "      <th>0</th>\n",
       "      <td>6</td>\n",
       "      <td>148</td>\n",
       "      <td>72</td>\n",
       "      <td>35</td>\n",
       "      <td>0</td>\n",
       "      <td>33.6</td>\n",
       "      <td>0.627</td>\n",
       "      <td>50</td>\n",
       "      <td>1</td>\n",
       "    </tr>\n",
       "    <tr>\n",
       "      <th>1</th>\n",
       "      <td>1</td>\n",
       "      <td>85</td>\n",
       "      <td>66</td>\n",
       "      <td>29</td>\n",
       "      <td>0</td>\n",
       "      <td>26.6</td>\n",
       "      <td>0.351</td>\n",
       "      <td>31</td>\n",
       "      <td>0</td>\n",
       "    </tr>\n",
       "    <tr>\n",
       "      <th>2</th>\n",
       "      <td>8</td>\n",
       "      <td>183</td>\n",
       "      <td>64</td>\n",
       "      <td>0</td>\n",
       "      <td>0</td>\n",
       "      <td>23.3</td>\n",
       "      <td>0.672</td>\n",
       "      <td>32</td>\n",
       "      <td>1</td>\n",
       "    </tr>\n",
       "    <tr>\n",
       "      <th>3</th>\n",
       "      <td>1</td>\n",
       "      <td>89</td>\n",
       "      <td>66</td>\n",
       "      <td>23</td>\n",
       "      <td>94</td>\n",
       "      <td>28.1</td>\n",
       "      <td>0.167</td>\n",
       "      <td>21</td>\n",
       "      <td>0</td>\n",
       "    </tr>\n",
       "    <tr>\n",
       "      <th>4</th>\n",
       "      <td>0</td>\n",
       "      <td>137</td>\n",
       "      <td>40</td>\n",
       "      <td>35</td>\n",
       "      <td>168</td>\n",
       "      <td>43.1</td>\n",
       "      <td>2.288</td>\n",
       "      <td>33</td>\n",
       "      <td>1</td>\n",
       "    </tr>\n",
       "  </tbody>\n",
       "</table>\n",
       "</div>"
      ],
      "text/plain": [
       "   Number of times pregnant  \\\n",
       "0                         6   \n",
       "1                         1   \n",
       "2                         8   \n",
       "3                         1   \n",
       "4                         0   \n",
       "\n",
       "   Plasma glucose concentration a 2 hours in an oral glucose tolerance test  \\\n",
       "0                                                148                          \n",
       "1                                                 85                          \n",
       "2                                                183                          \n",
       "3                                                 89                          \n",
       "4                                                137                          \n",
       "\n",
       "   Diastolic blood pressure (mm Hg)  Triceps skin fold thickness (mm)  \\\n",
       "0                                72                                35   \n",
       "1                                66                                29   \n",
       "2                                64                                 0   \n",
       "3                                66                                23   \n",
       "4                                40                                35   \n",
       "\n",
       "   2-Hour serum insulin (mu U/ml)  \\\n",
       "0                               0   \n",
       "1                               0   \n",
       "2                               0   \n",
       "3                              94   \n",
       "4                             168   \n",
       "\n",
       "   Body mass index (weight in kg/(height in m)^2)  Diabetes pedigree function  \\\n",
       "0                                            33.6                       0.627   \n",
       "1                                            26.6                       0.351   \n",
       "2                                            23.3                       0.672   \n",
       "3                                            28.1                       0.167   \n",
       "4                                            43.1                       2.288   \n",
       "\n",
       "   Age (years)  Class variable  \n",
       "0           50               1  \n",
       "1           31               0  \n",
       "2           32               1  \n",
       "3           21               0  \n",
       "4           33               1  "
      ]
     },
     "metadata": {},
     "output_type": "display_data"
    }
   ],
   "source": [
    "diabetes_df = get_data(\"diabetes\")"
   ]
  },
  {
   "cell_type": "code",
   "execution_count": 8,
   "metadata": {},
   "outputs": [],
   "source": [
    "from pycaret.classification import *"
   ]
  },
  {
   "cell_type": "code",
   "execution_count": 9,
   "metadata": {},
   "outputs": [
    {
     "name": "stdout",
     "output_type": "stream",
     "text": [
      " \n",
      "Setup Succesfully Completed!\n"
     ]
    },
    {
     "data": {
      "text/html": [
       "<style  type=\"text/css\" >\n",
       "</style><table id=\"T_cd9fdea2_cfc5_11ea_ad7a_c8d9d2ac7d3b\" ><thead>    <tr>        <th class=\"blank level0\" ></th>        <th class=\"col_heading level0 col0\" >Description</th>        <th class=\"col_heading level0 col1\" >Value</th>    </tr></thead><tbody>\n",
       "                <tr>\n",
       "                        <th id=\"T_cd9fdea2_cfc5_11ea_ad7a_c8d9d2ac7d3blevel0_row0\" class=\"row_heading level0 row0\" >0</th>\n",
       "                        <td id=\"T_cd9fdea2_cfc5_11ea_ad7a_c8d9d2ac7d3brow0_col0\" class=\"data row0 col0\" >session_id</td>\n",
       "                        <td id=\"T_cd9fdea2_cfc5_11ea_ad7a_c8d9d2ac7d3brow0_col1\" class=\"data row0 col1\" >1624</td>\n",
       "            </tr>\n",
       "            <tr>\n",
       "                        <th id=\"T_cd9fdea2_cfc5_11ea_ad7a_c8d9d2ac7d3blevel0_row1\" class=\"row_heading level0 row1\" >1</th>\n",
       "                        <td id=\"T_cd9fdea2_cfc5_11ea_ad7a_c8d9d2ac7d3brow1_col0\" class=\"data row1 col0\" >Target Type</td>\n",
       "                        <td id=\"T_cd9fdea2_cfc5_11ea_ad7a_c8d9d2ac7d3brow1_col1\" class=\"data row1 col1\" >Binary</td>\n",
       "            </tr>\n",
       "            <tr>\n",
       "                        <th id=\"T_cd9fdea2_cfc5_11ea_ad7a_c8d9d2ac7d3blevel0_row2\" class=\"row_heading level0 row2\" >2</th>\n",
       "                        <td id=\"T_cd9fdea2_cfc5_11ea_ad7a_c8d9d2ac7d3brow2_col0\" class=\"data row2 col0\" >Label Encoded</td>\n",
       "                        <td id=\"T_cd9fdea2_cfc5_11ea_ad7a_c8d9d2ac7d3brow2_col1\" class=\"data row2 col1\" >None</td>\n",
       "            </tr>\n",
       "            <tr>\n",
       "                        <th id=\"T_cd9fdea2_cfc5_11ea_ad7a_c8d9d2ac7d3blevel0_row3\" class=\"row_heading level0 row3\" >3</th>\n",
       "                        <td id=\"T_cd9fdea2_cfc5_11ea_ad7a_c8d9d2ac7d3brow3_col0\" class=\"data row3 col0\" >Original Data</td>\n",
       "                        <td id=\"T_cd9fdea2_cfc5_11ea_ad7a_c8d9d2ac7d3brow3_col1\" class=\"data row3 col1\" >(768, 9)</td>\n",
       "            </tr>\n",
       "            <tr>\n",
       "                        <th id=\"T_cd9fdea2_cfc5_11ea_ad7a_c8d9d2ac7d3blevel0_row4\" class=\"row_heading level0 row4\" >4</th>\n",
       "                        <td id=\"T_cd9fdea2_cfc5_11ea_ad7a_c8d9d2ac7d3brow4_col0\" class=\"data row4 col0\" >Missing Values </td>\n",
       "                        <td id=\"T_cd9fdea2_cfc5_11ea_ad7a_c8d9d2ac7d3brow4_col1\" class=\"data row4 col1\" >False</td>\n",
       "            </tr>\n",
       "            <tr>\n",
       "                        <th id=\"T_cd9fdea2_cfc5_11ea_ad7a_c8d9d2ac7d3blevel0_row5\" class=\"row_heading level0 row5\" >5</th>\n",
       "                        <td id=\"T_cd9fdea2_cfc5_11ea_ad7a_c8d9d2ac7d3brow5_col0\" class=\"data row5 col0\" >Numeric Features </td>\n",
       "                        <td id=\"T_cd9fdea2_cfc5_11ea_ad7a_c8d9d2ac7d3brow5_col1\" class=\"data row5 col1\" >7</td>\n",
       "            </tr>\n",
       "            <tr>\n",
       "                        <th id=\"T_cd9fdea2_cfc5_11ea_ad7a_c8d9d2ac7d3blevel0_row6\" class=\"row_heading level0 row6\" >6</th>\n",
       "                        <td id=\"T_cd9fdea2_cfc5_11ea_ad7a_c8d9d2ac7d3brow6_col0\" class=\"data row6 col0\" >Categorical Features </td>\n",
       "                        <td id=\"T_cd9fdea2_cfc5_11ea_ad7a_c8d9d2ac7d3brow6_col1\" class=\"data row6 col1\" >1</td>\n",
       "            </tr>\n",
       "            <tr>\n",
       "                        <th id=\"T_cd9fdea2_cfc5_11ea_ad7a_c8d9d2ac7d3blevel0_row7\" class=\"row_heading level0 row7\" >7</th>\n",
       "                        <td id=\"T_cd9fdea2_cfc5_11ea_ad7a_c8d9d2ac7d3brow7_col0\" class=\"data row7 col0\" >Ordinal Features </td>\n",
       "                        <td id=\"T_cd9fdea2_cfc5_11ea_ad7a_c8d9d2ac7d3brow7_col1\" class=\"data row7 col1\" >False</td>\n",
       "            </tr>\n",
       "            <tr>\n",
       "                        <th id=\"T_cd9fdea2_cfc5_11ea_ad7a_c8d9d2ac7d3blevel0_row8\" class=\"row_heading level0 row8\" >8</th>\n",
       "                        <td id=\"T_cd9fdea2_cfc5_11ea_ad7a_c8d9d2ac7d3brow8_col0\" class=\"data row8 col0\" >High Cardinality Features </td>\n",
       "                        <td id=\"T_cd9fdea2_cfc5_11ea_ad7a_c8d9d2ac7d3brow8_col1\" class=\"data row8 col1\" >False</td>\n",
       "            </tr>\n",
       "            <tr>\n",
       "                        <th id=\"T_cd9fdea2_cfc5_11ea_ad7a_c8d9d2ac7d3blevel0_row9\" class=\"row_heading level0 row9\" >9</th>\n",
       "                        <td id=\"T_cd9fdea2_cfc5_11ea_ad7a_c8d9d2ac7d3brow9_col0\" class=\"data row9 col0\" >High Cardinality Method </td>\n",
       "                        <td id=\"T_cd9fdea2_cfc5_11ea_ad7a_c8d9d2ac7d3brow9_col1\" class=\"data row9 col1\" >None</td>\n",
       "            </tr>\n",
       "            <tr>\n",
       "                        <th id=\"T_cd9fdea2_cfc5_11ea_ad7a_c8d9d2ac7d3blevel0_row10\" class=\"row_heading level0 row10\" >10</th>\n",
       "                        <td id=\"T_cd9fdea2_cfc5_11ea_ad7a_c8d9d2ac7d3brow10_col0\" class=\"data row10 col0\" >Sampled Data</td>\n",
       "                        <td id=\"T_cd9fdea2_cfc5_11ea_ad7a_c8d9d2ac7d3brow10_col1\" class=\"data row10 col1\" >(768, 9)</td>\n",
       "            </tr>\n",
       "            <tr>\n",
       "                        <th id=\"T_cd9fdea2_cfc5_11ea_ad7a_c8d9d2ac7d3blevel0_row11\" class=\"row_heading level0 row11\" >11</th>\n",
       "                        <td id=\"T_cd9fdea2_cfc5_11ea_ad7a_c8d9d2ac7d3brow11_col0\" class=\"data row11 col0\" >Transformed Train Set</td>\n",
       "                        <td id=\"T_cd9fdea2_cfc5_11ea_ad7a_c8d9d2ac7d3brow11_col1\" class=\"data row11 col1\" >(537, 24)</td>\n",
       "            </tr>\n",
       "            <tr>\n",
       "                        <th id=\"T_cd9fdea2_cfc5_11ea_ad7a_c8d9d2ac7d3blevel0_row12\" class=\"row_heading level0 row12\" >12</th>\n",
       "                        <td id=\"T_cd9fdea2_cfc5_11ea_ad7a_c8d9d2ac7d3brow12_col0\" class=\"data row12 col0\" >Transformed Test Set</td>\n",
       "                        <td id=\"T_cd9fdea2_cfc5_11ea_ad7a_c8d9d2ac7d3brow12_col1\" class=\"data row12 col1\" >(231, 24)</td>\n",
       "            </tr>\n",
       "            <tr>\n",
       "                        <th id=\"T_cd9fdea2_cfc5_11ea_ad7a_c8d9d2ac7d3blevel0_row13\" class=\"row_heading level0 row13\" >13</th>\n",
       "                        <td id=\"T_cd9fdea2_cfc5_11ea_ad7a_c8d9d2ac7d3brow13_col0\" class=\"data row13 col0\" >Numeric Imputer </td>\n",
       "                        <td id=\"T_cd9fdea2_cfc5_11ea_ad7a_c8d9d2ac7d3brow13_col1\" class=\"data row13 col1\" >mean</td>\n",
       "            </tr>\n",
       "            <tr>\n",
       "                        <th id=\"T_cd9fdea2_cfc5_11ea_ad7a_c8d9d2ac7d3blevel0_row14\" class=\"row_heading level0 row14\" >14</th>\n",
       "                        <td id=\"T_cd9fdea2_cfc5_11ea_ad7a_c8d9d2ac7d3brow14_col0\" class=\"data row14 col0\" >Categorical Imputer </td>\n",
       "                        <td id=\"T_cd9fdea2_cfc5_11ea_ad7a_c8d9d2ac7d3brow14_col1\" class=\"data row14 col1\" >constant</td>\n",
       "            </tr>\n",
       "            <tr>\n",
       "                        <th id=\"T_cd9fdea2_cfc5_11ea_ad7a_c8d9d2ac7d3blevel0_row15\" class=\"row_heading level0 row15\" >15</th>\n",
       "                        <td id=\"T_cd9fdea2_cfc5_11ea_ad7a_c8d9d2ac7d3brow15_col0\" class=\"data row15 col0\" >Normalize </td>\n",
       "                        <td id=\"T_cd9fdea2_cfc5_11ea_ad7a_c8d9d2ac7d3brow15_col1\" class=\"data row15 col1\" >False</td>\n",
       "            </tr>\n",
       "            <tr>\n",
       "                        <th id=\"T_cd9fdea2_cfc5_11ea_ad7a_c8d9d2ac7d3blevel0_row16\" class=\"row_heading level0 row16\" >16</th>\n",
       "                        <td id=\"T_cd9fdea2_cfc5_11ea_ad7a_c8d9d2ac7d3brow16_col0\" class=\"data row16 col0\" >Normalize Method </td>\n",
       "                        <td id=\"T_cd9fdea2_cfc5_11ea_ad7a_c8d9d2ac7d3brow16_col1\" class=\"data row16 col1\" >None</td>\n",
       "            </tr>\n",
       "            <tr>\n",
       "                        <th id=\"T_cd9fdea2_cfc5_11ea_ad7a_c8d9d2ac7d3blevel0_row17\" class=\"row_heading level0 row17\" >17</th>\n",
       "                        <td id=\"T_cd9fdea2_cfc5_11ea_ad7a_c8d9d2ac7d3brow17_col0\" class=\"data row17 col0\" >Transformation </td>\n",
       "                        <td id=\"T_cd9fdea2_cfc5_11ea_ad7a_c8d9d2ac7d3brow17_col1\" class=\"data row17 col1\" >False</td>\n",
       "            </tr>\n",
       "            <tr>\n",
       "                        <th id=\"T_cd9fdea2_cfc5_11ea_ad7a_c8d9d2ac7d3blevel0_row18\" class=\"row_heading level0 row18\" >18</th>\n",
       "                        <td id=\"T_cd9fdea2_cfc5_11ea_ad7a_c8d9d2ac7d3brow18_col0\" class=\"data row18 col0\" >Transformation Method </td>\n",
       "                        <td id=\"T_cd9fdea2_cfc5_11ea_ad7a_c8d9d2ac7d3brow18_col1\" class=\"data row18 col1\" >None</td>\n",
       "            </tr>\n",
       "            <tr>\n",
       "                        <th id=\"T_cd9fdea2_cfc5_11ea_ad7a_c8d9d2ac7d3blevel0_row19\" class=\"row_heading level0 row19\" >19</th>\n",
       "                        <td id=\"T_cd9fdea2_cfc5_11ea_ad7a_c8d9d2ac7d3brow19_col0\" class=\"data row19 col0\" >PCA </td>\n",
       "                        <td id=\"T_cd9fdea2_cfc5_11ea_ad7a_c8d9d2ac7d3brow19_col1\" class=\"data row19 col1\" >False</td>\n",
       "            </tr>\n",
       "            <tr>\n",
       "                        <th id=\"T_cd9fdea2_cfc5_11ea_ad7a_c8d9d2ac7d3blevel0_row20\" class=\"row_heading level0 row20\" >20</th>\n",
       "                        <td id=\"T_cd9fdea2_cfc5_11ea_ad7a_c8d9d2ac7d3brow20_col0\" class=\"data row20 col0\" >PCA Method </td>\n",
       "                        <td id=\"T_cd9fdea2_cfc5_11ea_ad7a_c8d9d2ac7d3brow20_col1\" class=\"data row20 col1\" >None</td>\n",
       "            </tr>\n",
       "            <tr>\n",
       "                        <th id=\"T_cd9fdea2_cfc5_11ea_ad7a_c8d9d2ac7d3blevel0_row21\" class=\"row_heading level0 row21\" >21</th>\n",
       "                        <td id=\"T_cd9fdea2_cfc5_11ea_ad7a_c8d9d2ac7d3brow21_col0\" class=\"data row21 col0\" >PCA Components </td>\n",
       "                        <td id=\"T_cd9fdea2_cfc5_11ea_ad7a_c8d9d2ac7d3brow21_col1\" class=\"data row21 col1\" >None</td>\n",
       "            </tr>\n",
       "            <tr>\n",
       "                        <th id=\"T_cd9fdea2_cfc5_11ea_ad7a_c8d9d2ac7d3blevel0_row22\" class=\"row_heading level0 row22\" >22</th>\n",
       "                        <td id=\"T_cd9fdea2_cfc5_11ea_ad7a_c8d9d2ac7d3brow22_col0\" class=\"data row22 col0\" >Ignore Low Variance </td>\n",
       "                        <td id=\"T_cd9fdea2_cfc5_11ea_ad7a_c8d9d2ac7d3brow22_col1\" class=\"data row22 col1\" >False</td>\n",
       "            </tr>\n",
       "            <tr>\n",
       "                        <th id=\"T_cd9fdea2_cfc5_11ea_ad7a_c8d9d2ac7d3blevel0_row23\" class=\"row_heading level0 row23\" >23</th>\n",
       "                        <td id=\"T_cd9fdea2_cfc5_11ea_ad7a_c8d9d2ac7d3brow23_col0\" class=\"data row23 col0\" >Combine Rare Levels </td>\n",
       "                        <td id=\"T_cd9fdea2_cfc5_11ea_ad7a_c8d9d2ac7d3brow23_col1\" class=\"data row23 col1\" >False</td>\n",
       "            </tr>\n",
       "            <tr>\n",
       "                        <th id=\"T_cd9fdea2_cfc5_11ea_ad7a_c8d9d2ac7d3blevel0_row24\" class=\"row_heading level0 row24\" >24</th>\n",
       "                        <td id=\"T_cd9fdea2_cfc5_11ea_ad7a_c8d9d2ac7d3brow24_col0\" class=\"data row24 col0\" >Rare Level Threshold </td>\n",
       "                        <td id=\"T_cd9fdea2_cfc5_11ea_ad7a_c8d9d2ac7d3brow24_col1\" class=\"data row24 col1\" >None</td>\n",
       "            </tr>\n",
       "            <tr>\n",
       "                        <th id=\"T_cd9fdea2_cfc5_11ea_ad7a_c8d9d2ac7d3blevel0_row25\" class=\"row_heading level0 row25\" >25</th>\n",
       "                        <td id=\"T_cd9fdea2_cfc5_11ea_ad7a_c8d9d2ac7d3brow25_col0\" class=\"data row25 col0\" >Numeric Binning </td>\n",
       "                        <td id=\"T_cd9fdea2_cfc5_11ea_ad7a_c8d9d2ac7d3brow25_col1\" class=\"data row25 col1\" >False</td>\n",
       "            </tr>\n",
       "            <tr>\n",
       "                        <th id=\"T_cd9fdea2_cfc5_11ea_ad7a_c8d9d2ac7d3blevel0_row26\" class=\"row_heading level0 row26\" >26</th>\n",
       "                        <td id=\"T_cd9fdea2_cfc5_11ea_ad7a_c8d9d2ac7d3brow26_col0\" class=\"data row26 col0\" >Remove Outliers </td>\n",
       "                        <td id=\"T_cd9fdea2_cfc5_11ea_ad7a_c8d9d2ac7d3brow26_col1\" class=\"data row26 col1\" >False</td>\n",
       "            </tr>\n",
       "            <tr>\n",
       "                        <th id=\"T_cd9fdea2_cfc5_11ea_ad7a_c8d9d2ac7d3blevel0_row27\" class=\"row_heading level0 row27\" >27</th>\n",
       "                        <td id=\"T_cd9fdea2_cfc5_11ea_ad7a_c8d9d2ac7d3brow27_col0\" class=\"data row27 col0\" >Outliers Threshold </td>\n",
       "                        <td id=\"T_cd9fdea2_cfc5_11ea_ad7a_c8d9d2ac7d3brow27_col1\" class=\"data row27 col1\" >None</td>\n",
       "            </tr>\n",
       "            <tr>\n",
       "                        <th id=\"T_cd9fdea2_cfc5_11ea_ad7a_c8d9d2ac7d3blevel0_row28\" class=\"row_heading level0 row28\" >28</th>\n",
       "                        <td id=\"T_cd9fdea2_cfc5_11ea_ad7a_c8d9d2ac7d3brow28_col0\" class=\"data row28 col0\" >Remove Multicollinearity </td>\n",
       "                        <td id=\"T_cd9fdea2_cfc5_11ea_ad7a_c8d9d2ac7d3brow28_col1\" class=\"data row28 col1\" >False</td>\n",
       "            </tr>\n",
       "            <tr>\n",
       "                        <th id=\"T_cd9fdea2_cfc5_11ea_ad7a_c8d9d2ac7d3blevel0_row29\" class=\"row_heading level0 row29\" >29</th>\n",
       "                        <td id=\"T_cd9fdea2_cfc5_11ea_ad7a_c8d9d2ac7d3brow29_col0\" class=\"data row29 col0\" >Multicollinearity Threshold </td>\n",
       "                        <td id=\"T_cd9fdea2_cfc5_11ea_ad7a_c8d9d2ac7d3brow29_col1\" class=\"data row29 col1\" >None</td>\n",
       "            </tr>\n",
       "            <tr>\n",
       "                        <th id=\"T_cd9fdea2_cfc5_11ea_ad7a_c8d9d2ac7d3blevel0_row30\" class=\"row_heading level0 row30\" >30</th>\n",
       "                        <td id=\"T_cd9fdea2_cfc5_11ea_ad7a_c8d9d2ac7d3brow30_col0\" class=\"data row30 col0\" >Clustering </td>\n",
       "                        <td id=\"T_cd9fdea2_cfc5_11ea_ad7a_c8d9d2ac7d3brow30_col1\" class=\"data row30 col1\" >False</td>\n",
       "            </tr>\n",
       "            <tr>\n",
       "                        <th id=\"T_cd9fdea2_cfc5_11ea_ad7a_c8d9d2ac7d3blevel0_row31\" class=\"row_heading level0 row31\" >31</th>\n",
       "                        <td id=\"T_cd9fdea2_cfc5_11ea_ad7a_c8d9d2ac7d3brow31_col0\" class=\"data row31 col0\" >Clustering Iteration </td>\n",
       "                        <td id=\"T_cd9fdea2_cfc5_11ea_ad7a_c8d9d2ac7d3brow31_col1\" class=\"data row31 col1\" >None</td>\n",
       "            </tr>\n",
       "            <tr>\n",
       "                        <th id=\"T_cd9fdea2_cfc5_11ea_ad7a_c8d9d2ac7d3blevel0_row32\" class=\"row_heading level0 row32\" >32</th>\n",
       "                        <td id=\"T_cd9fdea2_cfc5_11ea_ad7a_c8d9d2ac7d3brow32_col0\" class=\"data row32 col0\" >Polynomial Features </td>\n",
       "                        <td id=\"T_cd9fdea2_cfc5_11ea_ad7a_c8d9d2ac7d3brow32_col1\" class=\"data row32 col1\" >False</td>\n",
       "            </tr>\n",
       "            <tr>\n",
       "                        <th id=\"T_cd9fdea2_cfc5_11ea_ad7a_c8d9d2ac7d3blevel0_row33\" class=\"row_heading level0 row33\" >33</th>\n",
       "                        <td id=\"T_cd9fdea2_cfc5_11ea_ad7a_c8d9d2ac7d3brow33_col0\" class=\"data row33 col0\" >Polynomial Degree </td>\n",
       "                        <td id=\"T_cd9fdea2_cfc5_11ea_ad7a_c8d9d2ac7d3brow33_col1\" class=\"data row33 col1\" >None</td>\n",
       "            </tr>\n",
       "            <tr>\n",
       "                        <th id=\"T_cd9fdea2_cfc5_11ea_ad7a_c8d9d2ac7d3blevel0_row34\" class=\"row_heading level0 row34\" >34</th>\n",
       "                        <td id=\"T_cd9fdea2_cfc5_11ea_ad7a_c8d9d2ac7d3brow34_col0\" class=\"data row34 col0\" >Trignometry Features </td>\n",
       "                        <td id=\"T_cd9fdea2_cfc5_11ea_ad7a_c8d9d2ac7d3brow34_col1\" class=\"data row34 col1\" >False</td>\n",
       "            </tr>\n",
       "            <tr>\n",
       "                        <th id=\"T_cd9fdea2_cfc5_11ea_ad7a_c8d9d2ac7d3blevel0_row35\" class=\"row_heading level0 row35\" >35</th>\n",
       "                        <td id=\"T_cd9fdea2_cfc5_11ea_ad7a_c8d9d2ac7d3brow35_col0\" class=\"data row35 col0\" >Polynomial Threshold </td>\n",
       "                        <td id=\"T_cd9fdea2_cfc5_11ea_ad7a_c8d9d2ac7d3brow35_col1\" class=\"data row35 col1\" >None</td>\n",
       "            </tr>\n",
       "            <tr>\n",
       "                        <th id=\"T_cd9fdea2_cfc5_11ea_ad7a_c8d9d2ac7d3blevel0_row36\" class=\"row_heading level0 row36\" >36</th>\n",
       "                        <td id=\"T_cd9fdea2_cfc5_11ea_ad7a_c8d9d2ac7d3brow36_col0\" class=\"data row36 col0\" >Group Features </td>\n",
       "                        <td id=\"T_cd9fdea2_cfc5_11ea_ad7a_c8d9d2ac7d3brow36_col1\" class=\"data row36 col1\" >False</td>\n",
       "            </tr>\n",
       "            <tr>\n",
       "                        <th id=\"T_cd9fdea2_cfc5_11ea_ad7a_c8d9d2ac7d3blevel0_row37\" class=\"row_heading level0 row37\" >37</th>\n",
       "                        <td id=\"T_cd9fdea2_cfc5_11ea_ad7a_c8d9d2ac7d3brow37_col0\" class=\"data row37 col0\" >Feature Selection </td>\n",
       "                        <td id=\"T_cd9fdea2_cfc5_11ea_ad7a_c8d9d2ac7d3brow37_col1\" class=\"data row37 col1\" >False</td>\n",
       "            </tr>\n",
       "            <tr>\n",
       "                        <th id=\"T_cd9fdea2_cfc5_11ea_ad7a_c8d9d2ac7d3blevel0_row38\" class=\"row_heading level0 row38\" >38</th>\n",
       "                        <td id=\"T_cd9fdea2_cfc5_11ea_ad7a_c8d9d2ac7d3brow38_col0\" class=\"data row38 col0\" >Features Selection Threshold </td>\n",
       "                        <td id=\"T_cd9fdea2_cfc5_11ea_ad7a_c8d9d2ac7d3brow38_col1\" class=\"data row38 col1\" >None</td>\n",
       "            </tr>\n",
       "            <tr>\n",
       "                        <th id=\"T_cd9fdea2_cfc5_11ea_ad7a_c8d9d2ac7d3blevel0_row39\" class=\"row_heading level0 row39\" >39</th>\n",
       "                        <td id=\"T_cd9fdea2_cfc5_11ea_ad7a_c8d9d2ac7d3brow39_col0\" class=\"data row39 col0\" >Feature Interaction </td>\n",
       "                        <td id=\"T_cd9fdea2_cfc5_11ea_ad7a_c8d9d2ac7d3brow39_col1\" class=\"data row39 col1\" >False</td>\n",
       "            </tr>\n",
       "            <tr>\n",
       "                        <th id=\"T_cd9fdea2_cfc5_11ea_ad7a_c8d9d2ac7d3blevel0_row40\" class=\"row_heading level0 row40\" >40</th>\n",
       "                        <td id=\"T_cd9fdea2_cfc5_11ea_ad7a_c8d9d2ac7d3brow40_col0\" class=\"data row40 col0\" >Feature Ratio </td>\n",
       "                        <td id=\"T_cd9fdea2_cfc5_11ea_ad7a_c8d9d2ac7d3brow40_col1\" class=\"data row40 col1\" >False</td>\n",
       "            </tr>\n",
       "            <tr>\n",
       "                        <th id=\"T_cd9fdea2_cfc5_11ea_ad7a_c8d9d2ac7d3blevel0_row41\" class=\"row_heading level0 row41\" >41</th>\n",
       "                        <td id=\"T_cd9fdea2_cfc5_11ea_ad7a_c8d9d2ac7d3brow41_col0\" class=\"data row41 col0\" >Interaction Threshold </td>\n",
       "                        <td id=\"T_cd9fdea2_cfc5_11ea_ad7a_c8d9d2ac7d3brow41_col1\" class=\"data row41 col1\" >None</td>\n",
       "            </tr>\n",
       "    </tbody></table>"
      ],
      "text/plain": [
       "<pandas.io.formats.style.Styler at 0x29f08b30940>"
      ]
     },
     "metadata": {},
     "output_type": "display_data"
    }
   ],
   "source": [
    "clf = setup(diabetes_df,target=\"Class variable\")"
   ]
  },
  {
   "cell_type": "code",
   "execution_count": 10,
   "metadata": {},
   "outputs": [],
   "source": [
    "######### Comparing Models"
   ]
  },
  {
   "cell_type": "code",
   "execution_count": 11,
   "metadata": {},
   "outputs": [
    {
     "data": {
      "text/html": [
       "<style  type=\"text/css\" >\n",
       "    #T_86aa805c_cfc9_11ea_acd4_c8d9d2ac7d3b th {\n",
       "          text-align: left;\n",
       "    }    #T_86aa805c_cfc9_11ea_acd4_c8d9d2ac7d3brow0_col0 {\n",
       "            text-align:  left;\n",
       "        }    #T_86aa805c_cfc9_11ea_acd4_c8d9d2ac7d3brow0_col1 {\n",
       "            background-color:  yellow;\n",
       "            text-align:  left;\n",
       "        }    #T_86aa805c_cfc9_11ea_acd4_c8d9d2ac7d3brow0_col2 {\n",
       "            : ;\n",
       "            text-align:  left;\n",
       "        }    #T_86aa805c_cfc9_11ea_acd4_c8d9d2ac7d3brow0_col3 {\n",
       "            : ;\n",
       "            text-align:  left;\n",
       "        }    #T_86aa805c_cfc9_11ea_acd4_c8d9d2ac7d3brow0_col4 {\n",
       "            background-color:  yellow;\n",
       "            text-align:  left;\n",
       "        }    #T_86aa805c_cfc9_11ea_acd4_c8d9d2ac7d3brow0_col5 {\n",
       "            : ;\n",
       "            text-align:  left;\n",
       "        }    #T_86aa805c_cfc9_11ea_acd4_c8d9d2ac7d3brow0_col6 {\n",
       "            : ;\n",
       "            text-align:  left;\n",
       "        }    #T_86aa805c_cfc9_11ea_acd4_c8d9d2ac7d3brow1_col0 {\n",
       "            text-align:  left;\n",
       "        }    #T_86aa805c_cfc9_11ea_acd4_c8d9d2ac7d3brow1_col1 {\n",
       "            : ;\n",
       "            text-align:  left;\n",
       "        }    #T_86aa805c_cfc9_11ea_acd4_c8d9d2ac7d3brow1_col2 {\n",
       "            : ;\n",
       "            text-align:  left;\n",
       "        }    #T_86aa805c_cfc9_11ea_acd4_c8d9d2ac7d3brow1_col3 {\n",
       "            : ;\n",
       "            text-align:  left;\n",
       "        }    #T_86aa805c_cfc9_11ea_acd4_c8d9d2ac7d3brow1_col4 {\n",
       "            : ;\n",
       "            text-align:  left;\n",
       "        }    #T_86aa805c_cfc9_11ea_acd4_c8d9d2ac7d3brow1_col5 {\n",
       "            : ;\n",
       "            text-align:  left;\n",
       "        }    #T_86aa805c_cfc9_11ea_acd4_c8d9d2ac7d3brow1_col6 {\n",
       "            background-color:  yellow;\n",
       "            text-align:  left;\n",
       "        }    #T_86aa805c_cfc9_11ea_acd4_c8d9d2ac7d3brow2_col0 {\n",
       "            text-align:  left;\n",
       "        }    #T_86aa805c_cfc9_11ea_acd4_c8d9d2ac7d3brow2_col1 {\n",
       "            : ;\n",
       "            text-align:  left;\n",
       "        }    #T_86aa805c_cfc9_11ea_acd4_c8d9d2ac7d3brow2_col2 {\n",
       "            : ;\n",
       "            text-align:  left;\n",
       "        }    #T_86aa805c_cfc9_11ea_acd4_c8d9d2ac7d3brow2_col3 {\n",
       "            : ;\n",
       "            text-align:  left;\n",
       "        }    #T_86aa805c_cfc9_11ea_acd4_c8d9d2ac7d3brow2_col4 {\n",
       "            : ;\n",
       "            text-align:  left;\n",
       "        }    #T_86aa805c_cfc9_11ea_acd4_c8d9d2ac7d3brow2_col5 {\n",
       "            : ;\n",
       "            text-align:  left;\n",
       "        }    #T_86aa805c_cfc9_11ea_acd4_c8d9d2ac7d3brow2_col6 {\n",
       "            : ;\n",
       "            text-align:  left;\n",
       "        }    #T_86aa805c_cfc9_11ea_acd4_c8d9d2ac7d3brow3_col0 {\n",
       "            text-align:  left;\n",
       "        }    #T_86aa805c_cfc9_11ea_acd4_c8d9d2ac7d3brow3_col1 {\n",
       "            : ;\n",
       "            text-align:  left;\n",
       "        }    #T_86aa805c_cfc9_11ea_acd4_c8d9d2ac7d3brow3_col2 {\n",
       "            : ;\n",
       "            text-align:  left;\n",
       "        }    #T_86aa805c_cfc9_11ea_acd4_c8d9d2ac7d3brow3_col3 {\n",
       "            : ;\n",
       "            text-align:  left;\n",
       "        }    #T_86aa805c_cfc9_11ea_acd4_c8d9d2ac7d3brow3_col4 {\n",
       "            : ;\n",
       "            text-align:  left;\n",
       "        }    #T_86aa805c_cfc9_11ea_acd4_c8d9d2ac7d3brow3_col5 {\n",
       "            : ;\n",
       "            text-align:  left;\n",
       "        }    #T_86aa805c_cfc9_11ea_acd4_c8d9d2ac7d3brow3_col6 {\n",
       "            : ;\n",
       "            text-align:  left;\n",
       "        }    #T_86aa805c_cfc9_11ea_acd4_c8d9d2ac7d3brow4_col0 {\n",
       "            text-align:  left;\n",
       "        }    #T_86aa805c_cfc9_11ea_acd4_c8d9d2ac7d3brow4_col1 {\n",
       "            : ;\n",
       "            text-align:  left;\n",
       "        }    #T_86aa805c_cfc9_11ea_acd4_c8d9d2ac7d3brow4_col2 {\n",
       "            : ;\n",
       "            text-align:  left;\n",
       "        }    #T_86aa805c_cfc9_11ea_acd4_c8d9d2ac7d3brow4_col3 {\n",
       "            background-color:  yellow;\n",
       "            text-align:  left;\n",
       "        }    #T_86aa805c_cfc9_11ea_acd4_c8d9d2ac7d3brow4_col4 {\n",
       "            : ;\n",
       "            text-align:  left;\n",
       "        }    #T_86aa805c_cfc9_11ea_acd4_c8d9d2ac7d3brow4_col5 {\n",
       "            background-color:  yellow;\n",
       "            text-align:  left;\n",
       "        }    #T_86aa805c_cfc9_11ea_acd4_c8d9d2ac7d3brow4_col6 {\n",
       "            : ;\n",
       "            text-align:  left;\n",
       "        }    #T_86aa805c_cfc9_11ea_acd4_c8d9d2ac7d3brow5_col0 {\n",
       "            text-align:  left;\n",
       "        }    #T_86aa805c_cfc9_11ea_acd4_c8d9d2ac7d3brow5_col1 {\n",
       "            : ;\n",
       "            text-align:  left;\n",
       "        }    #T_86aa805c_cfc9_11ea_acd4_c8d9d2ac7d3brow5_col2 {\n",
       "            background-color:  yellow;\n",
       "            text-align:  left;\n",
       "        }    #T_86aa805c_cfc9_11ea_acd4_c8d9d2ac7d3brow5_col3 {\n",
       "            : ;\n",
       "            text-align:  left;\n",
       "        }    #T_86aa805c_cfc9_11ea_acd4_c8d9d2ac7d3brow5_col4 {\n",
       "            : ;\n",
       "            text-align:  left;\n",
       "        }    #T_86aa805c_cfc9_11ea_acd4_c8d9d2ac7d3brow5_col5 {\n",
       "            : ;\n",
       "            text-align:  left;\n",
       "        }    #T_86aa805c_cfc9_11ea_acd4_c8d9d2ac7d3brow5_col6 {\n",
       "            : ;\n",
       "            text-align:  left;\n",
       "        }    #T_86aa805c_cfc9_11ea_acd4_c8d9d2ac7d3brow6_col0 {\n",
       "            text-align:  left;\n",
       "        }    #T_86aa805c_cfc9_11ea_acd4_c8d9d2ac7d3brow6_col1 {\n",
       "            : ;\n",
       "            text-align:  left;\n",
       "        }    #T_86aa805c_cfc9_11ea_acd4_c8d9d2ac7d3brow6_col2 {\n",
       "            : ;\n",
       "            text-align:  left;\n",
       "        }    #T_86aa805c_cfc9_11ea_acd4_c8d9d2ac7d3brow6_col3 {\n",
       "            : ;\n",
       "            text-align:  left;\n",
       "        }    #T_86aa805c_cfc9_11ea_acd4_c8d9d2ac7d3brow6_col4 {\n",
       "            : ;\n",
       "            text-align:  left;\n",
       "        }    #T_86aa805c_cfc9_11ea_acd4_c8d9d2ac7d3brow6_col5 {\n",
       "            : ;\n",
       "            text-align:  left;\n",
       "        }    #T_86aa805c_cfc9_11ea_acd4_c8d9d2ac7d3brow6_col6 {\n",
       "            : ;\n",
       "            text-align:  left;\n",
       "        }    #T_86aa805c_cfc9_11ea_acd4_c8d9d2ac7d3brow7_col0 {\n",
       "            text-align:  left;\n",
       "        }    #T_86aa805c_cfc9_11ea_acd4_c8d9d2ac7d3brow7_col1 {\n",
       "            : ;\n",
       "            text-align:  left;\n",
       "        }    #T_86aa805c_cfc9_11ea_acd4_c8d9d2ac7d3brow7_col2 {\n",
       "            : ;\n",
       "            text-align:  left;\n",
       "        }    #T_86aa805c_cfc9_11ea_acd4_c8d9d2ac7d3brow7_col3 {\n",
       "            : ;\n",
       "            text-align:  left;\n",
       "        }    #T_86aa805c_cfc9_11ea_acd4_c8d9d2ac7d3brow7_col4 {\n",
       "            : ;\n",
       "            text-align:  left;\n",
       "        }    #T_86aa805c_cfc9_11ea_acd4_c8d9d2ac7d3brow7_col5 {\n",
       "            : ;\n",
       "            text-align:  left;\n",
       "        }    #T_86aa805c_cfc9_11ea_acd4_c8d9d2ac7d3brow7_col6 {\n",
       "            : ;\n",
       "            text-align:  left;\n",
       "        }    #T_86aa805c_cfc9_11ea_acd4_c8d9d2ac7d3brow8_col0 {\n",
       "            text-align:  left;\n",
       "        }    #T_86aa805c_cfc9_11ea_acd4_c8d9d2ac7d3brow8_col1 {\n",
       "            : ;\n",
       "            text-align:  left;\n",
       "        }    #T_86aa805c_cfc9_11ea_acd4_c8d9d2ac7d3brow8_col2 {\n",
       "            : ;\n",
       "            text-align:  left;\n",
       "        }    #T_86aa805c_cfc9_11ea_acd4_c8d9d2ac7d3brow8_col3 {\n",
       "            : ;\n",
       "            text-align:  left;\n",
       "        }    #T_86aa805c_cfc9_11ea_acd4_c8d9d2ac7d3brow8_col4 {\n",
       "            : ;\n",
       "            text-align:  left;\n",
       "        }    #T_86aa805c_cfc9_11ea_acd4_c8d9d2ac7d3brow8_col5 {\n",
       "            : ;\n",
       "            text-align:  left;\n",
       "        }    #T_86aa805c_cfc9_11ea_acd4_c8d9d2ac7d3brow8_col6 {\n",
       "            : ;\n",
       "            text-align:  left;\n",
       "        }    #T_86aa805c_cfc9_11ea_acd4_c8d9d2ac7d3brow9_col0 {\n",
       "            text-align:  left;\n",
       "        }    #T_86aa805c_cfc9_11ea_acd4_c8d9d2ac7d3brow9_col1 {\n",
       "            : ;\n",
       "            text-align:  left;\n",
       "        }    #T_86aa805c_cfc9_11ea_acd4_c8d9d2ac7d3brow9_col2 {\n",
       "            : ;\n",
       "            text-align:  left;\n",
       "        }    #T_86aa805c_cfc9_11ea_acd4_c8d9d2ac7d3brow9_col3 {\n",
       "            : ;\n",
       "            text-align:  left;\n",
       "        }    #T_86aa805c_cfc9_11ea_acd4_c8d9d2ac7d3brow9_col4 {\n",
       "            : ;\n",
       "            text-align:  left;\n",
       "        }    #T_86aa805c_cfc9_11ea_acd4_c8d9d2ac7d3brow9_col5 {\n",
       "            : ;\n",
       "            text-align:  left;\n",
       "        }    #T_86aa805c_cfc9_11ea_acd4_c8d9d2ac7d3brow9_col6 {\n",
       "            : ;\n",
       "            text-align:  left;\n",
       "        }    #T_86aa805c_cfc9_11ea_acd4_c8d9d2ac7d3brow10_col0 {\n",
       "            text-align:  left;\n",
       "        }    #T_86aa805c_cfc9_11ea_acd4_c8d9d2ac7d3brow10_col1 {\n",
       "            : ;\n",
       "            text-align:  left;\n",
       "        }    #T_86aa805c_cfc9_11ea_acd4_c8d9d2ac7d3brow10_col2 {\n",
       "            : ;\n",
       "            text-align:  left;\n",
       "        }    #T_86aa805c_cfc9_11ea_acd4_c8d9d2ac7d3brow10_col3 {\n",
       "            : ;\n",
       "            text-align:  left;\n",
       "        }    #T_86aa805c_cfc9_11ea_acd4_c8d9d2ac7d3brow10_col4 {\n",
       "            : ;\n",
       "            text-align:  left;\n",
       "        }    #T_86aa805c_cfc9_11ea_acd4_c8d9d2ac7d3brow10_col5 {\n",
       "            : ;\n",
       "            text-align:  left;\n",
       "        }    #T_86aa805c_cfc9_11ea_acd4_c8d9d2ac7d3brow10_col6 {\n",
       "            : ;\n",
       "            text-align:  left;\n",
       "        }    #T_86aa805c_cfc9_11ea_acd4_c8d9d2ac7d3brow11_col0 {\n",
       "            text-align:  left;\n",
       "        }    #T_86aa805c_cfc9_11ea_acd4_c8d9d2ac7d3brow11_col1 {\n",
       "            : ;\n",
       "            text-align:  left;\n",
       "        }    #T_86aa805c_cfc9_11ea_acd4_c8d9d2ac7d3brow11_col2 {\n",
       "            : ;\n",
       "            text-align:  left;\n",
       "        }    #T_86aa805c_cfc9_11ea_acd4_c8d9d2ac7d3brow11_col3 {\n",
       "            : ;\n",
       "            text-align:  left;\n",
       "        }    #T_86aa805c_cfc9_11ea_acd4_c8d9d2ac7d3brow11_col4 {\n",
       "            : ;\n",
       "            text-align:  left;\n",
       "        }    #T_86aa805c_cfc9_11ea_acd4_c8d9d2ac7d3brow11_col5 {\n",
       "            : ;\n",
       "            text-align:  left;\n",
       "        }    #T_86aa805c_cfc9_11ea_acd4_c8d9d2ac7d3brow11_col6 {\n",
       "            : ;\n",
       "            text-align:  left;\n",
       "        }    #T_86aa805c_cfc9_11ea_acd4_c8d9d2ac7d3brow12_col0 {\n",
       "            text-align:  left;\n",
       "        }    #T_86aa805c_cfc9_11ea_acd4_c8d9d2ac7d3brow12_col1 {\n",
       "            : ;\n",
       "            text-align:  left;\n",
       "        }    #T_86aa805c_cfc9_11ea_acd4_c8d9d2ac7d3brow12_col2 {\n",
       "            : ;\n",
       "            text-align:  left;\n",
       "        }    #T_86aa805c_cfc9_11ea_acd4_c8d9d2ac7d3brow12_col3 {\n",
       "            : ;\n",
       "            text-align:  left;\n",
       "        }    #T_86aa805c_cfc9_11ea_acd4_c8d9d2ac7d3brow12_col4 {\n",
       "            : ;\n",
       "            text-align:  left;\n",
       "        }    #T_86aa805c_cfc9_11ea_acd4_c8d9d2ac7d3brow12_col5 {\n",
       "            : ;\n",
       "            text-align:  left;\n",
       "        }    #T_86aa805c_cfc9_11ea_acd4_c8d9d2ac7d3brow12_col6 {\n",
       "            : ;\n",
       "            text-align:  left;\n",
       "        }    #T_86aa805c_cfc9_11ea_acd4_c8d9d2ac7d3brow13_col0 {\n",
       "            text-align:  left;\n",
       "        }    #T_86aa805c_cfc9_11ea_acd4_c8d9d2ac7d3brow13_col1 {\n",
       "            : ;\n",
       "            text-align:  left;\n",
       "        }    #T_86aa805c_cfc9_11ea_acd4_c8d9d2ac7d3brow13_col2 {\n",
       "            : ;\n",
       "            text-align:  left;\n",
       "        }    #T_86aa805c_cfc9_11ea_acd4_c8d9d2ac7d3brow13_col3 {\n",
       "            : ;\n",
       "            text-align:  left;\n",
       "        }    #T_86aa805c_cfc9_11ea_acd4_c8d9d2ac7d3brow13_col4 {\n",
       "            : ;\n",
       "            text-align:  left;\n",
       "        }    #T_86aa805c_cfc9_11ea_acd4_c8d9d2ac7d3brow13_col5 {\n",
       "            : ;\n",
       "            text-align:  left;\n",
       "        }    #T_86aa805c_cfc9_11ea_acd4_c8d9d2ac7d3brow13_col6 {\n",
       "            : ;\n",
       "            text-align:  left;\n",
       "        }    #T_86aa805c_cfc9_11ea_acd4_c8d9d2ac7d3brow14_col0 {\n",
       "            text-align:  left;\n",
       "        }    #T_86aa805c_cfc9_11ea_acd4_c8d9d2ac7d3brow14_col1 {\n",
       "            : ;\n",
       "            text-align:  left;\n",
       "        }    #T_86aa805c_cfc9_11ea_acd4_c8d9d2ac7d3brow14_col2 {\n",
       "            : ;\n",
       "            text-align:  left;\n",
       "        }    #T_86aa805c_cfc9_11ea_acd4_c8d9d2ac7d3brow14_col3 {\n",
       "            : ;\n",
       "            text-align:  left;\n",
       "        }    #T_86aa805c_cfc9_11ea_acd4_c8d9d2ac7d3brow14_col4 {\n",
       "            : ;\n",
       "            text-align:  left;\n",
       "        }    #T_86aa805c_cfc9_11ea_acd4_c8d9d2ac7d3brow14_col5 {\n",
       "            : ;\n",
       "            text-align:  left;\n",
       "        }    #T_86aa805c_cfc9_11ea_acd4_c8d9d2ac7d3brow14_col6 {\n",
       "            : ;\n",
       "            text-align:  left;\n",
       "        }</style><table id=\"T_86aa805c_cfc9_11ea_acd4_c8d9d2ac7d3b\" ><thead>    <tr>        <th class=\"blank level0\" ></th>        <th class=\"col_heading level0 col0\" >Model</th>        <th class=\"col_heading level0 col1\" >Accuracy</th>        <th class=\"col_heading level0 col2\" >AUC</th>        <th class=\"col_heading level0 col3\" >Recall</th>        <th class=\"col_heading level0 col4\" >Prec.</th>        <th class=\"col_heading level0 col5\" >F1</th>        <th class=\"col_heading level0 col6\" >Kappa</th>    </tr></thead><tbody>\n",
       "                <tr>\n",
       "                        <th id=\"T_86aa805c_cfc9_11ea_acd4_c8d9d2ac7d3blevel0_row0\" class=\"row_heading level0 row0\" >0</th>\n",
       "                        <td id=\"T_86aa805c_cfc9_11ea_acd4_c8d9d2ac7d3brow0_col0\" class=\"data row0 col0\" >Ridge Classifier</td>\n",
       "                        <td id=\"T_86aa805c_cfc9_11ea_acd4_c8d9d2ac7d3brow0_col1\" class=\"data row0 col1\" >0.770900</td>\n",
       "                        <td id=\"T_86aa805c_cfc9_11ea_acd4_c8d9d2ac7d3brow0_col2\" class=\"data row0 col2\" >0.000000</td>\n",
       "                        <td id=\"T_86aa805c_cfc9_11ea_acd4_c8d9d2ac7d3brow0_col3\" class=\"data row0 col3\" >0.545300</td>\n",
       "                        <td id=\"T_86aa805c_cfc9_11ea_acd4_c8d9d2ac7d3brow0_col4\" class=\"data row0 col4\" >0.723400</td>\n",
       "                        <td id=\"T_86aa805c_cfc9_11ea_acd4_c8d9d2ac7d3brow0_col5\" class=\"data row0 col5\" >0.619700</td>\n",
       "                        <td id=\"T_86aa805c_cfc9_11ea_acd4_c8d9d2ac7d3brow0_col6\" class=\"data row0 col6\" >0.461700</td>\n",
       "            </tr>\n",
       "            <tr>\n",
       "                        <th id=\"T_86aa805c_cfc9_11ea_acd4_c8d9d2ac7d3blevel0_row1\" class=\"row_heading level0 row1\" >1</th>\n",
       "                        <td id=\"T_86aa805c_cfc9_11ea_acd4_c8d9d2ac7d3brow1_col0\" class=\"data row1 col0\" >Ada Boost Classifier</td>\n",
       "                        <td id=\"T_86aa805c_cfc9_11ea_acd4_c8d9d2ac7d3brow1_col1\" class=\"data row1 col1\" >0.769100</td>\n",
       "                        <td id=\"T_86aa805c_cfc9_11ea_acd4_c8d9d2ac7d3brow1_col2\" class=\"data row1 col2\" >0.814400</td>\n",
       "                        <td id=\"T_86aa805c_cfc9_11ea_acd4_c8d9d2ac7d3brow1_col3\" class=\"data row1 col3\" >0.588000</td>\n",
       "                        <td id=\"T_86aa805c_cfc9_11ea_acd4_c8d9d2ac7d3brow1_col4\" class=\"data row1 col4\" >0.703600</td>\n",
       "                        <td id=\"T_86aa805c_cfc9_11ea_acd4_c8d9d2ac7d3brow1_col5\" class=\"data row1 col5\" >0.635900</td>\n",
       "                        <td id=\"T_86aa805c_cfc9_11ea_acd4_c8d9d2ac7d3brow1_col6\" class=\"data row1 col6\" >0.469800</td>\n",
       "            </tr>\n",
       "            <tr>\n",
       "                        <th id=\"T_86aa805c_cfc9_11ea_acd4_c8d9d2ac7d3blevel0_row2\" class=\"row_heading level0 row2\" >2</th>\n",
       "                        <td id=\"T_86aa805c_cfc9_11ea_acd4_c8d9d2ac7d3brow2_col0\" class=\"data row2 col0\" >Logistic Regression</td>\n",
       "                        <td id=\"T_86aa805c_cfc9_11ea_acd4_c8d9d2ac7d3brow2_col1\" class=\"data row2 col1\" >0.769000</td>\n",
       "                        <td id=\"T_86aa805c_cfc9_11ea_acd4_c8d9d2ac7d3brow2_col2\" class=\"data row2 col2\" >0.806400</td>\n",
       "                        <td id=\"T_86aa805c_cfc9_11ea_acd4_c8d9d2ac7d3brow2_col3\" class=\"data row2 col3\" >0.572200</td>\n",
       "                        <td id=\"T_86aa805c_cfc9_11ea_acd4_c8d9d2ac7d3brow2_col4\" class=\"data row2 col4\" >0.706900</td>\n",
       "                        <td id=\"T_86aa805c_cfc9_11ea_acd4_c8d9d2ac7d3brow2_col5\" class=\"data row2 col5\" >0.631000</td>\n",
       "                        <td id=\"T_86aa805c_cfc9_11ea_acd4_c8d9d2ac7d3brow2_col6\" class=\"data row2 col6\" >0.466300</td>\n",
       "            </tr>\n",
       "            <tr>\n",
       "                        <th id=\"T_86aa805c_cfc9_11ea_acd4_c8d9d2ac7d3blevel0_row3\" class=\"row_heading level0 row3\" >3</th>\n",
       "                        <td id=\"T_86aa805c_cfc9_11ea_acd4_c8d9d2ac7d3brow3_col0\" class=\"data row3 col0\" >Linear Discriminant Analysis</td>\n",
       "                        <td id=\"T_86aa805c_cfc9_11ea_acd4_c8d9d2ac7d3brow3_col1\" class=\"data row3 col1\" >0.767200</td>\n",
       "                        <td id=\"T_86aa805c_cfc9_11ea_acd4_c8d9d2ac7d3brow3_col2\" class=\"data row3 col2\" >0.805500</td>\n",
       "                        <td id=\"T_86aa805c_cfc9_11ea_acd4_c8d9d2ac7d3brow3_col3\" class=\"data row3 col3\" >0.545600</td>\n",
       "                        <td id=\"T_86aa805c_cfc9_11ea_acd4_c8d9d2ac7d3brow3_col4\" class=\"data row3 col4\" >0.712500</td>\n",
       "                        <td id=\"T_86aa805c_cfc9_11ea_acd4_c8d9d2ac7d3brow3_col5\" class=\"data row3 col5\" >0.616100</td>\n",
       "                        <td id=\"T_86aa805c_cfc9_11ea_acd4_c8d9d2ac7d3brow3_col6\" class=\"data row3 col6\" >0.454700</td>\n",
       "            </tr>\n",
       "            <tr>\n",
       "                        <th id=\"T_86aa805c_cfc9_11ea_acd4_c8d9d2ac7d3blevel0_row4\" class=\"row_heading level0 row4\" >4</th>\n",
       "                        <td id=\"T_86aa805c_cfc9_11ea_acd4_c8d9d2ac7d3brow4_col0\" class=\"data row4 col0\" >Extreme Gradient Boosting</td>\n",
       "                        <td id=\"T_86aa805c_cfc9_11ea_acd4_c8d9d2ac7d3brow4_col1\" class=\"data row4 col1\" >0.765300</td>\n",
       "                        <td id=\"T_86aa805c_cfc9_11ea_acd4_c8d9d2ac7d3brow4_col2\" class=\"data row4 col2\" >0.815800</td>\n",
       "                        <td id=\"T_86aa805c_cfc9_11ea_acd4_c8d9d2ac7d3brow4_col3\" class=\"data row4 col3\" >0.614000</td>\n",
       "                        <td id=\"T_86aa805c_cfc9_11ea_acd4_c8d9d2ac7d3brow4_col4\" class=\"data row4 col4\" >0.679100</td>\n",
       "                        <td id=\"T_86aa805c_cfc9_11ea_acd4_c8d9d2ac7d3brow4_col5\" class=\"data row4 col5\" >0.642400</td>\n",
       "                        <td id=\"T_86aa805c_cfc9_11ea_acd4_c8d9d2ac7d3brow4_col6\" class=\"data row4 col6\" >0.468900</td>\n",
       "            </tr>\n",
       "            <tr>\n",
       "                        <th id=\"T_86aa805c_cfc9_11ea_acd4_c8d9d2ac7d3blevel0_row5\" class=\"row_heading level0 row5\" >5</th>\n",
       "                        <td id=\"T_86aa805c_cfc9_11ea_acd4_c8d9d2ac7d3brow5_col0\" class=\"data row5 col0\" >Gradient Boosting Classifier</td>\n",
       "                        <td id=\"T_86aa805c_cfc9_11ea_acd4_c8d9d2ac7d3brow5_col1\" class=\"data row5 col1\" >0.761600</td>\n",
       "                        <td id=\"T_86aa805c_cfc9_11ea_acd4_c8d9d2ac7d3brow5_col2\" class=\"data row5 col2\" >0.822800</td>\n",
       "                        <td id=\"T_86aa805c_cfc9_11ea_acd4_c8d9d2ac7d3brow5_col3\" class=\"data row5 col3\" >0.581900</td>\n",
       "                        <td id=\"T_86aa805c_cfc9_11ea_acd4_c8d9d2ac7d3brow5_col4\" class=\"data row5 col4\" >0.682400</td>\n",
       "                        <td id=\"T_86aa805c_cfc9_11ea_acd4_c8d9d2ac7d3brow5_col5\" class=\"data row5 col5\" >0.624700</td>\n",
       "                        <td id=\"T_86aa805c_cfc9_11ea_acd4_c8d9d2ac7d3brow5_col6\" class=\"data row5 col6\" >0.452700</td>\n",
       "            </tr>\n",
       "            <tr>\n",
       "                        <th id=\"T_86aa805c_cfc9_11ea_acd4_c8d9d2ac7d3blevel0_row6\" class=\"row_heading level0 row6\" >6</th>\n",
       "                        <td id=\"T_86aa805c_cfc9_11ea_acd4_c8d9d2ac7d3brow6_col0\" class=\"data row6 col0\" >Light Gradient Boosting Machine</td>\n",
       "                        <td id=\"T_86aa805c_cfc9_11ea_acd4_c8d9d2ac7d3brow6_col1\" class=\"data row6 col1\" >0.759700</td>\n",
       "                        <td id=\"T_86aa805c_cfc9_11ea_acd4_c8d9d2ac7d3brow6_col2\" class=\"data row6 col2\" >0.800300</td>\n",
       "                        <td id=\"T_86aa805c_cfc9_11ea_acd4_c8d9d2ac7d3brow6_col3\" class=\"data row6 col3\" >0.598500</td>\n",
       "                        <td id=\"T_86aa805c_cfc9_11ea_acd4_c8d9d2ac7d3brow6_col4\" class=\"data row6 col4\" >0.678000</td>\n",
       "                        <td id=\"T_86aa805c_cfc9_11ea_acd4_c8d9d2ac7d3brow6_col5\" class=\"data row6 col5\" >0.631200</td>\n",
       "                        <td id=\"T_86aa805c_cfc9_11ea_acd4_c8d9d2ac7d3brow6_col6\" class=\"data row6 col6\" >0.455000</td>\n",
       "            </tr>\n",
       "            <tr>\n",
       "                        <th id=\"T_86aa805c_cfc9_11ea_acd4_c8d9d2ac7d3blevel0_row7\" class=\"row_heading level0 row7\" >7</th>\n",
       "                        <td id=\"T_86aa805c_cfc9_11ea_acd4_c8d9d2ac7d3brow7_col0\" class=\"data row7 col0\" >CatBoost Classifier</td>\n",
       "                        <td id=\"T_86aa805c_cfc9_11ea_acd4_c8d9d2ac7d3brow7_col1\" class=\"data row7 col1\" >0.757800</td>\n",
       "                        <td id=\"T_86aa805c_cfc9_11ea_acd4_c8d9d2ac7d3brow7_col2\" class=\"data row7 col2\" >0.816200</td>\n",
       "                        <td id=\"T_86aa805c_cfc9_11ea_acd4_c8d9d2ac7d3brow7_col3\" class=\"data row7 col3\" >0.576600</td>\n",
       "                        <td id=\"T_86aa805c_cfc9_11ea_acd4_c8d9d2ac7d3brow7_col4\" class=\"data row7 col4\" >0.675200</td>\n",
       "                        <td id=\"T_86aa805c_cfc9_11ea_acd4_c8d9d2ac7d3brow7_col5\" class=\"data row7 col5\" >0.619700</td>\n",
       "                        <td id=\"T_86aa805c_cfc9_11ea_acd4_c8d9d2ac7d3brow7_col6\" class=\"data row7 col6\" >0.444500</td>\n",
       "            </tr>\n",
       "            <tr>\n",
       "                        <th id=\"T_86aa805c_cfc9_11ea_acd4_c8d9d2ac7d3blevel0_row8\" class=\"row_heading level0 row8\" >8</th>\n",
       "                        <td id=\"T_86aa805c_cfc9_11ea_acd4_c8d9d2ac7d3brow8_col0\" class=\"data row8 col0\" >Extra Trees Classifier</td>\n",
       "                        <td id=\"T_86aa805c_cfc9_11ea_acd4_c8d9d2ac7d3brow8_col1\" class=\"data row8 col1\" >0.750500</td>\n",
       "                        <td id=\"T_86aa805c_cfc9_11ea_acd4_c8d9d2ac7d3brow8_col2\" class=\"data row8 col2\" >0.788800</td>\n",
       "                        <td id=\"T_86aa805c_cfc9_11ea_acd4_c8d9d2ac7d3brow8_col3\" class=\"data row8 col3\" >0.539800</td>\n",
       "                        <td id=\"T_86aa805c_cfc9_11ea_acd4_c8d9d2ac7d3brow8_col4\" class=\"data row8 col4\" >0.676500</td>\n",
       "                        <td id=\"T_86aa805c_cfc9_11ea_acd4_c8d9d2ac7d3brow8_col5\" class=\"data row8 col5\" >0.598100</td>\n",
       "                        <td id=\"T_86aa805c_cfc9_11ea_acd4_c8d9d2ac7d3brow8_col6\" class=\"data row8 col6\" >0.421400</td>\n",
       "            </tr>\n",
       "            <tr>\n",
       "                        <th id=\"T_86aa805c_cfc9_11ea_acd4_c8d9d2ac7d3blevel0_row9\" class=\"row_heading level0 row9\" >9</th>\n",
       "                        <td id=\"T_86aa805c_cfc9_11ea_acd4_c8d9d2ac7d3brow9_col0\" class=\"data row9 col0\" >K Neighbors Classifier</td>\n",
       "                        <td id=\"T_86aa805c_cfc9_11ea_acd4_c8d9d2ac7d3brow9_col1\" class=\"data row9 col1\" >0.737500</td>\n",
       "                        <td id=\"T_86aa805c_cfc9_11ea_acd4_c8d9d2ac7d3brow9_col2\" class=\"data row9 col2\" >0.748800</td>\n",
       "                        <td id=\"T_86aa805c_cfc9_11ea_acd4_c8d9d2ac7d3brow9_col3\" class=\"data row9 col3\" >0.539800</td>\n",
       "                        <td id=\"T_86aa805c_cfc9_11ea_acd4_c8d9d2ac7d3brow9_col4\" class=\"data row9 col4\" >0.646400</td>\n",
       "                        <td id=\"T_86aa805c_cfc9_11ea_acd4_c8d9d2ac7d3brow9_col5\" class=\"data row9 col5\" >0.586100</td>\n",
       "                        <td id=\"T_86aa805c_cfc9_11ea_acd4_c8d9d2ac7d3brow9_col6\" class=\"data row9 col6\" >0.396800</td>\n",
       "            </tr>\n",
       "            <tr>\n",
       "                        <th id=\"T_86aa805c_cfc9_11ea_acd4_c8d9d2ac7d3blevel0_row10\" class=\"row_heading level0 row10\" >10</th>\n",
       "                        <td id=\"T_86aa805c_cfc9_11ea_acd4_c8d9d2ac7d3brow10_col0\" class=\"data row10 col0\" >Random Forest Classifier</td>\n",
       "                        <td id=\"T_86aa805c_cfc9_11ea_acd4_c8d9d2ac7d3brow10_col1\" class=\"data row10 col1\" >0.724600</td>\n",
       "                        <td id=\"T_86aa805c_cfc9_11ea_acd4_c8d9d2ac7d3brow10_col2\" class=\"data row10 col2\" >0.759800</td>\n",
       "                        <td id=\"T_86aa805c_cfc9_11ea_acd4_c8d9d2ac7d3brow10_col3\" class=\"data row10 col3\" >0.492700</td>\n",
       "                        <td id=\"T_86aa805c_cfc9_11ea_acd4_c8d9d2ac7d3brow10_col4\" class=\"data row10 col4\" >0.640700</td>\n",
       "                        <td id=\"T_86aa805c_cfc9_11ea_acd4_c8d9d2ac7d3brow10_col5\" class=\"data row10 col5\" >0.552300</td>\n",
       "                        <td id=\"T_86aa805c_cfc9_11ea_acd4_c8d9d2ac7d3brow10_col6\" class=\"data row10 col6\" >0.359300</td>\n",
       "            </tr>\n",
       "            <tr>\n",
       "                        <th id=\"T_86aa805c_cfc9_11ea_acd4_c8d9d2ac7d3blevel0_row11\" class=\"row_heading level0 row11\" >11</th>\n",
       "                        <td id=\"T_86aa805c_cfc9_11ea_acd4_c8d9d2ac7d3brow11_col0\" class=\"data row11 col0\" >Decision Tree Classifier</td>\n",
       "                        <td id=\"T_86aa805c_cfc9_11ea_acd4_c8d9d2ac7d3brow11_col1\" class=\"data row11 col1\" >0.709500</td>\n",
       "                        <td id=\"T_86aa805c_cfc9_11ea_acd4_c8d9d2ac7d3brow11_col2\" class=\"data row11 col2\" >0.679900</td>\n",
       "                        <td id=\"T_86aa805c_cfc9_11ea_acd4_c8d9d2ac7d3brow11_col3\" class=\"data row11 col3\" >0.582700</td>\n",
       "                        <td id=\"T_86aa805c_cfc9_11ea_acd4_c8d9d2ac7d3brow11_col4\" class=\"data row11 col4\" >0.584300</td>\n",
       "                        <td id=\"T_86aa805c_cfc9_11ea_acd4_c8d9d2ac7d3brow11_col5\" class=\"data row11 col5\" >0.581900</td>\n",
       "                        <td id=\"T_86aa805c_cfc9_11ea_acd4_c8d9d2ac7d3brow11_col6\" class=\"data row11 col6\" >0.359600</td>\n",
       "            </tr>\n",
       "            <tr>\n",
       "                        <th id=\"T_86aa805c_cfc9_11ea_acd4_c8d9d2ac7d3blevel0_row12\" class=\"row_heading level0 row12\" >12</th>\n",
       "                        <td id=\"T_86aa805c_cfc9_11ea_acd4_c8d9d2ac7d3brow12_col0\" class=\"data row12 col0\" >Naive Bayes</td>\n",
       "                        <td id=\"T_86aa805c_cfc9_11ea_acd4_c8d9d2ac7d3brow12_col1\" class=\"data row12 col1\" >0.670400</td>\n",
       "                        <td id=\"T_86aa805c_cfc9_11ea_acd4_c8d9d2ac7d3brow12_col2\" class=\"data row12 col2\" >0.713200</td>\n",
       "                        <td id=\"T_86aa805c_cfc9_11ea_acd4_c8d9d2ac7d3brow12_col3\" class=\"data row12 col3\" >0.236500</td>\n",
       "                        <td id=\"T_86aa805c_cfc9_11ea_acd4_c8d9d2ac7d3brow12_col4\" class=\"data row12 col4\" >0.603200</td>\n",
       "                        <td id=\"T_86aa805c_cfc9_11ea_acd4_c8d9d2ac7d3brow12_col5\" class=\"data row12 col5\" >0.328700</td>\n",
       "                        <td id=\"T_86aa805c_cfc9_11ea_acd4_c8d9d2ac7d3brow12_col6\" class=\"data row12 col6\" >0.161200</td>\n",
       "            </tr>\n",
       "            <tr>\n",
       "                        <th id=\"T_86aa805c_cfc9_11ea_acd4_c8d9d2ac7d3blevel0_row13\" class=\"row_heading level0 row13\" >13</th>\n",
       "                        <td id=\"T_86aa805c_cfc9_11ea_acd4_c8d9d2ac7d3brow13_col0\" class=\"data row13 col0\" >SVM - Linear Kernel</td>\n",
       "                        <td id=\"T_86aa805c_cfc9_11ea_acd4_c8d9d2ac7d3brow13_col1\" class=\"data row13 col1\" >0.634800</td>\n",
       "                        <td id=\"T_86aa805c_cfc9_11ea_acd4_c8d9d2ac7d3brow13_col2\" class=\"data row13 col2\" >0.000000</td>\n",
       "                        <td id=\"T_86aa805c_cfc9_11ea_acd4_c8d9d2ac7d3brow13_col3\" class=\"data row13 col3\" >0.254700</td>\n",
       "                        <td id=\"T_86aa805c_cfc9_11ea_acd4_c8d9d2ac7d3brow13_col4\" class=\"data row13 col4\" >0.387500</td>\n",
       "                        <td id=\"T_86aa805c_cfc9_11ea_acd4_c8d9d2ac7d3brow13_col5\" class=\"data row13 col5\" >0.266400</td>\n",
       "                        <td id=\"T_86aa805c_cfc9_11ea_acd4_c8d9d2ac7d3brow13_col6\" class=\"data row13 col6\" >0.098200</td>\n",
       "            </tr>\n",
       "            <tr>\n",
       "                        <th id=\"T_86aa805c_cfc9_11ea_acd4_c8d9d2ac7d3blevel0_row14\" class=\"row_heading level0 row14\" >14</th>\n",
       "                        <td id=\"T_86aa805c_cfc9_11ea_acd4_c8d9d2ac7d3brow14_col0\" class=\"data row14 col0\" >Quadratic Discriminant Analysis</td>\n",
       "                        <td id=\"T_86aa805c_cfc9_11ea_acd4_c8d9d2ac7d3brow14_col1\" class=\"data row14 col1\" >0.576900</td>\n",
       "                        <td id=\"T_86aa805c_cfc9_11ea_acd4_c8d9d2ac7d3brow14_col2\" class=\"data row14 col2\" >0.585900</td>\n",
       "                        <td id=\"T_86aa805c_cfc9_11ea_acd4_c8d9d2ac7d3brow14_col3\" class=\"data row14 col3\" >0.381300</td>\n",
       "                        <td id=\"T_86aa805c_cfc9_11ea_acd4_c8d9d2ac7d3brow14_col4\" class=\"data row14 col4\" >0.384400</td>\n",
       "                        <td id=\"T_86aa805c_cfc9_11ea_acd4_c8d9d2ac7d3brow14_col5\" class=\"data row14 col5\" >0.348900</td>\n",
       "                        <td id=\"T_86aa805c_cfc9_11ea_acd4_c8d9d2ac7d3brow14_col6\" class=\"data row14 col6\" >0.064700</td>\n",
       "            </tr>\n",
       "    </tbody></table>"
      ],
      "text/plain": [
       "<pandas.io.formats.style.Styler at 0x29f0b5778d0>"
      ]
     },
     "execution_count": 11,
     "metadata": {},
     "output_type": "execute_result"
    }
   ],
   "source": [
    "compare_models()"
   ]
  },
  {
   "cell_type": "code",
   "execution_count": 12,
   "metadata": {},
   "outputs": [],
   "source": [
    "######################## Regression Problem  ##################################################################################"
   ]
  },
  {
   "cell_type": "code",
   "execution_count": 13,
   "metadata": {},
   "outputs": [
    {
     "data": {
      "text/html": [
       "<div>\n",
       "<style scoped>\n",
       "    .dataframe tbody tr th:only-of-type {\n",
       "        vertical-align: middle;\n",
       "    }\n",
       "\n",
       "    .dataframe tbody tr th {\n",
       "        vertical-align: top;\n",
       "    }\n",
       "\n",
       "    .dataframe thead th {\n",
       "        text-align: right;\n",
       "    }\n",
       "</style>\n",
       "<table border=\"1\" class=\"dataframe\">\n",
       "  <thead>\n",
       "    <tr style=\"text-align: right;\">\n",
       "      <th></th>\n",
       "      <th>crim</th>\n",
       "      <th>zn</th>\n",
       "      <th>indus</th>\n",
       "      <th>chas</th>\n",
       "      <th>nox</th>\n",
       "      <th>rm</th>\n",
       "      <th>age</th>\n",
       "      <th>dis</th>\n",
       "      <th>rad</th>\n",
       "      <th>tax</th>\n",
       "      <th>ptratio</th>\n",
       "      <th>black</th>\n",
       "      <th>lstat</th>\n",
       "      <th>medv</th>\n",
       "    </tr>\n",
       "  </thead>\n",
       "  <tbody>\n",
       "    <tr>\n",
       "      <th>0</th>\n",
       "      <td>0.00632</td>\n",
       "      <td>18.0</td>\n",
       "      <td>2.31</td>\n",
       "      <td>0</td>\n",
       "      <td>0.538</td>\n",
       "      <td>6.575</td>\n",
       "      <td>65.2</td>\n",
       "      <td>4.0900</td>\n",
       "      <td>1</td>\n",
       "      <td>296</td>\n",
       "      <td>15.3</td>\n",
       "      <td>396.90</td>\n",
       "      <td>4.98</td>\n",
       "      <td>24.0</td>\n",
       "    </tr>\n",
       "    <tr>\n",
       "      <th>1</th>\n",
       "      <td>0.02731</td>\n",
       "      <td>0.0</td>\n",
       "      <td>7.07</td>\n",
       "      <td>0</td>\n",
       "      <td>0.469</td>\n",
       "      <td>6.421</td>\n",
       "      <td>78.9</td>\n",
       "      <td>4.9671</td>\n",
       "      <td>2</td>\n",
       "      <td>242</td>\n",
       "      <td>17.8</td>\n",
       "      <td>396.90</td>\n",
       "      <td>9.14</td>\n",
       "      <td>21.6</td>\n",
       "    </tr>\n",
       "    <tr>\n",
       "      <th>2</th>\n",
       "      <td>0.02729</td>\n",
       "      <td>0.0</td>\n",
       "      <td>7.07</td>\n",
       "      <td>0</td>\n",
       "      <td>0.469</td>\n",
       "      <td>7.185</td>\n",
       "      <td>61.1</td>\n",
       "      <td>4.9671</td>\n",
       "      <td>2</td>\n",
       "      <td>242</td>\n",
       "      <td>17.8</td>\n",
       "      <td>392.83</td>\n",
       "      <td>4.03</td>\n",
       "      <td>34.7</td>\n",
       "    </tr>\n",
       "    <tr>\n",
       "      <th>3</th>\n",
       "      <td>0.03237</td>\n",
       "      <td>0.0</td>\n",
       "      <td>2.18</td>\n",
       "      <td>0</td>\n",
       "      <td>0.458</td>\n",
       "      <td>6.998</td>\n",
       "      <td>45.8</td>\n",
       "      <td>6.0622</td>\n",
       "      <td>3</td>\n",
       "      <td>222</td>\n",
       "      <td>18.7</td>\n",
       "      <td>394.63</td>\n",
       "      <td>2.94</td>\n",
       "      <td>33.4</td>\n",
       "    </tr>\n",
       "    <tr>\n",
       "      <th>4</th>\n",
       "      <td>0.06905</td>\n",
       "      <td>0.0</td>\n",
       "      <td>2.18</td>\n",
       "      <td>0</td>\n",
       "      <td>0.458</td>\n",
       "      <td>7.147</td>\n",
       "      <td>54.2</td>\n",
       "      <td>6.0622</td>\n",
       "      <td>3</td>\n",
       "      <td>222</td>\n",
       "      <td>18.7</td>\n",
       "      <td>396.90</td>\n",
       "      <td>5.33</td>\n",
       "      <td>36.2</td>\n",
       "    </tr>\n",
       "  </tbody>\n",
       "</table>\n",
       "</div>"
      ],
      "text/plain": [
       "      crim    zn  indus  chas    nox     rm   age     dis  rad  tax  ptratio  \\\n",
       "0  0.00632  18.0   2.31     0  0.538  6.575  65.2  4.0900    1  296     15.3   \n",
       "1  0.02731   0.0   7.07     0  0.469  6.421  78.9  4.9671    2  242     17.8   \n",
       "2  0.02729   0.0   7.07     0  0.469  7.185  61.1  4.9671    2  242     17.8   \n",
       "3  0.03237   0.0   2.18     0  0.458  6.998  45.8  6.0622    3  222     18.7   \n",
       "4  0.06905   0.0   2.18     0  0.458  7.147  54.2  6.0622    3  222     18.7   \n",
       "\n",
       "    black  lstat  medv  \n",
       "0  396.90   4.98  24.0  \n",
       "1  396.90   9.14  21.6  \n",
       "2  392.83   4.03  34.7  \n",
       "3  394.63   2.94  33.4  \n",
       "4  396.90   5.33  36.2  "
      ]
     },
     "metadata": {},
     "output_type": "display_data"
    }
   ],
   "source": [
    "boston_df = get_data(\"boston\")"
   ]
  },
  {
   "cell_type": "code",
   "execution_count": 14,
   "metadata": {},
   "outputs": [],
   "source": [
    "from pycaret.regression import *\n"
   ]
  },
  {
   "cell_type": "code",
   "execution_count": 15,
   "metadata": {},
   "outputs": [
    {
     "name": "stdout",
     "output_type": "stream",
     "text": [
      " \n",
      "Setup Succesfully Completed!\n"
     ]
    },
    {
     "data": {
      "text/html": [
       "<style  type=\"text/css\" >\n",
       "</style><table id=\"T_65f50874_cfca_11ea_b670_c8d9d2ac7d3b\" ><thead>    <tr>        <th class=\"blank level0\" ></th>        <th class=\"col_heading level0 col0\" >Description</th>        <th class=\"col_heading level0 col1\" >Value</th>    </tr></thead><tbody>\n",
       "                <tr>\n",
       "                        <th id=\"T_65f50874_cfca_11ea_b670_c8d9d2ac7d3blevel0_row0\" class=\"row_heading level0 row0\" >0</th>\n",
       "                        <td id=\"T_65f50874_cfca_11ea_b670_c8d9d2ac7d3brow0_col0\" class=\"data row0 col0\" >session_id</td>\n",
       "                        <td id=\"T_65f50874_cfca_11ea_b670_c8d9d2ac7d3brow0_col1\" class=\"data row0 col1\" >1828</td>\n",
       "            </tr>\n",
       "            <tr>\n",
       "                        <th id=\"T_65f50874_cfca_11ea_b670_c8d9d2ac7d3blevel0_row1\" class=\"row_heading level0 row1\" >1</th>\n",
       "                        <td id=\"T_65f50874_cfca_11ea_b670_c8d9d2ac7d3brow1_col0\" class=\"data row1 col0\" >Transform Target </td>\n",
       "                        <td id=\"T_65f50874_cfca_11ea_b670_c8d9d2ac7d3brow1_col1\" class=\"data row1 col1\" >False</td>\n",
       "            </tr>\n",
       "            <tr>\n",
       "                        <th id=\"T_65f50874_cfca_11ea_b670_c8d9d2ac7d3blevel0_row2\" class=\"row_heading level0 row2\" >2</th>\n",
       "                        <td id=\"T_65f50874_cfca_11ea_b670_c8d9d2ac7d3brow2_col0\" class=\"data row2 col0\" >Transform Target Method</td>\n",
       "                        <td id=\"T_65f50874_cfca_11ea_b670_c8d9d2ac7d3brow2_col1\" class=\"data row2 col1\" >None</td>\n",
       "            </tr>\n",
       "            <tr>\n",
       "                        <th id=\"T_65f50874_cfca_11ea_b670_c8d9d2ac7d3blevel0_row3\" class=\"row_heading level0 row3\" >3</th>\n",
       "                        <td id=\"T_65f50874_cfca_11ea_b670_c8d9d2ac7d3brow3_col0\" class=\"data row3 col0\" >Original Data</td>\n",
       "                        <td id=\"T_65f50874_cfca_11ea_b670_c8d9d2ac7d3brow3_col1\" class=\"data row3 col1\" >(506, 14)</td>\n",
       "            </tr>\n",
       "            <tr>\n",
       "                        <th id=\"T_65f50874_cfca_11ea_b670_c8d9d2ac7d3blevel0_row4\" class=\"row_heading level0 row4\" >4</th>\n",
       "                        <td id=\"T_65f50874_cfca_11ea_b670_c8d9d2ac7d3brow4_col0\" class=\"data row4 col0\" >Missing Values </td>\n",
       "                        <td id=\"T_65f50874_cfca_11ea_b670_c8d9d2ac7d3brow4_col1\" class=\"data row4 col1\" >False</td>\n",
       "            </tr>\n",
       "            <tr>\n",
       "                        <th id=\"T_65f50874_cfca_11ea_b670_c8d9d2ac7d3blevel0_row5\" class=\"row_heading level0 row5\" >5</th>\n",
       "                        <td id=\"T_65f50874_cfca_11ea_b670_c8d9d2ac7d3brow5_col0\" class=\"data row5 col0\" >Numeric Features </td>\n",
       "                        <td id=\"T_65f50874_cfca_11ea_b670_c8d9d2ac7d3brow5_col1\" class=\"data row5 col1\" >11</td>\n",
       "            </tr>\n",
       "            <tr>\n",
       "                        <th id=\"T_65f50874_cfca_11ea_b670_c8d9d2ac7d3blevel0_row6\" class=\"row_heading level0 row6\" >6</th>\n",
       "                        <td id=\"T_65f50874_cfca_11ea_b670_c8d9d2ac7d3brow6_col0\" class=\"data row6 col0\" >Categorical Features </td>\n",
       "                        <td id=\"T_65f50874_cfca_11ea_b670_c8d9d2ac7d3brow6_col1\" class=\"data row6 col1\" >2</td>\n",
       "            </tr>\n",
       "            <tr>\n",
       "                        <th id=\"T_65f50874_cfca_11ea_b670_c8d9d2ac7d3blevel0_row7\" class=\"row_heading level0 row7\" >7</th>\n",
       "                        <td id=\"T_65f50874_cfca_11ea_b670_c8d9d2ac7d3brow7_col0\" class=\"data row7 col0\" >Ordinal Features </td>\n",
       "                        <td id=\"T_65f50874_cfca_11ea_b670_c8d9d2ac7d3brow7_col1\" class=\"data row7 col1\" >False</td>\n",
       "            </tr>\n",
       "            <tr>\n",
       "                        <th id=\"T_65f50874_cfca_11ea_b670_c8d9d2ac7d3blevel0_row8\" class=\"row_heading level0 row8\" >8</th>\n",
       "                        <td id=\"T_65f50874_cfca_11ea_b670_c8d9d2ac7d3brow8_col0\" class=\"data row8 col0\" >High Cardinality Features </td>\n",
       "                        <td id=\"T_65f50874_cfca_11ea_b670_c8d9d2ac7d3brow8_col1\" class=\"data row8 col1\" >False</td>\n",
       "            </tr>\n",
       "            <tr>\n",
       "                        <th id=\"T_65f50874_cfca_11ea_b670_c8d9d2ac7d3blevel0_row9\" class=\"row_heading level0 row9\" >9</th>\n",
       "                        <td id=\"T_65f50874_cfca_11ea_b670_c8d9d2ac7d3brow9_col0\" class=\"data row9 col0\" >High Cardinality Method </td>\n",
       "                        <td id=\"T_65f50874_cfca_11ea_b670_c8d9d2ac7d3brow9_col1\" class=\"data row9 col1\" >None</td>\n",
       "            </tr>\n",
       "            <tr>\n",
       "                        <th id=\"T_65f50874_cfca_11ea_b670_c8d9d2ac7d3blevel0_row10\" class=\"row_heading level0 row10\" >10</th>\n",
       "                        <td id=\"T_65f50874_cfca_11ea_b670_c8d9d2ac7d3brow10_col0\" class=\"data row10 col0\" >Sampled Data</td>\n",
       "                        <td id=\"T_65f50874_cfca_11ea_b670_c8d9d2ac7d3brow10_col1\" class=\"data row10 col1\" >(506, 14)</td>\n",
       "            </tr>\n",
       "            <tr>\n",
       "                        <th id=\"T_65f50874_cfca_11ea_b670_c8d9d2ac7d3blevel0_row11\" class=\"row_heading level0 row11\" >11</th>\n",
       "                        <td id=\"T_65f50874_cfca_11ea_b670_c8d9d2ac7d3brow11_col0\" class=\"data row11 col0\" >Transformed Train Set</td>\n",
       "                        <td id=\"T_65f50874_cfca_11ea_b670_c8d9d2ac7d3brow11_col1\" class=\"data row11 col1\" >(354, 21)</td>\n",
       "            </tr>\n",
       "            <tr>\n",
       "                        <th id=\"T_65f50874_cfca_11ea_b670_c8d9d2ac7d3blevel0_row12\" class=\"row_heading level0 row12\" >12</th>\n",
       "                        <td id=\"T_65f50874_cfca_11ea_b670_c8d9d2ac7d3brow12_col0\" class=\"data row12 col0\" >Transformed Test Set</td>\n",
       "                        <td id=\"T_65f50874_cfca_11ea_b670_c8d9d2ac7d3brow12_col1\" class=\"data row12 col1\" >(152, 21)</td>\n",
       "            </tr>\n",
       "            <tr>\n",
       "                        <th id=\"T_65f50874_cfca_11ea_b670_c8d9d2ac7d3blevel0_row13\" class=\"row_heading level0 row13\" >13</th>\n",
       "                        <td id=\"T_65f50874_cfca_11ea_b670_c8d9d2ac7d3brow13_col0\" class=\"data row13 col0\" >Numeric Imputer </td>\n",
       "                        <td id=\"T_65f50874_cfca_11ea_b670_c8d9d2ac7d3brow13_col1\" class=\"data row13 col1\" >mean</td>\n",
       "            </tr>\n",
       "            <tr>\n",
       "                        <th id=\"T_65f50874_cfca_11ea_b670_c8d9d2ac7d3blevel0_row14\" class=\"row_heading level0 row14\" >14</th>\n",
       "                        <td id=\"T_65f50874_cfca_11ea_b670_c8d9d2ac7d3brow14_col0\" class=\"data row14 col0\" >Categorical Imputer </td>\n",
       "                        <td id=\"T_65f50874_cfca_11ea_b670_c8d9d2ac7d3brow14_col1\" class=\"data row14 col1\" >constant</td>\n",
       "            </tr>\n",
       "            <tr>\n",
       "                        <th id=\"T_65f50874_cfca_11ea_b670_c8d9d2ac7d3blevel0_row15\" class=\"row_heading level0 row15\" >15</th>\n",
       "                        <td id=\"T_65f50874_cfca_11ea_b670_c8d9d2ac7d3brow15_col0\" class=\"data row15 col0\" >Normalize </td>\n",
       "                        <td id=\"T_65f50874_cfca_11ea_b670_c8d9d2ac7d3brow15_col1\" class=\"data row15 col1\" >False</td>\n",
       "            </tr>\n",
       "            <tr>\n",
       "                        <th id=\"T_65f50874_cfca_11ea_b670_c8d9d2ac7d3blevel0_row16\" class=\"row_heading level0 row16\" >16</th>\n",
       "                        <td id=\"T_65f50874_cfca_11ea_b670_c8d9d2ac7d3brow16_col0\" class=\"data row16 col0\" >Normalize Method </td>\n",
       "                        <td id=\"T_65f50874_cfca_11ea_b670_c8d9d2ac7d3brow16_col1\" class=\"data row16 col1\" >None</td>\n",
       "            </tr>\n",
       "            <tr>\n",
       "                        <th id=\"T_65f50874_cfca_11ea_b670_c8d9d2ac7d3blevel0_row17\" class=\"row_heading level0 row17\" >17</th>\n",
       "                        <td id=\"T_65f50874_cfca_11ea_b670_c8d9d2ac7d3brow17_col0\" class=\"data row17 col0\" >Transformation </td>\n",
       "                        <td id=\"T_65f50874_cfca_11ea_b670_c8d9d2ac7d3brow17_col1\" class=\"data row17 col1\" >False</td>\n",
       "            </tr>\n",
       "            <tr>\n",
       "                        <th id=\"T_65f50874_cfca_11ea_b670_c8d9d2ac7d3blevel0_row18\" class=\"row_heading level0 row18\" >18</th>\n",
       "                        <td id=\"T_65f50874_cfca_11ea_b670_c8d9d2ac7d3brow18_col0\" class=\"data row18 col0\" >Transformation Method </td>\n",
       "                        <td id=\"T_65f50874_cfca_11ea_b670_c8d9d2ac7d3brow18_col1\" class=\"data row18 col1\" >None</td>\n",
       "            </tr>\n",
       "            <tr>\n",
       "                        <th id=\"T_65f50874_cfca_11ea_b670_c8d9d2ac7d3blevel0_row19\" class=\"row_heading level0 row19\" >19</th>\n",
       "                        <td id=\"T_65f50874_cfca_11ea_b670_c8d9d2ac7d3brow19_col0\" class=\"data row19 col0\" >PCA </td>\n",
       "                        <td id=\"T_65f50874_cfca_11ea_b670_c8d9d2ac7d3brow19_col1\" class=\"data row19 col1\" >False</td>\n",
       "            </tr>\n",
       "            <tr>\n",
       "                        <th id=\"T_65f50874_cfca_11ea_b670_c8d9d2ac7d3blevel0_row20\" class=\"row_heading level0 row20\" >20</th>\n",
       "                        <td id=\"T_65f50874_cfca_11ea_b670_c8d9d2ac7d3brow20_col0\" class=\"data row20 col0\" >PCA Method </td>\n",
       "                        <td id=\"T_65f50874_cfca_11ea_b670_c8d9d2ac7d3brow20_col1\" class=\"data row20 col1\" >None</td>\n",
       "            </tr>\n",
       "            <tr>\n",
       "                        <th id=\"T_65f50874_cfca_11ea_b670_c8d9d2ac7d3blevel0_row21\" class=\"row_heading level0 row21\" >21</th>\n",
       "                        <td id=\"T_65f50874_cfca_11ea_b670_c8d9d2ac7d3brow21_col0\" class=\"data row21 col0\" >PCA Components </td>\n",
       "                        <td id=\"T_65f50874_cfca_11ea_b670_c8d9d2ac7d3brow21_col1\" class=\"data row21 col1\" >None</td>\n",
       "            </tr>\n",
       "            <tr>\n",
       "                        <th id=\"T_65f50874_cfca_11ea_b670_c8d9d2ac7d3blevel0_row22\" class=\"row_heading level0 row22\" >22</th>\n",
       "                        <td id=\"T_65f50874_cfca_11ea_b670_c8d9d2ac7d3brow22_col0\" class=\"data row22 col0\" >Ignore Low Variance </td>\n",
       "                        <td id=\"T_65f50874_cfca_11ea_b670_c8d9d2ac7d3brow22_col1\" class=\"data row22 col1\" >False</td>\n",
       "            </tr>\n",
       "            <tr>\n",
       "                        <th id=\"T_65f50874_cfca_11ea_b670_c8d9d2ac7d3blevel0_row23\" class=\"row_heading level0 row23\" >23</th>\n",
       "                        <td id=\"T_65f50874_cfca_11ea_b670_c8d9d2ac7d3brow23_col0\" class=\"data row23 col0\" >Combine Rare Levels </td>\n",
       "                        <td id=\"T_65f50874_cfca_11ea_b670_c8d9d2ac7d3brow23_col1\" class=\"data row23 col1\" >False</td>\n",
       "            </tr>\n",
       "            <tr>\n",
       "                        <th id=\"T_65f50874_cfca_11ea_b670_c8d9d2ac7d3blevel0_row24\" class=\"row_heading level0 row24\" >24</th>\n",
       "                        <td id=\"T_65f50874_cfca_11ea_b670_c8d9d2ac7d3brow24_col0\" class=\"data row24 col0\" >Rare Level Threshold </td>\n",
       "                        <td id=\"T_65f50874_cfca_11ea_b670_c8d9d2ac7d3brow24_col1\" class=\"data row24 col1\" >None</td>\n",
       "            </tr>\n",
       "            <tr>\n",
       "                        <th id=\"T_65f50874_cfca_11ea_b670_c8d9d2ac7d3blevel0_row25\" class=\"row_heading level0 row25\" >25</th>\n",
       "                        <td id=\"T_65f50874_cfca_11ea_b670_c8d9d2ac7d3brow25_col0\" class=\"data row25 col0\" >Numeric Binning </td>\n",
       "                        <td id=\"T_65f50874_cfca_11ea_b670_c8d9d2ac7d3brow25_col1\" class=\"data row25 col1\" >False</td>\n",
       "            </tr>\n",
       "            <tr>\n",
       "                        <th id=\"T_65f50874_cfca_11ea_b670_c8d9d2ac7d3blevel0_row26\" class=\"row_heading level0 row26\" >26</th>\n",
       "                        <td id=\"T_65f50874_cfca_11ea_b670_c8d9d2ac7d3brow26_col0\" class=\"data row26 col0\" >Remove Outliers </td>\n",
       "                        <td id=\"T_65f50874_cfca_11ea_b670_c8d9d2ac7d3brow26_col1\" class=\"data row26 col1\" >False</td>\n",
       "            </tr>\n",
       "            <tr>\n",
       "                        <th id=\"T_65f50874_cfca_11ea_b670_c8d9d2ac7d3blevel0_row27\" class=\"row_heading level0 row27\" >27</th>\n",
       "                        <td id=\"T_65f50874_cfca_11ea_b670_c8d9d2ac7d3brow27_col0\" class=\"data row27 col0\" >Outliers Threshold </td>\n",
       "                        <td id=\"T_65f50874_cfca_11ea_b670_c8d9d2ac7d3brow27_col1\" class=\"data row27 col1\" >None</td>\n",
       "            </tr>\n",
       "            <tr>\n",
       "                        <th id=\"T_65f50874_cfca_11ea_b670_c8d9d2ac7d3blevel0_row28\" class=\"row_heading level0 row28\" >28</th>\n",
       "                        <td id=\"T_65f50874_cfca_11ea_b670_c8d9d2ac7d3brow28_col0\" class=\"data row28 col0\" >Remove Multicollinearity </td>\n",
       "                        <td id=\"T_65f50874_cfca_11ea_b670_c8d9d2ac7d3brow28_col1\" class=\"data row28 col1\" >False</td>\n",
       "            </tr>\n",
       "            <tr>\n",
       "                        <th id=\"T_65f50874_cfca_11ea_b670_c8d9d2ac7d3blevel0_row29\" class=\"row_heading level0 row29\" >29</th>\n",
       "                        <td id=\"T_65f50874_cfca_11ea_b670_c8d9d2ac7d3brow29_col0\" class=\"data row29 col0\" >Multicollinearity Threshold </td>\n",
       "                        <td id=\"T_65f50874_cfca_11ea_b670_c8d9d2ac7d3brow29_col1\" class=\"data row29 col1\" >None</td>\n",
       "            </tr>\n",
       "            <tr>\n",
       "                        <th id=\"T_65f50874_cfca_11ea_b670_c8d9d2ac7d3blevel0_row30\" class=\"row_heading level0 row30\" >30</th>\n",
       "                        <td id=\"T_65f50874_cfca_11ea_b670_c8d9d2ac7d3brow30_col0\" class=\"data row30 col0\" >Clustering </td>\n",
       "                        <td id=\"T_65f50874_cfca_11ea_b670_c8d9d2ac7d3brow30_col1\" class=\"data row30 col1\" >False</td>\n",
       "            </tr>\n",
       "            <tr>\n",
       "                        <th id=\"T_65f50874_cfca_11ea_b670_c8d9d2ac7d3blevel0_row31\" class=\"row_heading level0 row31\" >31</th>\n",
       "                        <td id=\"T_65f50874_cfca_11ea_b670_c8d9d2ac7d3brow31_col0\" class=\"data row31 col0\" >Clustering Iteration </td>\n",
       "                        <td id=\"T_65f50874_cfca_11ea_b670_c8d9d2ac7d3brow31_col1\" class=\"data row31 col1\" >None</td>\n",
       "            </tr>\n",
       "            <tr>\n",
       "                        <th id=\"T_65f50874_cfca_11ea_b670_c8d9d2ac7d3blevel0_row32\" class=\"row_heading level0 row32\" >32</th>\n",
       "                        <td id=\"T_65f50874_cfca_11ea_b670_c8d9d2ac7d3brow32_col0\" class=\"data row32 col0\" >Polynomial Features </td>\n",
       "                        <td id=\"T_65f50874_cfca_11ea_b670_c8d9d2ac7d3brow32_col1\" class=\"data row32 col1\" >False</td>\n",
       "            </tr>\n",
       "            <tr>\n",
       "                        <th id=\"T_65f50874_cfca_11ea_b670_c8d9d2ac7d3blevel0_row33\" class=\"row_heading level0 row33\" >33</th>\n",
       "                        <td id=\"T_65f50874_cfca_11ea_b670_c8d9d2ac7d3brow33_col0\" class=\"data row33 col0\" >Polynomial Degree </td>\n",
       "                        <td id=\"T_65f50874_cfca_11ea_b670_c8d9d2ac7d3brow33_col1\" class=\"data row33 col1\" >None</td>\n",
       "            </tr>\n",
       "            <tr>\n",
       "                        <th id=\"T_65f50874_cfca_11ea_b670_c8d9d2ac7d3blevel0_row34\" class=\"row_heading level0 row34\" >34</th>\n",
       "                        <td id=\"T_65f50874_cfca_11ea_b670_c8d9d2ac7d3brow34_col0\" class=\"data row34 col0\" >Trignometry Features </td>\n",
       "                        <td id=\"T_65f50874_cfca_11ea_b670_c8d9d2ac7d3brow34_col1\" class=\"data row34 col1\" >False</td>\n",
       "            </tr>\n",
       "            <tr>\n",
       "                        <th id=\"T_65f50874_cfca_11ea_b670_c8d9d2ac7d3blevel0_row35\" class=\"row_heading level0 row35\" >35</th>\n",
       "                        <td id=\"T_65f50874_cfca_11ea_b670_c8d9d2ac7d3brow35_col0\" class=\"data row35 col0\" >Polynomial Threshold </td>\n",
       "                        <td id=\"T_65f50874_cfca_11ea_b670_c8d9d2ac7d3brow35_col1\" class=\"data row35 col1\" >None</td>\n",
       "            </tr>\n",
       "            <tr>\n",
       "                        <th id=\"T_65f50874_cfca_11ea_b670_c8d9d2ac7d3blevel0_row36\" class=\"row_heading level0 row36\" >36</th>\n",
       "                        <td id=\"T_65f50874_cfca_11ea_b670_c8d9d2ac7d3brow36_col0\" class=\"data row36 col0\" >Group Features </td>\n",
       "                        <td id=\"T_65f50874_cfca_11ea_b670_c8d9d2ac7d3brow36_col1\" class=\"data row36 col1\" >False</td>\n",
       "            </tr>\n",
       "            <tr>\n",
       "                        <th id=\"T_65f50874_cfca_11ea_b670_c8d9d2ac7d3blevel0_row37\" class=\"row_heading level0 row37\" >37</th>\n",
       "                        <td id=\"T_65f50874_cfca_11ea_b670_c8d9d2ac7d3brow37_col0\" class=\"data row37 col0\" >Feature Selection </td>\n",
       "                        <td id=\"T_65f50874_cfca_11ea_b670_c8d9d2ac7d3brow37_col1\" class=\"data row37 col1\" >False</td>\n",
       "            </tr>\n",
       "            <tr>\n",
       "                        <th id=\"T_65f50874_cfca_11ea_b670_c8d9d2ac7d3blevel0_row38\" class=\"row_heading level0 row38\" >38</th>\n",
       "                        <td id=\"T_65f50874_cfca_11ea_b670_c8d9d2ac7d3brow38_col0\" class=\"data row38 col0\" >Features Selection Threshold </td>\n",
       "                        <td id=\"T_65f50874_cfca_11ea_b670_c8d9d2ac7d3brow38_col1\" class=\"data row38 col1\" >None</td>\n",
       "            </tr>\n",
       "            <tr>\n",
       "                        <th id=\"T_65f50874_cfca_11ea_b670_c8d9d2ac7d3blevel0_row39\" class=\"row_heading level0 row39\" >39</th>\n",
       "                        <td id=\"T_65f50874_cfca_11ea_b670_c8d9d2ac7d3brow39_col0\" class=\"data row39 col0\" >Feature Interaction </td>\n",
       "                        <td id=\"T_65f50874_cfca_11ea_b670_c8d9d2ac7d3brow39_col1\" class=\"data row39 col1\" >False</td>\n",
       "            </tr>\n",
       "            <tr>\n",
       "                        <th id=\"T_65f50874_cfca_11ea_b670_c8d9d2ac7d3blevel0_row40\" class=\"row_heading level0 row40\" >40</th>\n",
       "                        <td id=\"T_65f50874_cfca_11ea_b670_c8d9d2ac7d3brow40_col0\" class=\"data row40 col0\" >Feature Ratio </td>\n",
       "                        <td id=\"T_65f50874_cfca_11ea_b670_c8d9d2ac7d3brow40_col1\" class=\"data row40 col1\" >False</td>\n",
       "            </tr>\n",
       "            <tr>\n",
       "                        <th id=\"T_65f50874_cfca_11ea_b670_c8d9d2ac7d3blevel0_row41\" class=\"row_heading level0 row41\" >41</th>\n",
       "                        <td id=\"T_65f50874_cfca_11ea_b670_c8d9d2ac7d3brow41_col0\" class=\"data row41 col0\" >Interaction Threshold </td>\n",
       "                        <td id=\"T_65f50874_cfca_11ea_b670_c8d9d2ac7d3brow41_col1\" class=\"data row41 col1\" >None</td>\n",
       "            </tr>\n",
       "    </tbody></table>"
      ],
      "text/plain": [
       "<pandas.io.formats.style.Styler at 0x29f08bc7d68>"
      ]
     },
     "metadata": {},
     "output_type": "display_data"
    }
   ],
   "source": [
    "regression = setup(data=boston_df,target=\"medv\")"
   ]
  },
  {
   "cell_type": "code",
   "execution_count": 16,
   "metadata": {},
   "outputs": [
    {
     "data": {
      "text/html": [
       "<style  type=\"text/css\" >\n",
       "    #T_c16b659c_cfca_11ea_b110_c8d9d2ac7d3b th {\n",
       "          text-align: left;\n",
       "    }    #T_c16b659c_cfca_11ea_b110_c8d9d2ac7d3brow0_col0 {\n",
       "            text-align:  left;\n",
       "        }    #T_c16b659c_cfca_11ea_b110_c8d9d2ac7d3brow0_col1 {\n",
       "            background-color:  yellow;\n",
       "            text-align:  left;\n",
       "        }    #T_c16b659c_cfca_11ea_b110_c8d9d2ac7d3brow0_col2 {\n",
       "            background-color:  yellow;\n",
       "            text-align:  left;\n",
       "        }    #T_c16b659c_cfca_11ea_b110_c8d9d2ac7d3brow0_col3 {\n",
       "            background-color:  yellow;\n",
       "            text-align:  left;\n",
       "        }    #T_c16b659c_cfca_11ea_b110_c8d9d2ac7d3brow0_col4 {\n",
       "            text-align:  left;\n",
       "        }    #T_c16b659c_cfca_11ea_b110_c8d9d2ac7d3brow0_col5 {\n",
       "            : ;\n",
       "            text-align:  left;\n",
       "        }    #T_c16b659c_cfca_11ea_b110_c8d9d2ac7d3brow0_col6 {\n",
       "            background-color:  yellow;\n",
       "            text-align:  left;\n",
       "        }    #T_c16b659c_cfca_11ea_b110_c8d9d2ac7d3brow1_col0 {\n",
       "            text-align:  left;\n",
       "        }    #T_c16b659c_cfca_11ea_b110_c8d9d2ac7d3brow1_col1 {\n",
       "            : ;\n",
       "            text-align:  left;\n",
       "        }    #T_c16b659c_cfca_11ea_b110_c8d9d2ac7d3brow1_col2 {\n",
       "            : ;\n",
       "            text-align:  left;\n",
       "        }    #T_c16b659c_cfca_11ea_b110_c8d9d2ac7d3brow1_col3 {\n",
       "            : ;\n",
       "            text-align:  left;\n",
       "        }    #T_c16b659c_cfca_11ea_b110_c8d9d2ac7d3brow1_col4 {\n",
       "            text-align:  left;\n",
       "        }    #T_c16b659c_cfca_11ea_b110_c8d9d2ac7d3brow1_col5 {\n",
       "            background-color:  yellow;\n",
       "            text-align:  left;\n",
       "        }    #T_c16b659c_cfca_11ea_b110_c8d9d2ac7d3brow1_col6 {\n",
       "            : ;\n",
       "            text-align:  left;\n",
       "        }    #T_c16b659c_cfca_11ea_b110_c8d9d2ac7d3brow2_col0 {\n",
       "            text-align:  left;\n",
       "        }    #T_c16b659c_cfca_11ea_b110_c8d9d2ac7d3brow2_col1 {\n",
       "            : ;\n",
       "            text-align:  left;\n",
       "        }    #T_c16b659c_cfca_11ea_b110_c8d9d2ac7d3brow2_col2 {\n",
       "            : ;\n",
       "            text-align:  left;\n",
       "        }    #T_c16b659c_cfca_11ea_b110_c8d9d2ac7d3brow2_col3 {\n",
       "            : ;\n",
       "            text-align:  left;\n",
       "        }    #T_c16b659c_cfca_11ea_b110_c8d9d2ac7d3brow2_col4 {\n",
       "            text-align:  left;\n",
       "        }    #T_c16b659c_cfca_11ea_b110_c8d9d2ac7d3brow2_col5 {\n",
       "            : ;\n",
       "            text-align:  left;\n",
       "        }    #T_c16b659c_cfca_11ea_b110_c8d9d2ac7d3brow2_col6 {\n",
       "            : ;\n",
       "            text-align:  left;\n",
       "        }    #T_c16b659c_cfca_11ea_b110_c8d9d2ac7d3brow3_col0 {\n",
       "            text-align:  left;\n",
       "        }    #T_c16b659c_cfca_11ea_b110_c8d9d2ac7d3brow3_col1 {\n",
       "            : ;\n",
       "            text-align:  left;\n",
       "        }    #T_c16b659c_cfca_11ea_b110_c8d9d2ac7d3brow3_col2 {\n",
       "            : ;\n",
       "            text-align:  left;\n",
       "        }    #T_c16b659c_cfca_11ea_b110_c8d9d2ac7d3brow3_col3 {\n",
       "            : ;\n",
       "            text-align:  left;\n",
       "        }    #T_c16b659c_cfca_11ea_b110_c8d9d2ac7d3brow3_col4 {\n",
       "            text-align:  left;\n",
       "        }    #T_c16b659c_cfca_11ea_b110_c8d9d2ac7d3brow3_col5 {\n",
       "            : ;\n",
       "            text-align:  left;\n",
       "        }    #T_c16b659c_cfca_11ea_b110_c8d9d2ac7d3brow3_col6 {\n",
       "            : ;\n",
       "            text-align:  left;\n",
       "        }    #T_c16b659c_cfca_11ea_b110_c8d9d2ac7d3brow4_col0 {\n",
       "            text-align:  left;\n",
       "        }    #T_c16b659c_cfca_11ea_b110_c8d9d2ac7d3brow4_col1 {\n",
       "            : ;\n",
       "            text-align:  left;\n",
       "        }    #T_c16b659c_cfca_11ea_b110_c8d9d2ac7d3brow4_col2 {\n",
       "            : ;\n",
       "            text-align:  left;\n",
       "        }    #T_c16b659c_cfca_11ea_b110_c8d9d2ac7d3brow4_col3 {\n",
       "            : ;\n",
       "            text-align:  left;\n",
       "        }    #T_c16b659c_cfca_11ea_b110_c8d9d2ac7d3brow4_col4 {\n",
       "            text-align:  left;\n",
       "        }    #T_c16b659c_cfca_11ea_b110_c8d9d2ac7d3brow4_col5 {\n",
       "            : ;\n",
       "            text-align:  left;\n",
       "        }    #T_c16b659c_cfca_11ea_b110_c8d9d2ac7d3brow4_col6 {\n",
       "            : ;\n",
       "            text-align:  left;\n",
       "        }    #T_c16b659c_cfca_11ea_b110_c8d9d2ac7d3brow5_col0 {\n",
       "            text-align:  left;\n",
       "        }    #T_c16b659c_cfca_11ea_b110_c8d9d2ac7d3brow5_col1 {\n",
       "            : ;\n",
       "            text-align:  left;\n",
       "        }    #T_c16b659c_cfca_11ea_b110_c8d9d2ac7d3brow5_col2 {\n",
       "            : ;\n",
       "            text-align:  left;\n",
       "        }    #T_c16b659c_cfca_11ea_b110_c8d9d2ac7d3brow5_col3 {\n",
       "            : ;\n",
       "            text-align:  left;\n",
       "        }    #T_c16b659c_cfca_11ea_b110_c8d9d2ac7d3brow5_col4 {\n",
       "            text-align:  left;\n",
       "        }    #T_c16b659c_cfca_11ea_b110_c8d9d2ac7d3brow5_col5 {\n",
       "            : ;\n",
       "            text-align:  left;\n",
       "        }    #T_c16b659c_cfca_11ea_b110_c8d9d2ac7d3brow5_col6 {\n",
       "            : ;\n",
       "            text-align:  left;\n",
       "        }    #T_c16b659c_cfca_11ea_b110_c8d9d2ac7d3brow6_col0 {\n",
       "            text-align:  left;\n",
       "        }    #T_c16b659c_cfca_11ea_b110_c8d9d2ac7d3brow6_col1 {\n",
       "            : ;\n",
       "            text-align:  left;\n",
       "        }    #T_c16b659c_cfca_11ea_b110_c8d9d2ac7d3brow6_col2 {\n",
       "            : ;\n",
       "            text-align:  left;\n",
       "        }    #T_c16b659c_cfca_11ea_b110_c8d9d2ac7d3brow6_col3 {\n",
       "            : ;\n",
       "            text-align:  left;\n",
       "        }    #T_c16b659c_cfca_11ea_b110_c8d9d2ac7d3brow6_col4 {\n",
       "            text-align:  left;\n",
       "        }    #T_c16b659c_cfca_11ea_b110_c8d9d2ac7d3brow6_col5 {\n",
       "            : ;\n",
       "            text-align:  left;\n",
       "        }    #T_c16b659c_cfca_11ea_b110_c8d9d2ac7d3brow6_col6 {\n",
       "            : ;\n",
       "            text-align:  left;\n",
       "        }    #T_c16b659c_cfca_11ea_b110_c8d9d2ac7d3brow7_col0 {\n",
       "            text-align:  left;\n",
       "        }    #T_c16b659c_cfca_11ea_b110_c8d9d2ac7d3brow7_col1 {\n",
       "            : ;\n",
       "            text-align:  left;\n",
       "        }    #T_c16b659c_cfca_11ea_b110_c8d9d2ac7d3brow7_col2 {\n",
       "            : ;\n",
       "            text-align:  left;\n",
       "        }    #T_c16b659c_cfca_11ea_b110_c8d9d2ac7d3brow7_col3 {\n",
       "            : ;\n",
       "            text-align:  left;\n",
       "        }    #T_c16b659c_cfca_11ea_b110_c8d9d2ac7d3brow7_col4 {\n",
       "            text-align:  left;\n",
       "        }    #T_c16b659c_cfca_11ea_b110_c8d9d2ac7d3brow7_col5 {\n",
       "            : ;\n",
       "            text-align:  left;\n",
       "        }    #T_c16b659c_cfca_11ea_b110_c8d9d2ac7d3brow7_col6 {\n",
       "            : ;\n",
       "            text-align:  left;\n",
       "        }    #T_c16b659c_cfca_11ea_b110_c8d9d2ac7d3brow8_col0 {\n",
       "            text-align:  left;\n",
       "        }    #T_c16b659c_cfca_11ea_b110_c8d9d2ac7d3brow8_col1 {\n",
       "            : ;\n",
       "            text-align:  left;\n",
       "        }    #T_c16b659c_cfca_11ea_b110_c8d9d2ac7d3brow8_col2 {\n",
       "            : ;\n",
       "            text-align:  left;\n",
       "        }    #T_c16b659c_cfca_11ea_b110_c8d9d2ac7d3brow8_col3 {\n",
       "            : ;\n",
       "            text-align:  left;\n",
       "        }    #T_c16b659c_cfca_11ea_b110_c8d9d2ac7d3brow8_col4 {\n",
       "            text-align:  left;\n",
       "        }    #T_c16b659c_cfca_11ea_b110_c8d9d2ac7d3brow8_col5 {\n",
       "            : ;\n",
       "            text-align:  left;\n",
       "        }    #T_c16b659c_cfca_11ea_b110_c8d9d2ac7d3brow8_col6 {\n",
       "            : ;\n",
       "            text-align:  left;\n",
       "        }    #T_c16b659c_cfca_11ea_b110_c8d9d2ac7d3brow9_col0 {\n",
       "            text-align:  left;\n",
       "        }    #T_c16b659c_cfca_11ea_b110_c8d9d2ac7d3brow9_col1 {\n",
       "            : ;\n",
       "            text-align:  left;\n",
       "        }    #T_c16b659c_cfca_11ea_b110_c8d9d2ac7d3brow9_col2 {\n",
       "            : ;\n",
       "            text-align:  left;\n",
       "        }    #T_c16b659c_cfca_11ea_b110_c8d9d2ac7d3brow9_col3 {\n",
       "            : ;\n",
       "            text-align:  left;\n",
       "        }    #T_c16b659c_cfca_11ea_b110_c8d9d2ac7d3brow9_col4 {\n",
       "            text-align:  left;\n",
       "        }    #T_c16b659c_cfca_11ea_b110_c8d9d2ac7d3brow9_col5 {\n",
       "            : ;\n",
       "            text-align:  left;\n",
       "        }    #T_c16b659c_cfca_11ea_b110_c8d9d2ac7d3brow9_col6 {\n",
       "            : ;\n",
       "            text-align:  left;\n",
       "        }    #T_c16b659c_cfca_11ea_b110_c8d9d2ac7d3brow10_col0 {\n",
       "            text-align:  left;\n",
       "        }    #T_c16b659c_cfca_11ea_b110_c8d9d2ac7d3brow10_col1 {\n",
       "            : ;\n",
       "            text-align:  left;\n",
       "        }    #T_c16b659c_cfca_11ea_b110_c8d9d2ac7d3brow10_col2 {\n",
       "            : ;\n",
       "            text-align:  left;\n",
       "        }    #T_c16b659c_cfca_11ea_b110_c8d9d2ac7d3brow10_col3 {\n",
       "            : ;\n",
       "            text-align:  left;\n",
       "        }    #T_c16b659c_cfca_11ea_b110_c8d9d2ac7d3brow10_col4 {\n",
       "            text-align:  left;\n",
       "        }    #T_c16b659c_cfca_11ea_b110_c8d9d2ac7d3brow10_col5 {\n",
       "            : ;\n",
       "            text-align:  left;\n",
       "        }    #T_c16b659c_cfca_11ea_b110_c8d9d2ac7d3brow10_col6 {\n",
       "            : ;\n",
       "            text-align:  left;\n",
       "        }    #T_c16b659c_cfca_11ea_b110_c8d9d2ac7d3brow11_col0 {\n",
       "            text-align:  left;\n",
       "        }    #T_c16b659c_cfca_11ea_b110_c8d9d2ac7d3brow11_col1 {\n",
       "            : ;\n",
       "            text-align:  left;\n",
       "        }    #T_c16b659c_cfca_11ea_b110_c8d9d2ac7d3brow11_col2 {\n",
       "            : ;\n",
       "            text-align:  left;\n",
       "        }    #T_c16b659c_cfca_11ea_b110_c8d9d2ac7d3brow11_col3 {\n",
       "            : ;\n",
       "            text-align:  left;\n",
       "        }    #T_c16b659c_cfca_11ea_b110_c8d9d2ac7d3brow11_col4 {\n",
       "            text-align:  left;\n",
       "        }    #T_c16b659c_cfca_11ea_b110_c8d9d2ac7d3brow11_col5 {\n",
       "            : ;\n",
       "            text-align:  left;\n",
       "        }    #T_c16b659c_cfca_11ea_b110_c8d9d2ac7d3brow11_col6 {\n",
       "            : ;\n",
       "            text-align:  left;\n",
       "        }    #T_c16b659c_cfca_11ea_b110_c8d9d2ac7d3brow12_col0 {\n",
       "            text-align:  left;\n",
       "        }    #T_c16b659c_cfca_11ea_b110_c8d9d2ac7d3brow12_col1 {\n",
       "            : ;\n",
       "            text-align:  left;\n",
       "        }    #T_c16b659c_cfca_11ea_b110_c8d9d2ac7d3brow12_col2 {\n",
       "            : ;\n",
       "            text-align:  left;\n",
       "        }    #T_c16b659c_cfca_11ea_b110_c8d9d2ac7d3brow12_col3 {\n",
       "            : ;\n",
       "            text-align:  left;\n",
       "        }    #T_c16b659c_cfca_11ea_b110_c8d9d2ac7d3brow12_col4 {\n",
       "            text-align:  left;\n",
       "        }    #T_c16b659c_cfca_11ea_b110_c8d9d2ac7d3brow12_col5 {\n",
       "            : ;\n",
       "            text-align:  left;\n",
       "        }    #T_c16b659c_cfca_11ea_b110_c8d9d2ac7d3brow12_col6 {\n",
       "            : ;\n",
       "            text-align:  left;\n",
       "        }    #T_c16b659c_cfca_11ea_b110_c8d9d2ac7d3brow13_col0 {\n",
       "            text-align:  left;\n",
       "        }    #T_c16b659c_cfca_11ea_b110_c8d9d2ac7d3brow13_col1 {\n",
       "            : ;\n",
       "            text-align:  left;\n",
       "        }    #T_c16b659c_cfca_11ea_b110_c8d9d2ac7d3brow13_col2 {\n",
       "            : ;\n",
       "            text-align:  left;\n",
       "        }    #T_c16b659c_cfca_11ea_b110_c8d9d2ac7d3brow13_col3 {\n",
       "            : ;\n",
       "            text-align:  left;\n",
       "        }    #T_c16b659c_cfca_11ea_b110_c8d9d2ac7d3brow13_col4 {\n",
       "            text-align:  left;\n",
       "        }    #T_c16b659c_cfca_11ea_b110_c8d9d2ac7d3brow13_col5 {\n",
       "            : ;\n",
       "            text-align:  left;\n",
       "        }    #T_c16b659c_cfca_11ea_b110_c8d9d2ac7d3brow13_col6 {\n",
       "            : ;\n",
       "            text-align:  left;\n",
       "        }    #T_c16b659c_cfca_11ea_b110_c8d9d2ac7d3brow14_col0 {\n",
       "            text-align:  left;\n",
       "        }    #T_c16b659c_cfca_11ea_b110_c8d9d2ac7d3brow14_col1 {\n",
       "            : ;\n",
       "            text-align:  left;\n",
       "        }    #T_c16b659c_cfca_11ea_b110_c8d9d2ac7d3brow14_col2 {\n",
       "            : ;\n",
       "            text-align:  left;\n",
       "        }    #T_c16b659c_cfca_11ea_b110_c8d9d2ac7d3brow14_col3 {\n",
       "            : ;\n",
       "            text-align:  left;\n",
       "        }    #T_c16b659c_cfca_11ea_b110_c8d9d2ac7d3brow14_col4 {\n",
       "            text-align:  left;\n",
       "        }    #T_c16b659c_cfca_11ea_b110_c8d9d2ac7d3brow14_col5 {\n",
       "            : ;\n",
       "            text-align:  left;\n",
       "        }    #T_c16b659c_cfca_11ea_b110_c8d9d2ac7d3brow14_col6 {\n",
       "            : ;\n",
       "            text-align:  left;\n",
       "        }    #T_c16b659c_cfca_11ea_b110_c8d9d2ac7d3brow15_col0 {\n",
       "            text-align:  left;\n",
       "        }    #T_c16b659c_cfca_11ea_b110_c8d9d2ac7d3brow15_col1 {\n",
       "            : ;\n",
       "            text-align:  left;\n",
       "        }    #T_c16b659c_cfca_11ea_b110_c8d9d2ac7d3brow15_col2 {\n",
       "            : ;\n",
       "            text-align:  left;\n",
       "        }    #T_c16b659c_cfca_11ea_b110_c8d9d2ac7d3brow15_col3 {\n",
       "            : ;\n",
       "            text-align:  left;\n",
       "        }    #T_c16b659c_cfca_11ea_b110_c8d9d2ac7d3brow15_col4 {\n",
       "            text-align:  left;\n",
       "        }    #T_c16b659c_cfca_11ea_b110_c8d9d2ac7d3brow15_col5 {\n",
       "            : ;\n",
       "            text-align:  left;\n",
       "        }    #T_c16b659c_cfca_11ea_b110_c8d9d2ac7d3brow15_col6 {\n",
       "            : ;\n",
       "            text-align:  left;\n",
       "        }    #T_c16b659c_cfca_11ea_b110_c8d9d2ac7d3brow16_col0 {\n",
       "            text-align:  left;\n",
       "        }    #T_c16b659c_cfca_11ea_b110_c8d9d2ac7d3brow16_col1 {\n",
       "            : ;\n",
       "            text-align:  left;\n",
       "        }    #T_c16b659c_cfca_11ea_b110_c8d9d2ac7d3brow16_col2 {\n",
       "            : ;\n",
       "            text-align:  left;\n",
       "        }    #T_c16b659c_cfca_11ea_b110_c8d9d2ac7d3brow16_col3 {\n",
       "            : ;\n",
       "            text-align:  left;\n",
       "        }    #T_c16b659c_cfca_11ea_b110_c8d9d2ac7d3brow16_col4 {\n",
       "            text-align:  left;\n",
       "        }    #T_c16b659c_cfca_11ea_b110_c8d9d2ac7d3brow16_col5 {\n",
       "            : ;\n",
       "            text-align:  left;\n",
       "        }    #T_c16b659c_cfca_11ea_b110_c8d9d2ac7d3brow16_col6 {\n",
       "            : ;\n",
       "            text-align:  left;\n",
       "        }    #T_c16b659c_cfca_11ea_b110_c8d9d2ac7d3brow17_col0 {\n",
       "            text-align:  left;\n",
       "        }    #T_c16b659c_cfca_11ea_b110_c8d9d2ac7d3brow17_col1 {\n",
       "            : ;\n",
       "            text-align:  left;\n",
       "        }    #T_c16b659c_cfca_11ea_b110_c8d9d2ac7d3brow17_col2 {\n",
       "            : ;\n",
       "            text-align:  left;\n",
       "        }    #T_c16b659c_cfca_11ea_b110_c8d9d2ac7d3brow17_col3 {\n",
       "            : ;\n",
       "            text-align:  left;\n",
       "        }    #T_c16b659c_cfca_11ea_b110_c8d9d2ac7d3brow17_col4 {\n",
       "            text-align:  left;\n",
       "        }    #T_c16b659c_cfca_11ea_b110_c8d9d2ac7d3brow17_col5 {\n",
       "            : ;\n",
       "            text-align:  left;\n",
       "        }    #T_c16b659c_cfca_11ea_b110_c8d9d2ac7d3brow17_col6 {\n",
       "            : ;\n",
       "            text-align:  left;\n",
       "        }    #T_c16b659c_cfca_11ea_b110_c8d9d2ac7d3brow18_col0 {\n",
       "            text-align:  left;\n",
       "        }    #T_c16b659c_cfca_11ea_b110_c8d9d2ac7d3brow18_col1 {\n",
       "            : ;\n",
       "            text-align:  left;\n",
       "        }    #T_c16b659c_cfca_11ea_b110_c8d9d2ac7d3brow18_col2 {\n",
       "            : ;\n",
       "            text-align:  left;\n",
       "        }    #T_c16b659c_cfca_11ea_b110_c8d9d2ac7d3brow18_col3 {\n",
       "            : ;\n",
       "            text-align:  left;\n",
       "        }    #T_c16b659c_cfca_11ea_b110_c8d9d2ac7d3brow18_col4 {\n",
       "            text-align:  left;\n",
       "        }    #T_c16b659c_cfca_11ea_b110_c8d9d2ac7d3brow18_col5 {\n",
       "            : ;\n",
       "            text-align:  left;\n",
       "        }    #T_c16b659c_cfca_11ea_b110_c8d9d2ac7d3brow18_col6 {\n",
       "            : ;\n",
       "            text-align:  left;\n",
       "        }    #T_c16b659c_cfca_11ea_b110_c8d9d2ac7d3brow19_col0 {\n",
       "            text-align:  left;\n",
       "        }    #T_c16b659c_cfca_11ea_b110_c8d9d2ac7d3brow19_col1 {\n",
       "            : ;\n",
       "            text-align:  left;\n",
       "        }    #T_c16b659c_cfca_11ea_b110_c8d9d2ac7d3brow19_col2 {\n",
       "            : ;\n",
       "            text-align:  left;\n",
       "        }    #T_c16b659c_cfca_11ea_b110_c8d9d2ac7d3brow19_col3 {\n",
       "            : ;\n",
       "            text-align:  left;\n",
       "        }    #T_c16b659c_cfca_11ea_b110_c8d9d2ac7d3brow19_col4 {\n",
       "            text-align:  left;\n",
       "        }    #T_c16b659c_cfca_11ea_b110_c8d9d2ac7d3brow19_col5 {\n",
       "            : ;\n",
       "            text-align:  left;\n",
       "        }    #T_c16b659c_cfca_11ea_b110_c8d9d2ac7d3brow19_col6 {\n",
       "            : ;\n",
       "            text-align:  left;\n",
       "        }    #T_c16b659c_cfca_11ea_b110_c8d9d2ac7d3brow20_col0 {\n",
       "            text-align:  left;\n",
       "        }    #T_c16b659c_cfca_11ea_b110_c8d9d2ac7d3brow20_col1 {\n",
       "            : ;\n",
       "            text-align:  left;\n",
       "        }    #T_c16b659c_cfca_11ea_b110_c8d9d2ac7d3brow20_col2 {\n",
       "            : ;\n",
       "            text-align:  left;\n",
       "        }    #T_c16b659c_cfca_11ea_b110_c8d9d2ac7d3brow20_col3 {\n",
       "            : ;\n",
       "            text-align:  left;\n",
       "        }    #T_c16b659c_cfca_11ea_b110_c8d9d2ac7d3brow20_col4 {\n",
       "            text-align:  left;\n",
       "        }    #T_c16b659c_cfca_11ea_b110_c8d9d2ac7d3brow20_col5 {\n",
       "            : ;\n",
       "            text-align:  left;\n",
       "        }    #T_c16b659c_cfca_11ea_b110_c8d9d2ac7d3brow20_col6 {\n",
       "            : ;\n",
       "            text-align:  left;\n",
       "        }    #T_c16b659c_cfca_11ea_b110_c8d9d2ac7d3brow21_col0 {\n",
       "            text-align:  left;\n",
       "        }    #T_c16b659c_cfca_11ea_b110_c8d9d2ac7d3brow21_col1 {\n",
       "            : ;\n",
       "            text-align:  left;\n",
       "        }    #T_c16b659c_cfca_11ea_b110_c8d9d2ac7d3brow21_col2 {\n",
       "            : ;\n",
       "            text-align:  left;\n",
       "        }    #T_c16b659c_cfca_11ea_b110_c8d9d2ac7d3brow21_col3 {\n",
       "            : ;\n",
       "            text-align:  left;\n",
       "        }    #T_c16b659c_cfca_11ea_b110_c8d9d2ac7d3brow21_col4 {\n",
       "            text-align:  left;\n",
       "        }    #T_c16b659c_cfca_11ea_b110_c8d9d2ac7d3brow21_col5 {\n",
       "            : ;\n",
       "            text-align:  left;\n",
       "        }    #T_c16b659c_cfca_11ea_b110_c8d9d2ac7d3brow21_col6 {\n",
       "            : ;\n",
       "            text-align:  left;\n",
       "        }</style><table id=\"T_c16b659c_cfca_11ea_b110_c8d9d2ac7d3b\" ><thead>    <tr>        <th class=\"blank level0\" ></th>        <th class=\"col_heading level0 col0\" >Model</th>        <th class=\"col_heading level0 col1\" >MAE</th>        <th class=\"col_heading level0 col2\" >MSE</th>        <th class=\"col_heading level0 col3\" >RMSE</th>        <th class=\"col_heading level0 col4\" >R2</th>        <th class=\"col_heading level0 col5\" >RMSLE</th>        <th class=\"col_heading level0 col6\" >MAPE</th>    </tr></thead><tbody>\n",
       "                <tr>\n",
       "                        <th id=\"T_c16b659c_cfca_11ea_b110_c8d9d2ac7d3blevel0_row0\" class=\"row_heading level0 row0\" >0</th>\n",
       "                        <td id=\"T_c16b659c_cfca_11ea_b110_c8d9d2ac7d3brow0_col0\" class=\"data row0 col0\" >CatBoost Regressor</td>\n",
       "                        <td id=\"T_c16b659c_cfca_11ea_b110_c8d9d2ac7d3brow0_col1\" class=\"data row0 col1\" >2.152300</td>\n",
       "                        <td id=\"T_c16b659c_cfca_11ea_b110_c8d9d2ac7d3brow0_col2\" class=\"data row0 col2\" >10.727600</td>\n",
       "                        <td id=\"T_c16b659c_cfca_11ea_b110_c8d9d2ac7d3brow0_col3\" class=\"data row0 col3\" >3.205600</td>\n",
       "                        <td id=\"T_c16b659c_cfca_11ea_b110_c8d9d2ac7d3brow0_col4\" class=\"data row0 col4\" >0.834500</td>\n",
       "                        <td id=\"T_c16b659c_cfca_11ea_b110_c8d9d2ac7d3brow0_col5\" class=\"data row0 col5\" >0.149300</td>\n",
       "                        <td id=\"T_c16b659c_cfca_11ea_b110_c8d9d2ac7d3brow0_col6\" class=\"data row0 col6\" >0.111100</td>\n",
       "            </tr>\n",
       "            <tr>\n",
       "                        <th id=\"T_c16b659c_cfca_11ea_b110_c8d9d2ac7d3blevel0_row1\" class=\"row_heading level0 row1\" >1</th>\n",
       "                        <td id=\"T_c16b659c_cfca_11ea_b110_c8d9d2ac7d3brow1_col0\" class=\"data row1 col0\" >Gradient Boosting Regressor</td>\n",
       "                        <td id=\"T_c16b659c_cfca_11ea_b110_c8d9d2ac7d3brow1_col1\" class=\"data row1 col1\" >2.218000</td>\n",
       "                        <td id=\"T_c16b659c_cfca_11ea_b110_c8d9d2ac7d3brow1_col2\" class=\"data row1 col2\" >10.733600</td>\n",
       "                        <td id=\"T_c16b659c_cfca_11ea_b110_c8d9d2ac7d3brow1_col3\" class=\"data row1 col3\" >3.223100</td>\n",
       "                        <td id=\"T_c16b659c_cfca_11ea_b110_c8d9d2ac7d3brow1_col4\" class=\"data row1 col4\" >0.822700</td>\n",
       "                        <td id=\"T_c16b659c_cfca_11ea_b110_c8d9d2ac7d3brow1_col5\" class=\"data row1 col5\" >0.147800</td>\n",
       "                        <td id=\"T_c16b659c_cfca_11ea_b110_c8d9d2ac7d3brow1_col6\" class=\"data row1 col6\" >0.115200</td>\n",
       "            </tr>\n",
       "            <tr>\n",
       "                        <th id=\"T_c16b659c_cfca_11ea_b110_c8d9d2ac7d3blevel0_row2\" class=\"row_heading level0 row2\" >2</th>\n",
       "                        <td id=\"T_c16b659c_cfca_11ea_b110_c8d9d2ac7d3brow2_col0\" class=\"data row2 col0\" >Extra Trees Regressor</td>\n",
       "                        <td id=\"T_c16b659c_cfca_11ea_b110_c8d9d2ac7d3brow2_col1\" class=\"data row2 col1\" >2.253900</td>\n",
       "                        <td id=\"T_c16b659c_cfca_11ea_b110_c8d9d2ac7d3brow2_col2\" class=\"data row2 col2\" >11.691100</td>\n",
       "                        <td id=\"T_c16b659c_cfca_11ea_b110_c8d9d2ac7d3brow2_col3\" class=\"data row2 col3\" >3.327600</td>\n",
       "                        <td id=\"T_c16b659c_cfca_11ea_b110_c8d9d2ac7d3brow2_col4\" class=\"data row2 col4\" >0.816000</td>\n",
       "                        <td id=\"T_c16b659c_cfca_11ea_b110_c8d9d2ac7d3brow2_col5\" class=\"data row2 col5\" >0.148000</td>\n",
       "                        <td id=\"T_c16b659c_cfca_11ea_b110_c8d9d2ac7d3brow2_col6\" class=\"data row2 col6\" >0.114100</td>\n",
       "            </tr>\n",
       "            <tr>\n",
       "                        <th id=\"T_c16b659c_cfca_11ea_b110_c8d9d2ac7d3blevel0_row3\" class=\"row_heading level0 row3\" >3</th>\n",
       "                        <td id=\"T_c16b659c_cfca_11ea_b110_c8d9d2ac7d3brow3_col0\" class=\"data row3 col0\" >Extreme Gradient Boosting</td>\n",
       "                        <td id=\"T_c16b659c_cfca_11ea_b110_c8d9d2ac7d3brow3_col1\" class=\"data row3 col1\" >2.368900</td>\n",
       "                        <td id=\"T_c16b659c_cfca_11ea_b110_c8d9d2ac7d3brow3_col2\" class=\"data row3 col2\" >12.898100</td>\n",
       "                        <td id=\"T_c16b659c_cfca_11ea_b110_c8d9d2ac7d3brow3_col3\" class=\"data row3 col3\" >3.503600</td>\n",
       "                        <td id=\"T_c16b659c_cfca_11ea_b110_c8d9d2ac7d3brow3_col4\" class=\"data row3 col4\" >0.805800</td>\n",
       "                        <td id=\"T_c16b659c_cfca_11ea_b110_c8d9d2ac7d3brow3_col5\" class=\"data row3 col5\" >0.158600</td>\n",
       "                        <td id=\"T_c16b659c_cfca_11ea_b110_c8d9d2ac7d3brow3_col6\" class=\"data row3 col6\" >0.121900</td>\n",
       "            </tr>\n",
       "            <tr>\n",
       "                        <th id=\"T_c16b659c_cfca_11ea_b110_c8d9d2ac7d3blevel0_row4\" class=\"row_heading level0 row4\" >4</th>\n",
       "                        <td id=\"T_c16b659c_cfca_11ea_b110_c8d9d2ac7d3brow4_col0\" class=\"data row4 col0\" >Random Forest</td>\n",
       "                        <td id=\"T_c16b659c_cfca_11ea_b110_c8d9d2ac7d3brow4_col1\" class=\"data row4 col1\" >2.444400</td>\n",
       "                        <td id=\"T_c16b659c_cfca_11ea_b110_c8d9d2ac7d3brow4_col2\" class=\"data row4 col2\" >13.528200</td>\n",
       "                        <td id=\"T_c16b659c_cfca_11ea_b110_c8d9d2ac7d3brow4_col3\" class=\"data row4 col3\" >3.603900</td>\n",
       "                        <td id=\"T_c16b659c_cfca_11ea_b110_c8d9d2ac7d3brow4_col4\" class=\"data row4 col4\" >0.798500</td>\n",
       "                        <td id=\"T_c16b659c_cfca_11ea_b110_c8d9d2ac7d3brow4_col5\" class=\"data row4 col5\" >0.157400</td>\n",
       "                        <td id=\"T_c16b659c_cfca_11ea_b110_c8d9d2ac7d3brow4_col6\" class=\"data row4 col6\" >0.123500</td>\n",
       "            </tr>\n",
       "            <tr>\n",
       "                        <th id=\"T_c16b659c_cfca_11ea_b110_c8d9d2ac7d3blevel0_row5\" class=\"row_heading level0 row5\" >5</th>\n",
       "                        <td id=\"T_c16b659c_cfca_11ea_b110_c8d9d2ac7d3brow5_col0\" class=\"data row5 col0\" >Light Gradient Boosting Machine</td>\n",
       "                        <td id=\"T_c16b659c_cfca_11ea_b110_c8d9d2ac7d3brow5_col1\" class=\"data row5 col1\" >2.390300</td>\n",
       "                        <td id=\"T_c16b659c_cfca_11ea_b110_c8d9d2ac7d3brow5_col2\" class=\"data row5 col2\" >12.960200</td>\n",
       "                        <td id=\"T_c16b659c_cfca_11ea_b110_c8d9d2ac7d3brow5_col3\" class=\"data row5 col3\" >3.543800</td>\n",
       "                        <td id=\"T_c16b659c_cfca_11ea_b110_c8d9d2ac7d3brow5_col4\" class=\"data row5 col4\" >0.798100</td>\n",
       "                        <td id=\"T_c16b659c_cfca_11ea_b110_c8d9d2ac7d3brow5_col5\" class=\"data row5 col5\" >0.159100</td>\n",
       "                        <td id=\"T_c16b659c_cfca_11ea_b110_c8d9d2ac7d3brow5_col6\" class=\"data row5 col6\" >0.122600</td>\n",
       "            </tr>\n",
       "            <tr>\n",
       "                        <th id=\"T_c16b659c_cfca_11ea_b110_c8d9d2ac7d3blevel0_row6\" class=\"row_heading level0 row6\" >6</th>\n",
       "                        <td id=\"T_c16b659c_cfca_11ea_b110_c8d9d2ac7d3brow6_col0\" class=\"data row6 col0\" >AdaBoost Regressor</td>\n",
       "                        <td id=\"T_c16b659c_cfca_11ea_b110_c8d9d2ac7d3brow6_col1\" class=\"data row6 col1\" >2.775500</td>\n",
       "                        <td id=\"T_c16b659c_cfca_11ea_b110_c8d9d2ac7d3brow6_col2\" class=\"data row6 col2\" >16.707600</td>\n",
       "                        <td id=\"T_c16b659c_cfca_11ea_b110_c8d9d2ac7d3brow6_col3\" class=\"data row6 col3\" >4.018300</td>\n",
       "                        <td id=\"T_c16b659c_cfca_11ea_b110_c8d9d2ac7d3brow6_col4\" class=\"data row6 col4\" >0.753200</td>\n",
       "                        <td id=\"T_c16b659c_cfca_11ea_b110_c8d9d2ac7d3brow6_col5\" class=\"data row6 col5\" >0.183500</td>\n",
       "                        <td id=\"T_c16b659c_cfca_11ea_b110_c8d9d2ac7d3brow6_col6\" class=\"data row6 col6\" >0.146600</td>\n",
       "            </tr>\n",
       "            <tr>\n",
       "                        <th id=\"T_c16b659c_cfca_11ea_b110_c8d9d2ac7d3blevel0_row7\" class=\"row_heading level0 row7\" >7</th>\n",
       "                        <td id=\"T_c16b659c_cfca_11ea_b110_c8d9d2ac7d3brow7_col0\" class=\"data row7 col0\" >TheilSen Regressor</td>\n",
       "                        <td id=\"T_c16b659c_cfca_11ea_b110_c8d9d2ac7d3brow7_col1\" class=\"data row7 col1\" >3.304700</td>\n",
       "                        <td id=\"T_c16b659c_cfca_11ea_b110_c8d9d2ac7d3brow7_col2\" class=\"data row7 col2\" >24.947100</td>\n",
       "                        <td id=\"T_c16b659c_cfca_11ea_b110_c8d9d2ac7d3brow7_col3\" class=\"data row7 col3\" >4.749800</td>\n",
       "                        <td id=\"T_c16b659c_cfca_11ea_b110_c8d9d2ac7d3brow7_col4\" class=\"data row7 col4\" >0.673200</td>\n",
       "                        <td id=\"T_c16b659c_cfca_11ea_b110_c8d9d2ac7d3brow7_col5\" class=\"data row7 col5\" >0.240000</td>\n",
       "                        <td id=\"T_c16b659c_cfca_11ea_b110_c8d9d2ac7d3brow7_col6\" class=\"data row7 col6\" >0.162100</td>\n",
       "            </tr>\n",
       "            <tr>\n",
       "                        <th id=\"T_c16b659c_cfca_11ea_b110_c8d9d2ac7d3blevel0_row8\" class=\"row_heading level0 row8\" >8</th>\n",
       "                        <td id=\"T_c16b659c_cfca_11ea_b110_c8d9d2ac7d3brow8_col0\" class=\"data row8 col0\" >Ridge Regression</td>\n",
       "                        <td id=\"T_c16b659c_cfca_11ea_b110_c8d9d2ac7d3brow8_col1\" class=\"data row8 col1\" >3.332100</td>\n",
       "                        <td id=\"T_c16b659c_cfca_11ea_b110_c8d9d2ac7d3brow8_col2\" class=\"data row8 col2\" >23.893100</td>\n",
       "                        <td id=\"T_c16b659c_cfca_11ea_b110_c8d9d2ac7d3brow8_col3\" class=\"data row8 col3\" >4.715500</td>\n",
       "                        <td id=\"T_c16b659c_cfca_11ea_b110_c8d9d2ac7d3brow8_col4\" class=\"data row8 col4\" >0.668700</td>\n",
       "                        <td id=\"T_c16b659c_cfca_11ea_b110_c8d9d2ac7d3brow8_col5\" class=\"data row8 col5\" >0.256100</td>\n",
       "                        <td id=\"T_c16b659c_cfca_11ea_b110_c8d9d2ac7d3brow8_col6\" class=\"data row8 col6\" >0.170400</td>\n",
       "            </tr>\n",
       "            <tr>\n",
       "                        <th id=\"T_c16b659c_cfca_11ea_b110_c8d9d2ac7d3blevel0_row9\" class=\"row_heading level0 row9\" >9</th>\n",
       "                        <td id=\"T_c16b659c_cfca_11ea_b110_c8d9d2ac7d3brow9_col0\" class=\"data row9 col0\" >Linear Regression</td>\n",
       "                        <td id=\"T_c16b659c_cfca_11ea_b110_c8d9d2ac7d3brow9_col1\" class=\"data row9 col1\" >3.365700</td>\n",
       "                        <td id=\"T_c16b659c_cfca_11ea_b110_c8d9d2ac7d3brow9_col2\" class=\"data row9 col2\" >23.669700</td>\n",
       "                        <td id=\"T_c16b659c_cfca_11ea_b110_c8d9d2ac7d3brow9_col3\" class=\"data row9 col3\" >4.712800</td>\n",
       "                        <td id=\"T_c16b659c_cfca_11ea_b110_c8d9d2ac7d3brow9_col4\" class=\"data row9 col4\" >0.668500</td>\n",
       "                        <td id=\"T_c16b659c_cfca_11ea_b110_c8d9d2ac7d3brow9_col5\" class=\"data row9 col5\" >0.249000</td>\n",
       "                        <td id=\"T_c16b659c_cfca_11ea_b110_c8d9d2ac7d3brow9_col6\" class=\"data row9 col6\" >0.171200</td>\n",
       "            </tr>\n",
       "            <tr>\n",
       "                        <th id=\"T_c16b659c_cfca_11ea_b110_c8d9d2ac7d3blevel0_row10\" class=\"row_heading level0 row10\" >10</th>\n",
       "                        <td id=\"T_c16b659c_cfca_11ea_b110_c8d9d2ac7d3brow10_col0\" class=\"data row10 col0\" >Least Angle Regression</td>\n",
       "                        <td id=\"T_c16b659c_cfca_11ea_b110_c8d9d2ac7d3brow10_col1\" class=\"data row10 col1\" >3.392200</td>\n",
       "                        <td id=\"T_c16b659c_cfca_11ea_b110_c8d9d2ac7d3brow10_col2\" class=\"data row10 col2\" >23.959900</td>\n",
       "                        <td id=\"T_c16b659c_cfca_11ea_b110_c8d9d2ac7d3brow10_col3\" class=\"data row10 col3\" >4.733400</td>\n",
       "                        <td id=\"T_c16b659c_cfca_11ea_b110_c8d9d2ac7d3brow10_col4\" class=\"data row10 col4\" >0.665000</td>\n",
       "                        <td id=\"T_c16b659c_cfca_11ea_b110_c8d9d2ac7d3brow10_col5\" class=\"data row10 col5\" >0.250000</td>\n",
       "                        <td id=\"T_c16b659c_cfca_11ea_b110_c8d9d2ac7d3brow10_col6\" class=\"data row10 col6\" >0.172400</td>\n",
       "            </tr>\n",
       "            <tr>\n",
       "                        <th id=\"T_c16b659c_cfca_11ea_b110_c8d9d2ac7d3blevel0_row11\" class=\"row_heading level0 row11\" >11</th>\n",
       "                        <td id=\"T_c16b659c_cfca_11ea_b110_c8d9d2ac7d3brow11_col0\" class=\"data row11 col0\" >Bayesian Ridge</td>\n",
       "                        <td id=\"T_c16b659c_cfca_11ea_b110_c8d9d2ac7d3brow11_col1\" class=\"data row11 col1\" >3.382700</td>\n",
       "                        <td id=\"T_c16b659c_cfca_11ea_b110_c8d9d2ac7d3brow11_col2\" class=\"data row11 col2\" >24.860700</td>\n",
       "                        <td id=\"T_c16b659c_cfca_11ea_b110_c8d9d2ac7d3brow11_col3\" class=\"data row11 col3\" >4.788900</td>\n",
       "                        <td id=\"T_c16b659c_cfca_11ea_b110_c8d9d2ac7d3brow11_col4\" class=\"data row11 col4\" >0.660000</td>\n",
       "                        <td id=\"T_c16b659c_cfca_11ea_b110_c8d9d2ac7d3brow11_col5\" class=\"data row11 col5\" >0.247200</td>\n",
       "                        <td id=\"T_c16b659c_cfca_11ea_b110_c8d9d2ac7d3brow11_col6\" class=\"data row11 col6\" >0.172200</td>\n",
       "            </tr>\n",
       "            <tr>\n",
       "                        <th id=\"T_c16b659c_cfca_11ea_b110_c8d9d2ac7d3blevel0_row12\" class=\"row_heading level0 row12\" >12</th>\n",
       "                        <td id=\"T_c16b659c_cfca_11ea_b110_c8d9d2ac7d3brow12_col0\" class=\"data row12 col0\" >Random Sample Consensus</td>\n",
       "                        <td id=\"T_c16b659c_cfca_11ea_b110_c8d9d2ac7d3brow12_col1\" class=\"data row12 col1\" >3.198100</td>\n",
       "                        <td id=\"T_c16b659c_cfca_11ea_b110_c8d9d2ac7d3brow12_col2\" class=\"data row12 col2\" >25.876200</td>\n",
       "                        <td id=\"T_c16b659c_cfca_11ea_b110_c8d9d2ac7d3brow12_col3\" class=\"data row12 col3\" >4.921800</td>\n",
       "                        <td id=\"T_c16b659c_cfca_11ea_b110_c8d9d2ac7d3brow12_col4\" class=\"data row12 col4\" >0.639300</td>\n",
       "                        <td id=\"T_c16b659c_cfca_11ea_b110_c8d9d2ac7d3brow12_col5\" class=\"data row12 col5\" >0.288000</td>\n",
       "                        <td id=\"T_c16b659c_cfca_11ea_b110_c8d9d2ac7d3brow12_col6\" class=\"data row12 col6\" >0.160600</td>\n",
       "            </tr>\n",
       "            <tr>\n",
       "                        <th id=\"T_c16b659c_cfca_11ea_b110_c8d9d2ac7d3blevel0_row13\" class=\"row_heading level0 row13\" >13</th>\n",
       "                        <td id=\"T_c16b659c_cfca_11ea_b110_c8d9d2ac7d3brow13_col0\" class=\"data row13 col0\" >Elastic Net</td>\n",
       "                        <td id=\"T_c16b659c_cfca_11ea_b110_c8d9d2ac7d3brow13_col1\" class=\"data row13 col1\" >3.709200</td>\n",
       "                        <td id=\"T_c16b659c_cfca_11ea_b110_c8d9d2ac7d3brow13_col2\" class=\"data row13 col2\" >29.360900</td>\n",
       "                        <td id=\"T_c16b659c_cfca_11ea_b110_c8d9d2ac7d3brow13_col3\" class=\"data row13 col3\" >5.211700</td>\n",
       "                        <td id=\"T_c16b659c_cfca_11ea_b110_c8d9d2ac7d3brow13_col4\" class=\"data row13 col4\" >0.607300</td>\n",
       "                        <td id=\"T_c16b659c_cfca_11ea_b110_c8d9d2ac7d3brow13_col5\" class=\"data row13 col5\" >0.266600</td>\n",
       "                        <td id=\"T_c16b659c_cfca_11ea_b110_c8d9d2ac7d3brow13_col6\" class=\"data row13 col6\" >0.178300</td>\n",
       "            </tr>\n",
       "            <tr>\n",
       "                        <th id=\"T_c16b659c_cfca_11ea_b110_c8d9d2ac7d3blevel0_row14\" class=\"row_heading level0 row14\" >14</th>\n",
       "                        <td id=\"T_c16b659c_cfca_11ea_b110_c8d9d2ac7d3brow14_col0\" class=\"data row14 col0\" >Lasso Regression</td>\n",
       "                        <td id=\"T_c16b659c_cfca_11ea_b110_c8d9d2ac7d3brow14_col1\" class=\"data row14 col1\" >3.752000</td>\n",
       "                        <td id=\"T_c16b659c_cfca_11ea_b110_c8d9d2ac7d3brow14_col2\" class=\"data row14 col2\" >30.327200</td>\n",
       "                        <td id=\"T_c16b659c_cfca_11ea_b110_c8d9d2ac7d3brow14_col3\" class=\"data row14 col3\" >5.282200</td>\n",
       "                        <td id=\"T_c16b659c_cfca_11ea_b110_c8d9d2ac7d3brow14_col4\" class=\"data row14 col4\" >0.598200</td>\n",
       "                        <td id=\"T_c16b659c_cfca_11ea_b110_c8d9d2ac7d3brow14_col5\" class=\"data row14 col5\" >0.268300</td>\n",
       "                        <td id=\"T_c16b659c_cfca_11ea_b110_c8d9d2ac7d3brow14_col6\" class=\"data row14 col6\" >0.179500</td>\n",
       "            </tr>\n",
       "            <tr>\n",
       "                        <th id=\"T_c16b659c_cfca_11ea_b110_c8d9d2ac7d3blevel0_row15\" class=\"row_heading level0 row15\" >15</th>\n",
       "                        <td id=\"T_c16b659c_cfca_11ea_b110_c8d9d2ac7d3brow15_col0\" class=\"data row15 col0\" >Huber Regressor</td>\n",
       "                        <td id=\"T_c16b659c_cfca_11ea_b110_c8d9d2ac7d3brow15_col1\" class=\"data row15 col1\" >3.646600</td>\n",
       "                        <td id=\"T_c16b659c_cfca_11ea_b110_c8d9d2ac7d3brow15_col2\" class=\"data row15 col2\" >31.108800</td>\n",
       "                        <td id=\"T_c16b659c_cfca_11ea_b110_c8d9d2ac7d3brow15_col3\" class=\"data row15 col3\" >5.322500</td>\n",
       "                        <td id=\"T_c16b659c_cfca_11ea_b110_c8d9d2ac7d3brow15_col4\" class=\"data row15 col4\" >0.582700</td>\n",
       "                        <td id=\"T_c16b659c_cfca_11ea_b110_c8d9d2ac7d3brow15_col5\" class=\"data row15 col5\" >0.275000</td>\n",
       "                        <td id=\"T_c16b659c_cfca_11ea_b110_c8d9d2ac7d3brow15_col6\" class=\"data row15 col6\" >0.176700</td>\n",
       "            </tr>\n",
       "            <tr>\n",
       "                        <th id=\"T_c16b659c_cfca_11ea_b110_c8d9d2ac7d3blevel0_row16\" class=\"row_heading level0 row16\" >16</th>\n",
       "                        <td id=\"T_c16b659c_cfca_11ea_b110_c8d9d2ac7d3brow16_col0\" class=\"data row16 col0\" >Decision Tree</td>\n",
       "                        <td id=\"T_c16b659c_cfca_11ea_b110_c8d9d2ac7d3brow16_col1\" class=\"data row16 col1\" >3.314500</td>\n",
       "                        <td id=\"T_c16b659c_cfca_11ea_b110_c8d9d2ac7d3brow16_col2\" class=\"data row16 col2\" >28.484700</td>\n",
       "                        <td id=\"T_c16b659c_cfca_11ea_b110_c8d9d2ac7d3brow16_col3\" class=\"data row16 col3\" >5.234100</td>\n",
       "                        <td id=\"T_c16b659c_cfca_11ea_b110_c8d9d2ac7d3brow16_col4\" class=\"data row16 col4\" >0.510800</td>\n",
       "                        <td id=\"T_c16b659c_cfca_11ea_b110_c8d9d2ac7d3brow16_col5\" class=\"data row16 col5\" >0.209600</td>\n",
       "                        <td id=\"T_c16b659c_cfca_11ea_b110_c8d9d2ac7d3brow16_col6\" class=\"data row16 col6\" >0.165400</td>\n",
       "            </tr>\n",
       "            <tr>\n",
       "                        <th id=\"T_c16b659c_cfca_11ea_b110_c8d9d2ac7d3blevel0_row17\" class=\"row_heading level0 row17\" >17</th>\n",
       "                        <td id=\"T_c16b659c_cfca_11ea_b110_c8d9d2ac7d3brow17_col0\" class=\"data row17 col0\" >Orthogonal Matching Pursuit</td>\n",
       "                        <td id=\"T_c16b659c_cfca_11ea_b110_c8d9d2ac7d3brow17_col1\" class=\"data row17 col1\" >4.224400</td>\n",
       "                        <td id=\"T_c16b659c_cfca_11ea_b110_c8d9d2ac7d3brow17_col2\" class=\"data row17 col2\" >36.478100</td>\n",
       "                        <td id=\"T_c16b659c_cfca_11ea_b110_c8d9d2ac7d3brow17_col3\" class=\"data row17 col3\" >5.858500</td>\n",
       "                        <td id=\"T_c16b659c_cfca_11ea_b110_c8d9d2ac7d3brow17_col4\" class=\"data row17 col4\" >0.498100</td>\n",
       "                        <td id=\"T_c16b659c_cfca_11ea_b110_c8d9d2ac7d3brow17_col5\" class=\"data row17 col5\" >0.291500</td>\n",
       "                        <td id=\"T_c16b659c_cfca_11ea_b110_c8d9d2ac7d3brow17_col6\" class=\"data row17 col6\" >0.211100</td>\n",
       "            </tr>\n",
       "            <tr>\n",
       "                        <th id=\"T_c16b659c_cfca_11ea_b110_c8d9d2ac7d3blevel0_row18\" class=\"row_heading level0 row18\" >18</th>\n",
       "                        <td id=\"T_c16b659c_cfca_11ea_b110_c8d9d2ac7d3brow18_col0\" class=\"data row18 col0\" >K Neighbors Regressor</td>\n",
       "                        <td id=\"T_c16b659c_cfca_11ea_b110_c8d9d2ac7d3brow18_col1\" class=\"data row18 col1\" >4.411200</td>\n",
       "                        <td id=\"T_c16b659c_cfca_11ea_b110_c8d9d2ac7d3brow18_col2\" class=\"data row18 col2\" >40.418000</td>\n",
       "                        <td id=\"T_c16b659c_cfca_11ea_b110_c8d9d2ac7d3brow18_col3\" class=\"data row18 col3\" >6.182400</td>\n",
       "                        <td id=\"T_c16b659c_cfca_11ea_b110_c8d9d2ac7d3brow18_col4\" class=\"data row18 col4\" >0.433000</td>\n",
       "                        <td id=\"T_c16b659c_cfca_11ea_b110_c8d9d2ac7d3brow18_col5\" class=\"data row18 col5\" >0.249000</td>\n",
       "                        <td id=\"T_c16b659c_cfca_11ea_b110_c8d9d2ac7d3brow18_col6\" class=\"data row18 col6\" >0.209200</td>\n",
       "            </tr>\n",
       "            <tr>\n",
       "                        <th id=\"T_c16b659c_cfca_11ea_b110_c8d9d2ac7d3blevel0_row19\" class=\"row_heading level0 row19\" >19</th>\n",
       "                        <td id=\"T_c16b659c_cfca_11ea_b110_c8d9d2ac7d3brow19_col0\" class=\"data row19 col0\" >Support Vector Machine</td>\n",
       "                        <td id=\"T_c16b659c_cfca_11ea_b110_c8d9d2ac7d3brow19_col1\" class=\"data row19 col1\" >5.139200</td>\n",
       "                        <td id=\"T_c16b659c_cfca_11ea_b110_c8d9d2ac7d3brow19_col2\" class=\"data row19 col2\" >63.229400</td>\n",
       "                        <td id=\"T_c16b659c_cfca_11ea_b110_c8d9d2ac7d3brow19_col3\" class=\"data row19 col3\" >7.571000</td>\n",
       "                        <td id=\"T_c16b659c_cfca_11ea_b110_c8d9d2ac7d3brow19_col4\" class=\"data row19 col4\" >0.189700</td>\n",
       "                        <td id=\"T_c16b659c_cfca_11ea_b110_c8d9d2ac7d3brow19_col5\" class=\"data row19 col5\" >0.301000</td>\n",
       "                        <td id=\"T_c16b659c_cfca_11ea_b110_c8d9d2ac7d3brow19_col6\" class=\"data row19 col6\" >0.232500</td>\n",
       "            </tr>\n",
       "            <tr>\n",
       "                        <th id=\"T_c16b659c_cfca_11ea_b110_c8d9d2ac7d3blevel0_row20\" class=\"row_heading level0 row20\" >20</th>\n",
       "                        <td id=\"T_c16b659c_cfca_11ea_b110_c8d9d2ac7d3brow20_col0\" class=\"data row20 col0\" >Lasso Least Angle Regression</td>\n",
       "                        <td id=\"T_c16b659c_cfca_11ea_b110_c8d9d2ac7d3brow20_col1\" class=\"data row20 col1\" >6.301900</td>\n",
       "                        <td id=\"T_c16b659c_cfca_11ea_b110_c8d9d2ac7d3brow20_col2\" class=\"data row20 col2\" >78.188700</td>\n",
       "                        <td id=\"T_c16b659c_cfca_11ea_b110_c8d9d2ac7d3brow20_col3\" class=\"data row20 col3\" >8.603600</td>\n",
       "                        <td id=\"T_c16b659c_cfca_11ea_b110_c8d9d2ac7d3brow20_col4\" class=\"data row20 col4\" >-0.068100</td>\n",
       "                        <td id=\"T_c16b659c_cfca_11ea_b110_c8d9d2ac7d3brow20_col5\" class=\"data row20 col5\" >0.375200</td>\n",
       "                        <td id=\"T_c16b659c_cfca_11ea_b110_c8d9d2ac7d3brow20_col6\" class=\"data row20 col6\" >0.343900</td>\n",
       "            </tr>\n",
       "            <tr>\n",
       "                        <th id=\"T_c16b659c_cfca_11ea_b110_c8d9d2ac7d3blevel0_row21\" class=\"row_heading level0 row21\" >21</th>\n",
       "                        <td id=\"T_c16b659c_cfca_11ea_b110_c8d9d2ac7d3brow21_col0\" class=\"data row21 col0\" >Passive Aggressive Regressor</td>\n",
       "                        <td id=\"T_c16b659c_cfca_11ea_b110_c8d9d2ac7d3brow21_col1\" class=\"data row21 col1\" >10.885200</td>\n",
       "                        <td id=\"T_c16b659c_cfca_11ea_b110_c8d9d2ac7d3brow21_col2\" class=\"data row21 col2\" >232.857700</td>\n",
       "                        <td id=\"T_c16b659c_cfca_11ea_b110_c8d9d2ac7d3brow21_col3\" class=\"data row21 col3\" >13.049900</td>\n",
       "                        <td id=\"T_c16b659c_cfca_11ea_b110_c8d9d2ac7d3brow21_col4\" class=\"data row21 col4\" >-2.507700</td>\n",
       "                        <td id=\"T_c16b659c_cfca_11ea_b110_c8d9d2ac7d3brow21_col5\" class=\"data row21 col5\" >0.501100</td>\n",
       "                        <td id=\"T_c16b659c_cfca_11ea_b110_c8d9d2ac7d3brow21_col6\" class=\"data row21 col6\" >0.602900</td>\n",
       "            </tr>\n",
       "    </tbody></table>"
      ],
      "text/plain": [
       "<pandas.io.formats.style.Styler at 0x29f08bd2748>"
      ]
     },
     "execution_count": 16,
     "metadata": {},
     "output_type": "execute_result"
    }
   ],
   "source": [
    "compare_models()"
   ]
  },
  {
   "cell_type": "code",
   "execution_count": 17,
   "metadata": {},
   "outputs": [
    {
     "data": {
      "text/html": [
       "<div>\n",
       "<style scoped>\n",
       "    .dataframe tbody tr th:only-of-type {\n",
       "        vertical-align: middle;\n",
       "    }\n",
       "\n",
       "    .dataframe tbody tr th {\n",
       "        vertical-align: top;\n",
       "    }\n",
       "\n",
       "    .dataframe thead th {\n",
       "        text-align: right;\n",
       "    }\n",
       "</style>\n",
       "<table border=\"1\" class=\"dataframe\">\n",
       "  <thead>\n",
       "    <tr style=\"text-align: right;\">\n",
       "      <th></th>\n",
       "      <th>MAE</th>\n",
       "      <th>MSE</th>\n",
       "      <th>RMSE</th>\n",
       "      <th>R2</th>\n",
       "      <th>RMSLE</th>\n",
       "      <th>MAPE</th>\n",
       "    </tr>\n",
       "  </thead>\n",
       "  <tbody>\n",
       "    <tr>\n",
       "      <th>0</th>\n",
       "      <td>1.6714</td>\n",
       "      <td>6.8268</td>\n",
       "      <td>2.6128</td>\n",
       "      <td>0.8941</td>\n",
       "      <td>0.1291</td>\n",
       "      <td>0.0839</td>\n",
       "    </tr>\n",
       "    <tr>\n",
       "      <th>1</th>\n",
       "      <td>2.6493</td>\n",
       "      <td>14.7423</td>\n",
       "      <td>3.8396</td>\n",
       "      <td>0.8959</td>\n",
       "      <td>0.1352</td>\n",
       "      <td>0.0961</td>\n",
       "    </tr>\n",
       "    <tr>\n",
       "      <th>2</th>\n",
       "      <td>1.5401</td>\n",
       "      <td>4.6193</td>\n",
       "      <td>2.1493</td>\n",
       "      <td>0.9221</td>\n",
       "      <td>0.1143</td>\n",
       "      <td>0.0879</td>\n",
       "    </tr>\n",
       "    <tr>\n",
       "      <th>3</th>\n",
       "      <td>1.9817</td>\n",
       "      <td>6.4155</td>\n",
       "      <td>2.5329</td>\n",
       "      <td>0.8498</td>\n",
       "      <td>0.1681</td>\n",
       "      <td>0.1383</td>\n",
       "    </tr>\n",
       "    <tr>\n",
       "      <th>4</th>\n",
       "      <td>2.3497</td>\n",
       "      <td>9.9025</td>\n",
       "      <td>3.1468</td>\n",
       "      <td>0.8892</td>\n",
       "      <td>0.2008</td>\n",
       "      <td>0.1623</td>\n",
       "    </tr>\n",
       "    <tr>\n",
       "      <th>5</th>\n",
       "      <td>2.3882</td>\n",
       "      <td>15.2602</td>\n",
       "      <td>3.9064</td>\n",
       "      <td>0.8161</td>\n",
       "      <td>0.1480</td>\n",
       "      <td>0.1075</td>\n",
       "    </tr>\n",
       "    <tr>\n",
       "      <th>6</th>\n",
       "      <td>2.2281</td>\n",
       "      <td>9.9211</td>\n",
       "      <td>3.1498</td>\n",
       "      <td>0.8396</td>\n",
       "      <td>0.1753</td>\n",
       "      <td>0.1201</td>\n",
       "    </tr>\n",
       "    <tr>\n",
       "      <th>7</th>\n",
       "      <td>1.8995</td>\n",
       "      <td>7.7763</td>\n",
       "      <td>2.7886</td>\n",
       "      <td>0.8686</td>\n",
       "      <td>0.1023</td>\n",
       "      <td>0.0853</td>\n",
       "    </tr>\n",
       "    <tr>\n",
       "      <th>8</th>\n",
       "      <td>2.4395</td>\n",
       "      <td>12.4735</td>\n",
       "      <td>3.5318</td>\n",
       "      <td>0.6010</td>\n",
       "      <td>0.1672</td>\n",
       "      <td>0.1284</td>\n",
       "    </tr>\n",
       "    <tr>\n",
       "      <th>9</th>\n",
       "      <td>2.3753</td>\n",
       "      <td>19.3387</td>\n",
       "      <td>4.3976</td>\n",
       "      <td>0.7687</td>\n",
       "      <td>0.1524</td>\n",
       "      <td>0.1011</td>\n",
       "    </tr>\n",
       "    <tr>\n",
       "      <th>Mean</th>\n",
       "      <td>2.1523</td>\n",
       "      <td>10.7276</td>\n",
       "      <td>3.2056</td>\n",
       "      <td>0.8345</td>\n",
       "      <td>0.1493</td>\n",
       "      <td>0.1111</td>\n",
       "    </tr>\n",
       "    <tr>\n",
       "      <th>SD</th>\n",
       "      <td>0.3433</td>\n",
       "      <td>4.4162</td>\n",
       "      <td>0.6724</td>\n",
       "      <td>0.0887</td>\n",
       "      <td>0.0284</td>\n",
       "      <td>0.0245</td>\n",
       "    </tr>\n",
       "  </tbody>\n",
       "</table>\n",
       "</div>"
      ],
      "text/plain": [
       "         MAE      MSE    RMSE      R2   RMSLE    MAPE\n",
       "0     1.6714   6.8268  2.6128  0.8941  0.1291  0.0839\n",
       "1     2.6493  14.7423  3.8396  0.8959  0.1352  0.0961\n",
       "2     1.5401   4.6193  2.1493  0.9221  0.1143  0.0879\n",
       "3     1.9817   6.4155  2.5329  0.8498  0.1681  0.1383\n",
       "4     2.3497   9.9025  3.1468  0.8892  0.2008  0.1623\n",
       "5     2.3882  15.2602  3.9064  0.8161  0.1480  0.1075\n",
       "6     2.2281   9.9211  3.1498  0.8396  0.1753  0.1201\n",
       "7     1.8995   7.7763  2.7886  0.8686  0.1023  0.0853\n",
       "8     2.4395  12.4735  3.5318  0.6010  0.1672  0.1284\n",
       "9     2.3753  19.3387  4.3976  0.7687  0.1524  0.1011\n",
       "Mean  2.1523  10.7276  3.2056  0.8345  0.1493  0.1111\n",
       "SD    0.3433   4.4162  0.6724  0.0887  0.0284  0.0245"
      ]
     },
     "metadata": {},
     "output_type": "display_data"
    }
   ],
   "source": [
    "reg_model = create_model(\"catboost\")"
   ]
  },
  {
   "cell_type": "code",
   "execution_count": 21,
   "metadata": {},
   "outputs": [
    {
     "data": {
      "text/plain": [
       "{'nan_mode': 'Min',\n",
       " 'eval_metric': 'RMSE',\n",
       " 'iterations': 1000,\n",
       " 'sampling_frequency': 'PerTree',\n",
       " 'fold_permutation_block': 0,\n",
       " 'leaf_estimation_method': 'Newton',\n",
       " 'boosting_type': 'Plain',\n",
       " 'feature_border_type': 'GreedyLogSum',\n",
       " 'bayesian_matrix_reg': 0.1000000015,\n",
       " 'l2_leaf_reg': 3,\n",
       " 'random_strength': 1,\n",
       " 'rsm': 1,\n",
       " 'boost_from_average': True,\n",
       " 'model_size_reg': 0.5,\n",
       " 'approx_on_full_history': False,\n",
       " 'subsample': 0.8000000119,\n",
       " 'use_best_model': False,\n",
       " 'random_seed': 1828,\n",
       " 'depth': 6,\n",
       " 'has_time': False,\n",
       " 'fold_len_multiplier': 2,\n",
       " 'border_count': 254,\n",
       " 'classes_count': 0,\n",
       " 'sparse_features_conflict_fraction': 0,\n",
       " 'leaf_estimation_backtracking': 'AnyImprovement',\n",
       " 'best_model_min_trees': 1,\n",
       " 'model_shrink_rate': 0,\n",
       " 'loss_function': 'RMSE',\n",
       " 'learning_rate': 0.02999999933,\n",
       " 'score_function': 'Cosine',\n",
       " 'task_type': 'CPU',\n",
       " 'leaf_estimation_iterations': 1,\n",
       " 'bootstrap_type': 'MVS',\n",
       " 'permutation_count': 4}"
      ]
     },
     "execution_count": 21,
     "metadata": {},
     "output_type": "execute_result"
    }
   ],
   "source": [
    "reg_model.get_all_params()"
   ]
  },
  {
   "cell_type": "code",
   "execution_count": 23,
   "metadata": {},
   "outputs": [],
   "source": [
    "########################################### Hyper tuning #######################################################################"
   ]
  },
  {
   "cell_type": "code",
   "execution_count": 24,
   "metadata": {},
   "outputs": [
    {
     "data": {
      "text/html": [
       "<div>\n",
       "<style scoped>\n",
       "    .dataframe tbody tr th:only-of-type {\n",
       "        vertical-align: middle;\n",
       "    }\n",
       "\n",
       "    .dataframe tbody tr th {\n",
       "        vertical-align: top;\n",
       "    }\n",
       "\n",
       "    .dataframe thead th {\n",
       "        text-align: right;\n",
       "    }\n",
       "</style>\n",
       "<table border=\"1\" class=\"dataframe\">\n",
       "  <thead>\n",
       "    <tr style=\"text-align: right;\">\n",
       "      <th></th>\n",
       "      <th>MAE</th>\n",
       "      <th>MSE</th>\n",
       "      <th>RMSE</th>\n",
       "      <th>R2</th>\n",
       "      <th>RMSLE</th>\n",
       "      <th>MAPE</th>\n",
       "    </tr>\n",
       "  </thead>\n",
       "  <tbody>\n",
       "    <tr>\n",
       "      <th>0</th>\n",
       "      <td>1.7190</td>\n",
       "      <td>6.4658</td>\n",
       "      <td>2.5428</td>\n",
       "      <td>0.8997</td>\n",
       "      <td>0.1241</td>\n",
       "      <td>0.0865</td>\n",
       "    </tr>\n",
       "    <tr>\n",
       "      <th>1</th>\n",
       "      <td>2.9282</td>\n",
       "      <td>18.1825</td>\n",
       "      <td>4.2641</td>\n",
       "      <td>0.8716</td>\n",
       "      <td>0.1345</td>\n",
       "      <td>0.0986</td>\n",
       "    </tr>\n",
       "    <tr>\n",
       "      <th>2</th>\n",
       "      <td>1.5307</td>\n",
       "      <td>4.2083</td>\n",
       "      <td>2.0514</td>\n",
       "      <td>0.9291</td>\n",
       "      <td>0.1102</td>\n",
       "      <td>0.0881</td>\n",
       "    </tr>\n",
       "    <tr>\n",
       "      <th>3</th>\n",
       "      <td>2.0715</td>\n",
       "      <td>7.1097</td>\n",
       "      <td>2.6664</td>\n",
       "      <td>0.8335</td>\n",
       "      <td>0.1732</td>\n",
       "      <td>0.1481</td>\n",
       "    </tr>\n",
       "    <tr>\n",
       "      <th>4</th>\n",
       "      <td>2.1844</td>\n",
       "      <td>9.4620</td>\n",
       "      <td>3.0760</td>\n",
       "      <td>0.8942</td>\n",
       "      <td>0.2006</td>\n",
       "      <td>0.1551</td>\n",
       "    </tr>\n",
       "    <tr>\n",
       "      <th>5</th>\n",
       "      <td>2.3523</td>\n",
       "      <td>15.1706</td>\n",
       "      <td>3.8949</td>\n",
       "      <td>0.8172</td>\n",
       "      <td>0.1393</td>\n",
       "      <td>0.1061</td>\n",
       "    </tr>\n",
       "    <tr>\n",
       "      <th>6</th>\n",
       "      <td>2.2019</td>\n",
       "      <td>9.0221</td>\n",
       "      <td>3.0037</td>\n",
       "      <td>0.8542</td>\n",
       "      <td>0.1645</td>\n",
       "      <td>0.1183</td>\n",
       "    </tr>\n",
       "    <tr>\n",
       "      <th>7</th>\n",
       "      <td>2.0681</td>\n",
       "      <td>9.7712</td>\n",
       "      <td>3.1259</td>\n",
       "      <td>0.8349</td>\n",
       "      <td>0.1125</td>\n",
       "      <td>0.0931</td>\n",
       "    </tr>\n",
       "    <tr>\n",
       "      <th>8</th>\n",
       "      <td>2.3836</td>\n",
       "      <td>12.6767</td>\n",
       "      <td>3.5604</td>\n",
       "      <td>0.5945</td>\n",
       "      <td>0.1689</td>\n",
       "      <td>0.1267</td>\n",
       "    </tr>\n",
       "    <tr>\n",
       "      <th>9</th>\n",
       "      <td>2.4513</td>\n",
       "      <td>21.6081</td>\n",
       "      <td>4.6485</td>\n",
       "      <td>0.7416</td>\n",
       "      <td>0.1587</td>\n",
       "      <td>0.1031</td>\n",
       "    </tr>\n",
       "    <tr>\n",
       "      <th>Mean</th>\n",
       "      <td>2.1891</td>\n",
       "      <td>11.3677</td>\n",
       "      <td>3.2834</td>\n",
       "      <td>0.8270</td>\n",
       "      <td>0.1487</td>\n",
       "      <td>0.1124</td>\n",
       "    </tr>\n",
       "    <tr>\n",
       "      <th>SD</th>\n",
       "      <td>0.3691</td>\n",
       "      <td>5.2209</td>\n",
       "      <td>0.7661</td>\n",
       "      <td>0.0919</td>\n",
       "      <td>0.0278</td>\n",
       "      <td>0.0230</td>\n",
       "    </tr>\n",
       "  </tbody>\n",
       "</table>\n",
       "</div>"
      ],
      "text/plain": [
       "         MAE      MSE    RMSE      R2   RMSLE    MAPE\n",
       "0     1.7190   6.4658  2.5428  0.8997  0.1241  0.0865\n",
       "1     2.9282  18.1825  4.2641  0.8716  0.1345  0.0986\n",
       "2     1.5307   4.2083  2.0514  0.9291  0.1102  0.0881\n",
       "3     2.0715   7.1097  2.6664  0.8335  0.1732  0.1481\n",
       "4     2.1844   9.4620  3.0760  0.8942  0.2006  0.1551\n",
       "5     2.3523  15.1706  3.8949  0.8172  0.1393  0.1061\n",
       "6     2.2019   9.0221  3.0037  0.8542  0.1645  0.1183\n",
       "7     2.0681   9.7712  3.1259  0.8349  0.1125  0.0931\n",
       "8     2.3836  12.6767  3.5604  0.5945  0.1689  0.1267\n",
       "9     2.4513  21.6081  4.6485  0.7416  0.1587  0.1031\n",
       "Mean  2.1891  11.3677  3.2834  0.8270  0.1487  0.1124\n",
       "SD    0.3691   5.2209  0.7661  0.0919  0.0278  0.0230"
      ]
     },
     "metadata": {},
     "output_type": "display_data"
    }
   ],
   "source": [
    "reg_model_hypertune = tune_model(\"catboost\",n_iter=50,optimize=\"mae\")"
   ]
  },
  {
   "cell_type": "code",
   "execution_count": 28,
   "metadata": {},
   "outputs": [
    {
     "data": {
      "text/html": [
       "<div>\n",
       "<style scoped>\n",
       "    .dataframe tbody tr th:only-of-type {\n",
       "        vertical-align: middle;\n",
       "    }\n",
       "\n",
       "    .dataframe tbody tr th {\n",
       "        vertical-align: top;\n",
       "    }\n",
       "\n",
       "    .dataframe thead th {\n",
       "        text-align: right;\n",
       "    }\n",
       "</style>\n",
       "<table border=\"1\" class=\"dataframe\">\n",
       "  <thead>\n",
       "    <tr style=\"text-align: right;\">\n",
       "      <th></th>\n",
       "      <th>Age</th>\n",
       "      <th>Income</th>\n",
       "      <th>SpendingScore</th>\n",
       "      <th>Savings</th>\n",
       "    </tr>\n",
       "  </thead>\n",
       "  <tbody>\n",
       "    <tr>\n",
       "      <th>0</th>\n",
       "      <td>58</td>\n",
       "      <td>77769</td>\n",
       "      <td>0.791329</td>\n",
       "      <td>6559.829923</td>\n",
       "    </tr>\n",
       "    <tr>\n",
       "      <th>1</th>\n",
       "      <td>59</td>\n",
       "      <td>81799</td>\n",
       "      <td>0.791082</td>\n",
       "      <td>5417.661426</td>\n",
       "    </tr>\n",
       "    <tr>\n",
       "      <th>2</th>\n",
       "      <td>62</td>\n",
       "      <td>74751</td>\n",
       "      <td>0.702657</td>\n",
       "      <td>9258.992965</td>\n",
       "    </tr>\n",
       "    <tr>\n",
       "      <th>3</th>\n",
       "      <td>59</td>\n",
       "      <td>74373</td>\n",
       "      <td>0.765680</td>\n",
       "      <td>7346.334504</td>\n",
       "    </tr>\n",
       "    <tr>\n",
       "      <th>4</th>\n",
       "      <td>87</td>\n",
       "      <td>17760</td>\n",
       "      <td>0.348778</td>\n",
       "      <td>16869.507130</td>\n",
       "    </tr>\n",
       "  </tbody>\n",
       "</table>\n",
       "</div>"
      ],
      "text/plain": [
       "   Age  Income  SpendingScore       Savings\n",
       "0   58   77769       0.791329   6559.829923\n",
       "1   59   81799       0.791082   5417.661426\n",
       "2   62   74751       0.702657   9258.992965\n",
       "3   59   74373       0.765680   7346.334504\n",
       "4   87   17760       0.348778  16869.507130"
      ]
     },
     "metadata": {},
     "output_type": "display_data"
    }
   ],
   "source": [
    "jewel = get_data(\"jewellery\")"
   ]
  },
  {
   "cell_type": "code",
   "execution_count": 29,
   "metadata": {},
   "outputs": [],
   "source": [
    "from pycaret.clustering import *"
   ]
  },
  {
   "cell_type": "code",
   "execution_count": 30,
   "metadata": {},
   "outputs": [
    {
     "name": "stdout",
     "output_type": "stream",
     "text": [
      "\n",
      "Setup Succesfully Completed!\n"
     ]
    },
    {
     "data": {
      "text/html": [
       "<style  type=\"text/css\" >\n",
       "</style><table id=\"T_588d36ee_cfcd_11ea_9b54_c8d9d2ac7d3b\" ><thead>    <tr>        <th class=\"blank level0\" ></th>        <th class=\"col_heading level0 col0\" >Description</th>        <th class=\"col_heading level0 col1\" >Value</th>    </tr></thead><tbody>\n",
       "                <tr>\n",
       "                        <th id=\"T_588d36ee_cfcd_11ea_9b54_c8d9d2ac7d3blevel0_row0\" class=\"row_heading level0 row0\" >0</th>\n",
       "                        <td id=\"T_588d36ee_cfcd_11ea_9b54_c8d9d2ac7d3brow0_col0\" class=\"data row0 col0\" >session_id </td>\n",
       "                        <td id=\"T_588d36ee_cfcd_11ea_9b54_c8d9d2ac7d3brow0_col1\" class=\"data row0 col1\" >7423</td>\n",
       "            </tr>\n",
       "            <tr>\n",
       "                        <th id=\"T_588d36ee_cfcd_11ea_9b54_c8d9d2ac7d3blevel0_row1\" class=\"row_heading level0 row1\" >1</th>\n",
       "                        <td id=\"T_588d36ee_cfcd_11ea_9b54_c8d9d2ac7d3brow1_col0\" class=\"data row1 col0\" >Original Data </td>\n",
       "                        <td id=\"T_588d36ee_cfcd_11ea_9b54_c8d9d2ac7d3brow1_col1\" class=\"data row1 col1\" >(505, 4)</td>\n",
       "            </tr>\n",
       "            <tr>\n",
       "                        <th id=\"T_588d36ee_cfcd_11ea_9b54_c8d9d2ac7d3blevel0_row2\" class=\"row_heading level0 row2\" >2</th>\n",
       "                        <td id=\"T_588d36ee_cfcd_11ea_9b54_c8d9d2ac7d3brow2_col0\" class=\"data row2 col0\" >Missing Values </td>\n",
       "                        <td id=\"T_588d36ee_cfcd_11ea_9b54_c8d9d2ac7d3brow2_col1\" class=\"data row2 col1\" >False</td>\n",
       "            </tr>\n",
       "            <tr>\n",
       "                        <th id=\"T_588d36ee_cfcd_11ea_9b54_c8d9d2ac7d3blevel0_row3\" class=\"row_heading level0 row3\" >3</th>\n",
       "                        <td id=\"T_588d36ee_cfcd_11ea_9b54_c8d9d2ac7d3brow3_col0\" class=\"data row3 col0\" >Numeric Features </td>\n",
       "                        <td id=\"T_588d36ee_cfcd_11ea_9b54_c8d9d2ac7d3brow3_col1\" class=\"data row3 col1\" >4</td>\n",
       "            </tr>\n",
       "            <tr>\n",
       "                        <th id=\"T_588d36ee_cfcd_11ea_9b54_c8d9d2ac7d3blevel0_row4\" class=\"row_heading level0 row4\" >4</th>\n",
       "                        <td id=\"T_588d36ee_cfcd_11ea_9b54_c8d9d2ac7d3brow4_col0\" class=\"data row4 col0\" >Categorical Features </td>\n",
       "                        <td id=\"T_588d36ee_cfcd_11ea_9b54_c8d9d2ac7d3brow4_col1\" class=\"data row4 col1\" >0</td>\n",
       "            </tr>\n",
       "            <tr>\n",
       "                        <th id=\"T_588d36ee_cfcd_11ea_9b54_c8d9d2ac7d3blevel0_row5\" class=\"row_heading level0 row5\" >5</th>\n",
       "                        <td id=\"T_588d36ee_cfcd_11ea_9b54_c8d9d2ac7d3brow5_col0\" class=\"data row5 col0\" >Ordinal Features </td>\n",
       "                        <td id=\"T_588d36ee_cfcd_11ea_9b54_c8d9d2ac7d3brow5_col1\" class=\"data row5 col1\" >False</td>\n",
       "            </tr>\n",
       "            <tr>\n",
       "                        <th id=\"T_588d36ee_cfcd_11ea_9b54_c8d9d2ac7d3blevel0_row6\" class=\"row_heading level0 row6\" >6</th>\n",
       "                        <td id=\"T_588d36ee_cfcd_11ea_9b54_c8d9d2ac7d3brow6_col0\" class=\"data row6 col0\" >High Cardinality Features </td>\n",
       "                        <td id=\"T_588d36ee_cfcd_11ea_9b54_c8d9d2ac7d3brow6_col1\" class=\"data row6 col1\" >False</td>\n",
       "            </tr>\n",
       "            <tr>\n",
       "                        <th id=\"T_588d36ee_cfcd_11ea_9b54_c8d9d2ac7d3blevel0_row7\" class=\"row_heading level0 row7\" >7</th>\n",
       "                        <td id=\"T_588d36ee_cfcd_11ea_9b54_c8d9d2ac7d3brow7_col0\" class=\"data row7 col0\" >Transformed Data </td>\n",
       "                        <td id=\"T_588d36ee_cfcd_11ea_9b54_c8d9d2ac7d3brow7_col1\" class=\"data row7 col1\" >(505, 4)</td>\n",
       "            </tr>\n",
       "            <tr>\n",
       "                        <th id=\"T_588d36ee_cfcd_11ea_9b54_c8d9d2ac7d3blevel0_row8\" class=\"row_heading level0 row8\" >8</th>\n",
       "                        <td id=\"T_588d36ee_cfcd_11ea_9b54_c8d9d2ac7d3brow8_col0\" class=\"data row8 col0\" >Numeric Imputer </td>\n",
       "                        <td id=\"T_588d36ee_cfcd_11ea_9b54_c8d9d2ac7d3brow8_col1\" class=\"data row8 col1\" >mean</td>\n",
       "            </tr>\n",
       "            <tr>\n",
       "                        <th id=\"T_588d36ee_cfcd_11ea_9b54_c8d9d2ac7d3blevel0_row9\" class=\"row_heading level0 row9\" >9</th>\n",
       "                        <td id=\"T_588d36ee_cfcd_11ea_9b54_c8d9d2ac7d3brow9_col0\" class=\"data row9 col0\" >Categorical Imputer </td>\n",
       "                        <td id=\"T_588d36ee_cfcd_11ea_9b54_c8d9d2ac7d3brow9_col1\" class=\"data row9 col1\" >constant</td>\n",
       "            </tr>\n",
       "            <tr>\n",
       "                        <th id=\"T_588d36ee_cfcd_11ea_9b54_c8d9d2ac7d3blevel0_row10\" class=\"row_heading level0 row10\" >10</th>\n",
       "                        <td id=\"T_588d36ee_cfcd_11ea_9b54_c8d9d2ac7d3brow10_col0\" class=\"data row10 col0\" >Normalize </td>\n",
       "                        <td id=\"T_588d36ee_cfcd_11ea_9b54_c8d9d2ac7d3brow10_col1\" class=\"data row10 col1\" >False</td>\n",
       "            </tr>\n",
       "            <tr>\n",
       "                        <th id=\"T_588d36ee_cfcd_11ea_9b54_c8d9d2ac7d3blevel0_row11\" class=\"row_heading level0 row11\" >11</th>\n",
       "                        <td id=\"T_588d36ee_cfcd_11ea_9b54_c8d9d2ac7d3brow11_col0\" class=\"data row11 col0\" >Normalize Method </td>\n",
       "                        <td id=\"T_588d36ee_cfcd_11ea_9b54_c8d9d2ac7d3brow11_col1\" class=\"data row11 col1\" >None</td>\n",
       "            </tr>\n",
       "            <tr>\n",
       "                        <th id=\"T_588d36ee_cfcd_11ea_9b54_c8d9d2ac7d3blevel0_row12\" class=\"row_heading level0 row12\" >12</th>\n",
       "                        <td id=\"T_588d36ee_cfcd_11ea_9b54_c8d9d2ac7d3brow12_col0\" class=\"data row12 col0\" >Transformation </td>\n",
       "                        <td id=\"T_588d36ee_cfcd_11ea_9b54_c8d9d2ac7d3brow12_col1\" class=\"data row12 col1\" >False</td>\n",
       "            </tr>\n",
       "            <tr>\n",
       "                        <th id=\"T_588d36ee_cfcd_11ea_9b54_c8d9d2ac7d3blevel0_row13\" class=\"row_heading level0 row13\" >13</th>\n",
       "                        <td id=\"T_588d36ee_cfcd_11ea_9b54_c8d9d2ac7d3brow13_col0\" class=\"data row13 col0\" >Transformation Method </td>\n",
       "                        <td id=\"T_588d36ee_cfcd_11ea_9b54_c8d9d2ac7d3brow13_col1\" class=\"data row13 col1\" >None</td>\n",
       "            </tr>\n",
       "            <tr>\n",
       "                        <th id=\"T_588d36ee_cfcd_11ea_9b54_c8d9d2ac7d3blevel0_row14\" class=\"row_heading level0 row14\" >14</th>\n",
       "                        <td id=\"T_588d36ee_cfcd_11ea_9b54_c8d9d2ac7d3brow14_col0\" class=\"data row14 col0\" >PCA </td>\n",
       "                        <td id=\"T_588d36ee_cfcd_11ea_9b54_c8d9d2ac7d3brow14_col1\" class=\"data row14 col1\" >False</td>\n",
       "            </tr>\n",
       "            <tr>\n",
       "                        <th id=\"T_588d36ee_cfcd_11ea_9b54_c8d9d2ac7d3blevel0_row15\" class=\"row_heading level0 row15\" >15</th>\n",
       "                        <td id=\"T_588d36ee_cfcd_11ea_9b54_c8d9d2ac7d3brow15_col0\" class=\"data row15 col0\" >PCA Method </td>\n",
       "                        <td id=\"T_588d36ee_cfcd_11ea_9b54_c8d9d2ac7d3brow15_col1\" class=\"data row15 col1\" >None</td>\n",
       "            </tr>\n",
       "            <tr>\n",
       "                        <th id=\"T_588d36ee_cfcd_11ea_9b54_c8d9d2ac7d3blevel0_row16\" class=\"row_heading level0 row16\" >16</th>\n",
       "                        <td id=\"T_588d36ee_cfcd_11ea_9b54_c8d9d2ac7d3brow16_col0\" class=\"data row16 col0\" >PCA components </td>\n",
       "                        <td id=\"T_588d36ee_cfcd_11ea_9b54_c8d9d2ac7d3brow16_col1\" class=\"data row16 col1\" >None</td>\n",
       "            </tr>\n",
       "            <tr>\n",
       "                        <th id=\"T_588d36ee_cfcd_11ea_9b54_c8d9d2ac7d3blevel0_row17\" class=\"row_heading level0 row17\" >17</th>\n",
       "                        <td id=\"T_588d36ee_cfcd_11ea_9b54_c8d9d2ac7d3brow17_col0\" class=\"data row17 col0\" >Ignore Low Variance </td>\n",
       "                        <td id=\"T_588d36ee_cfcd_11ea_9b54_c8d9d2ac7d3brow17_col1\" class=\"data row17 col1\" >False</td>\n",
       "            </tr>\n",
       "            <tr>\n",
       "                        <th id=\"T_588d36ee_cfcd_11ea_9b54_c8d9d2ac7d3blevel0_row18\" class=\"row_heading level0 row18\" >18</th>\n",
       "                        <td id=\"T_588d36ee_cfcd_11ea_9b54_c8d9d2ac7d3brow18_col0\" class=\"data row18 col0\" >Combine Rare Levels </td>\n",
       "                        <td id=\"T_588d36ee_cfcd_11ea_9b54_c8d9d2ac7d3brow18_col1\" class=\"data row18 col1\" >False</td>\n",
       "            </tr>\n",
       "            <tr>\n",
       "                        <th id=\"T_588d36ee_cfcd_11ea_9b54_c8d9d2ac7d3blevel0_row19\" class=\"row_heading level0 row19\" >19</th>\n",
       "                        <td id=\"T_588d36ee_cfcd_11ea_9b54_c8d9d2ac7d3brow19_col0\" class=\"data row19 col0\" >Rare Level Threshold </td>\n",
       "                        <td id=\"T_588d36ee_cfcd_11ea_9b54_c8d9d2ac7d3brow19_col1\" class=\"data row19 col1\" >None</td>\n",
       "            </tr>\n",
       "            <tr>\n",
       "                        <th id=\"T_588d36ee_cfcd_11ea_9b54_c8d9d2ac7d3blevel0_row20\" class=\"row_heading level0 row20\" >20</th>\n",
       "                        <td id=\"T_588d36ee_cfcd_11ea_9b54_c8d9d2ac7d3brow20_col0\" class=\"data row20 col0\" >Numeric Binning </td>\n",
       "                        <td id=\"T_588d36ee_cfcd_11ea_9b54_c8d9d2ac7d3brow20_col1\" class=\"data row20 col1\" >False</td>\n",
       "            </tr>\n",
       "            <tr>\n",
       "                        <th id=\"T_588d36ee_cfcd_11ea_9b54_c8d9d2ac7d3blevel0_row21\" class=\"row_heading level0 row21\" >21</th>\n",
       "                        <td id=\"T_588d36ee_cfcd_11ea_9b54_c8d9d2ac7d3brow21_col0\" class=\"data row21 col0\" >Remove Multicollinearity </td>\n",
       "                        <td id=\"T_588d36ee_cfcd_11ea_9b54_c8d9d2ac7d3brow21_col1\" class=\"data row21 col1\" >False</td>\n",
       "            </tr>\n",
       "            <tr>\n",
       "                        <th id=\"T_588d36ee_cfcd_11ea_9b54_c8d9d2ac7d3blevel0_row22\" class=\"row_heading level0 row22\" >22</th>\n",
       "                        <td id=\"T_588d36ee_cfcd_11ea_9b54_c8d9d2ac7d3brow22_col0\" class=\"data row22 col0\" >Multicollinearity Threshold </td>\n",
       "                        <td id=\"T_588d36ee_cfcd_11ea_9b54_c8d9d2ac7d3brow22_col1\" class=\"data row22 col1\" >None</td>\n",
       "            </tr>\n",
       "            <tr>\n",
       "                        <th id=\"T_588d36ee_cfcd_11ea_9b54_c8d9d2ac7d3blevel0_row23\" class=\"row_heading level0 row23\" >23</th>\n",
       "                        <td id=\"T_588d36ee_cfcd_11ea_9b54_c8d9d2ac7d3brow23_col0\" class=\"data row23 col0\" >Group Features </td>\n",
       "                        <td id=\"T_588d36ee_cfcd_11ea_9b54_c8d9d2ac7d3brow23_col1\" class=\"data row23 col1\" >False</td>\n",
       "            </tr>\n",
       "    </tbody></table>"
      ],
      "text/plain": [
       "<pandas.io.formats.style.Styler at 0x29f1e653550>"
      ]
     },
     "metadata": {},
     "output_type": "display_data"
    }
   ],
   "source": [
    "clustering_algo = setup(data=jewel)"
   ]
  },
  {
   "cell_type": "code",
   "execution_count": 31,
   "metadata": {},
   "outputs": [],
   "source": [
    "kmeans = create_model(\"kmeans\")"
   ]
  },
  {
   "cell_type": "code",
   "execution_count": 32,
   "metadata": {},
   "outputs": [
    {
     "data": {
      "text/plain": [
       "KMeans(algorithm='auto', copy_x=True, init='k-means++', max_iter=300,\n",
       "       n_clusters=4, n_init=10, n_jobs=None, precompute_distances='auto',\n",
       "       random_state=7423, tol=0.0001, verbose=0)"
      ]
     },
     "execution_count": 32,
     "metadata": {},
     "output_type": "execute_result"
    }
   ],
   "source": [
    "kmeans"
   ]
  },
  {
   "cell_type": "code",
   "execution_count": 33,
   "metadata": {},
   "outputs": [],
   "source": [
    "###### Assign the labels to the dataframe"
   ]
  },
  {
   "cell_type": "code",
   "execution_count": 34,
   "metadata": {},
   "outputs": [],
   "source": [
    "kmeans_df = assign_model(kmeans)"
   ]
  },
  {
   "cell_type": "code",
   "execution_count": 35,
   "metadata": {},
   "outputs": [
    {
     "data": {
      "text/html": [
       "<div>\n",
       "<style scoped>\n",
       "    .dataframe tbody tr th:only-of-type {\n",
       "        vertical-align: middle;\n",
       "    }\n",
       "\n",
       "    .dataframe tbody tr th {\n",
       "        vertical-align: top;\n",
       "    }\n",
       "\n",
       "    .dataframe thead th {\n",
       "        text-align: right;\n",
       "    }\n",
       "</style>\n",
       "<table border=\"1\" class=\"dataframe\">\n",
       "  <thead>\n",
       "    <tr style=\"text-align: right;\">\n",
       "      <th></th>\n",
       "      <th>Age</th>\n",
       "      <th>Income</th>\n",
       "      <th>SpendingScore</th>\n",
       "      <th>Savings</th>\n",
       "      <th>Cluster</th>\n",
       "    </tr>\n",
       "  </thead>\n",
       "  <tbody>\n",
       "    <tr>\n",
       "      <th>0</th>\n",
       "      <td>58</td>\n",
       "      <td>77769</td>\n",
       "      <td>0.791329</td>\n",
       "      <td>6559.829923</td>\n",
       "      <td>Cluster 2</td>\n",
       "    </tr>\n",
       "    <tr>\n",
       "      <th>1</th>\n",
       "      <td>59</td>\n",
       "      <td>81799</td>\n",
       "      <td>0.791082</td>\n",
       "      <td>5417.661426</td>\n",
       "      <td>Cluster 2</td>\n",
       "    </tr>\n",
       "    <tr>\n",
       "      <th>2</th>\n",
       "      <td>62</td>\n",
       "      <td>74751</td>\n",
       "      <td>0.702657</td>\n",
       "      <td>9258.992965</td>\n",
       "      <td>Cluster 2</td>\n",
       "    </tr>\n",
       "    <tr>\n",
       "      <th>3</th>\n",
       "      <td>59</td>\n",
       "      <td>74373</td>\n",
       "      <td>0.765680</td>\n",
       "      <td>7346.334504</td>\n",
       "      <td>Cluster 2</td>\n",
       "    </tr>\n",
       "    <tr>\n",
       "      <th>4</th>\n",
       "      <td>87</td>\n",
       "      <td>17760</td>\n",
       "      <td>0.348778</td>\n",
       "      <td>16869.507130</td>\n",
       "      <td>Cluster 0</td>\n",
       "    </tr>\n",
       "    <tr>\n",
       "      <th>...</th>\n",
       "      <td>...</td>\n",
       "      <td>...</td>\n",
       "      <td>...</td>\n",
       "      <td>...</td>\n",
       "      <td>...</td>\n",
       "    </tr>\n",
       "    <tr>\n",
       "      <th>500</th>\n",
       "      <td>28</td>\n",
       "      <td>101206</td>\n",
       "      <td>0.387441</td>\n",
       "      <td>14936.775389</td>\n",
       "      <td>Cluster 1</td>\n",
       "    </tr>\n",
       "    <tr>\n",
       "      <th>501</th>\n",
       "      <td>93</td>\n",
       "      <td>19934</td>\n",
       "      <td>0.203140</td>\n",
       "      <td>17969.693769</td>\n",
       "      <td>Cluster 0</td>\n",
       "    </tr>\n",
       "    <tr>\n",
       "      <th>502</th>\n",
       "      <td>90</td>\n",
       "      <td>35297</td>\n",
       "      <td>0.355149</td>\n",
       "      <td>16091.401954</td>\n",
       "      <td>Cluster 0</td>\n",
       "    </tr>\n",
       "    <tr>\n",
       "      <th>503</th>\n",
       "      <td>91</td>\n",
       "      <td>20681</td>\n",
       "      <td>0.354679</td>\n",
       "      <td>18401.088445</td>\n",
       "      <td>Cluster 0</td>\n",
       "    </tr>\n",
       "    <tr>\n",
       "      <th>504</th>\n",
       "      <td>89</td>\n",
       "      <td>30267</td>\n",
       "      <td>0.289310</td>\n",
       "      <td>14386.351880</td>\n",
       "      <td>Cluster 0</td>\n",
       "    </tr>\n",
       "  </tbody>\n",
       "</table>\n",
       "<p>505 rows × 5 columns</p>\n",
       "</div>"
      ],
      "text/plain": [
       "     Age  Income  SpendingScore       Savings    Cluster\n",
       "0     58   77769       0.791329   6559.829923  Cluster 2\n",
       "1     59   81799       0.791082   5417.661426  Cluster 2\n",
       "2     62   74751       0.702657   9258.992965  Cluster 2\n",
       "3     59   74373       0.765680   7346.334504  Cluster 2\n",
       "4     87   17760       0.348778  16869.507130  Cluster 0\n",
       "..   ...     ...            ...           ...        ...\n",
       "500   28  101206       0.387441  14936.775389  Cluster 1\n",
       "501   93   19934       0.203140  17969.693769  Cluster 0\n",
       "502   90   35297       0.355149  16091.401954  Cluster 0\n",
       "503   91   20681       0.354679  18401.088445  Cluster 0\n",
       "504   89   30267       0.289310  14386.351880  Cluster 0\n",
       "\n",
       "[505 rows x 5 columns]"
      ]
     },
     "execution_count": 35,
     "metadata": {},
     "output_type": "execute_result"
    }
   ],
   "source": [
    "kmeans_df"
   ]
  },
  {
   "cell_type": "code",
   "execution_count": 36,
   "metadata": {},
   "outputs": [
    {
     "data": {
      "text/html": [
       "        <script type=\"text/javascript\">\n",
       "        window.PlotlyConfig = {MathJaxConfig: 'local'};\n",
       "        if (window.MathJax) {MathJax.Hub.Config({SVG: {font: \"STIX-Web\"}});}\n",
       "        if (typeof require !== 'undefined') {\n",
       "        require.undef(\"plotly\");\n",
       "        requirejs.config({\n",
       "            paths: {\n",
       "                'plotly': ['https://cdn.plot.ly/plotly-latest.min']\n",
       "            }\n",
       "        });\n",
       "        require(['plotly'], function(Plotly) {\n",
       "            window._Plotly = Plotly;\n",
       "        });\n",
       "        }\n",
       "        </script>\n",
       "        "
      ]
     },
     "metadata": {},
     "output_type": "display_data"
    },
    {
     "data": {
      "application/vnd.plotly.v1+json": {
       "config": {
        "plotlyServerURL": "https://plot.ly"
       },
       "data": [
        {
         "customdata": [
          [
           58
          ],
          [
           59
          ],
          [
           62
          ],
          [
           59
          ],
          [
           87
          ],
          [
           29
          ],
          [
           54
          ],
          [
           87
          ],
          [
           83
          ],
          [
           84
          ],
          [
           85
          ],
          [
           36
          ],
          [
           30
          ],
          [
           31
          ],
          [
           61
          ],
          [
           92
          ],
          [
           55
          ],
          [
           87
          ],
          [
           82
          ],
          [
           88
          ],
          [
           30
          ],
          [
           84
          ],
          [
           53
          ],
          [
           91
          ],
          [
           89
          ],
          [
           30
          ],
          [
           17
          ],
          [
           55
          ],
          [
           90
          ],
          [
           61
          ],
          [
           59
          ],
          [
           59
          ],
          [
           88
          ],
          [
           56
          ],
          [
           33
          ],
          [
           61
          ],
          [
           84
          ],
          [
           61
          ],
          [
           39
          ],
          [
           31
          ],
          [
           60
          ],
          [
           87
          ],
          [
           20
          ],
          [
           57
          ],
          [
           61
          ],
          [
           18
          ],
          [
           83
          ],
          [
           25
          ],
          [
           31
          ],
          [
           55
          ],
          [
           84
          ],
          [
           36
          ],
          [
           27
          ],
          [
           91
          ],
          [
           53
          ],
          [
           91
          ],
          [
           25
          ],
          [
           83
          ],
          [
           87
          ],
          [
           90
          ],
          [
           83
          ],
          [
           83
          ],
          [
           83
          ],
          [
           61
          ],
          [
           64
          ],
          [
           62
          ],
          [
           91
          ],
          [
           28
          ],
          [
           23
          ],
          [
           55
          ],
          [
           58
          ],
          [
           31
          ],
          [
           83
          ],
          [
           91
          ],
          [
           30
          ],
          [
           57
          ],
          [
           33
          ],
          [
           59
          ],
          [
           58
          ],
          [
           29
          ],
          [
           59
          ],
          [
           84
          ],
          [
           64
          ],
          [
           87
          ],
          [
           88
          ],
          [
           35
          ],
          [
           34
          ],
          [
           58
          ],
          [
           56
          ],
          [
           63
          ],
          [
           58
          ],
          [
           60
          ],
          [
           24
          ],
          [
           94
          ],
          [
           58
          ],
          [
           25
          ],
          [
           36
          ],
          [
           62
          ],
          [
           66
          ],
          [
           37
          ],
          [
           27
          ],
          [
           24
          ],
          [
           31
          ],
          [
           23
          ],
          [
           34
          ],
          [
           88
          ],
          [
           89
          ],
          [
           32
          ],
          [
           38
          ],
          [
           57
          ],
          [
           90
          ],
          [
           33
          ],
          [
           66
          ],
          [
           35
          ],
          [
           31
          ],
          [
           35
          ],
          [
           63
          ],
          [
           30
          ],
          [
           22
          ],
          [
           84
          ],
          [
           28
          ],
          [
           88
          ],
          [
           84
          ],
          [
           88
          ],
          [
           35
          ],
          [
           82
          ],
          [
           64
          ],
          [
           91
          ],
          [
           62
          ],
          [
           62
          ],
          [
           34
          ],
          [
           60
          ],
          [
           32
          ],
          [
           65
          ],
          [
           24
          ],
          [
           88
          ],
          [
           82
          ],
          [
           26
          ],
          [
           60
          ],
          [
           31
          ],
          [
           85
          ],
          [
           63
          ],
          [
           56
          ],
          [
           28
          ],
          [
           58
          ],
          [
           26
          ],
          [
           62
          ]
         ],
         "hoverlabel": {
          "namelength": 0
         },
         "hovertemplate": "Cluster=Cluster 0<br>PCA1=%{x}<br>PCA2=%{y}<br>Feature=%{customdata[0]}",
         "legendgroup": "Cluster=Cluster 0",
         "marker": {
          "color": "#636efa",
          "opacity": 0.5,
          "symbol": "circle"
         },
         "mode": "markers",
         "name": "Cluster=Cluster 0",
         "showlegend": true,
         "textposition": "top center",
         "type": "scatter",
         "x": [
          -45316.581406095545,
          -49427.52413702611,
          -47129.844163420596,
          -47975.62989430368,
          -41047.37636685029,
          -57176.86780610602,
          -42194.798734952405,
          -47211.30921897938,
          -55300.438356116465,
          -39708.64698966346,
          -37510.58801132116,
          -43231.47790879878,
          -55368.9842756801,
          -48469.75822555576,
          -51191.18311026794,
          -46897.28720484183,
          -36822.88272990106,
          -42594.243001932955,
          -48754.55322293143,
          -49610.67501015969,
          -28705.2128267698,
          -47927.75615335323,
          -45592.662714596445,
          -50446.68725850557,
          -42805.17469366227,
          -40907.25147798807,
          -51240.79467490207,
          -42382.69883203619,
          -46294.69652581508,
          -49640.5163339359,
          -33685.82303783499,
          -41654.28537091671,
          -46752.17189114907,
          -53680.7205852779,
          -60035.355735186306,
          -47339.94733410824,
          -59885.18345080086,
          -41090.43271162364,
          -51335.696362198025,
          -43219.570630797956,
          -45489.12002421861,
          -47271.4132762421,
          -54957.49098917233,
          -44945.69901444299,
          -40724.15688509663,
          -47490.05337363705,
          -58306.89374121131,
          -44680.89350931923,
          -51006.62596717176,
          -49952.56386424754,
          -50055.78756429354,
          -50029.048673484416,
          -48459.57885316464,
          -42253.87287795822,
          -43012.76978349139,
          -58127.50387027,
          -45508.35388587765,
          -50504.823142737696,
          -48762.36466827118,
          -37730.76934060818,
          -28723.991919565997,
          -46206.76070917286,
          -44821.27195537091,
          -56178.67327005175,
          -49206.072979236196,
          -54413.15855352473,
          -45504.92821664384,
          -53514.36608306822,
          -43811.47262039386,
          -63634.72200273954,
          -39063.28667619089,
          -63656.347589980105,
          -53329.0889086379,
          -56491.72616160142,
          -53484.99044797619,
          -57750.75774612387,
          -42432.64509966226,
          -48329.37521986342,
          -47000.171708792885,
          -48496.84792497304,
          -53103.84791289729,
          -46522.91941975115,
          -39882.023331383025,
          -46108.564418073096,
          -45148.0621460879,
          -57495.82751822279,
          -48890.162042831646,
          -48254.00622992488,
          -56854.24491468409,
          -41272.89533986178,
          -55116.83601816836,
          -58771.33010043616,
          -51459.51350546342,
          -56820.08755360424,
          -42172.09142372813,
          -39916.59061152689,
          -48448.189821393375,
          -49274.44239615929,
          -46888.40589877375,
          -47148.04950665259,
          -51304.420791210185,
          -49855.36023906115,
          -49083.98904448346,
          -52219.78891026321,
          -53905.330808706654,
          -45889.16124528393,
          -39730.75492373197,
          -44207.36919669003,
          -42334.04767150633,
          -49618.564251583884,
          -42152.502819378744,
          -39255.47386551346,
          -52957.616291780956,
          -48338.7046626193,
          -56895.336026094636,
          -41183.65207165711,
          -47591.22511121999,
          -52877.38164603334,
          -38257.012522678684,
          -45243.33599570979,
          -38870.672641380326,
          -55003.11473536292,
          -51590.97205811302,
          -51858.952852259725,
          -48031.60033869833,
          -53120.54070874579,
          -52745.27199507382,
          -57888.986937986156,
          -44891.726940178145,
          -33223.78792758689,
          -46621.675189920854,
          -57945.29400939377,
          -52350.13688160766,
          -44316.39097613651,
          -42485.198930508355,
          -41229.085326467895,
          -55837.896212559055,
          -57516.27318363642,
          -42546.30928703382,
          -47366.64939309711,
          -40392.52353813575,
          -48086.471615067814,
          -52508.30353343573,
          -45053.50115134015,
          -48867.33422412473,
          -40276.44813108954,
          -47072.83270827878
         ],
         "xaxis": "x",
         "y": [
          72.34189620856402,
          -3282.4967836895134,
          -2166.945526513025,
          -2697.480649636871,
          163.0086019424052,
          -500.3822260290372,
          -2831.244972649776,
          -497.0287321468162,
          -2379.4453929525353,
          -2812.640832274527,
          -2385.9306735999717,
          -2464.3665067293473,
          -990.6075970316542,
          -975.0110199269376,
          -2999.0481368530054,
          -1500.599753550347,
          -3004.135925035731,
          -4573.13594967613,
          -3476.757532941406,
          -2494.346015854769,
          -2125.516573296833,
          1139.0677249894056,
          -1858.7415428672748,
          -1789.8310613735061,
          -2383.923586492434,
          -2247.7230980697595,
          -337.58311029945986,
          -1026.2178281219426,
          -3445.1407626668756,
          -2403.452656500527,
          -2359.981060852437,
          -1284.276335232602,
          -4260.667936777422,
          -1523.153182779476,
          -2067.7852022028583,
          -2756.2104567652154,
          968.182184170174,
          -2507.468037848858,
          -2253.3249547903138,
          -982.6374045457443,
          -857.2365574199126,
          -1422.2632521531468,
          -1273.0340909671545,
          -2663.436303414359,
          -3403.3549980948774,
          -1025.6556377131594,
          -1498.3070625904006,
          -3320.238109106742,
          1229.6342021037979,
          -1016.3628176053369,
          -458.73293797347014,
          -2907.7981801354913,
          -623.0248233972363,
          -2813.4088657561015,
          -2388.397515567186,
          -3329.4241557503897,
          -1716.0957515179953,
          -2541.1040744024217,
          -1902.3037525718125,
          -3447.5228656993513,
          -1283.2493416842203,
          -3972.4372911141954,
          -809.2478504066152,
          -1450.731868886663,
          646.5438723752023,
          -1055.9968931753701,
          -1656.425055816306,
          -3511.650542757559,
          -3844.0506429942834,
          -958.536564511077,
          -2178.951260878267,
          -672.1303645871003,
          -3704.1152030668827,
          -1529.9495201383838,
          -2964.871161538943,
          -1546.7860227984663,
          -2804.317598781817,
          -2106.9565485318567,
          -3258.5927312494296,
          -1255.02312171752,
          -1838.6646455566602,
          -2395.150620327911,
          -3145.83881166963,
          -4704.9007181400775,
          -918.4435413744582,
          -874.5938320396249,
          -3117.043572435123,
          -3586.392912339362,
          -1039.8869670204504,
          -2039.051945091478,
          -3386.6313874278353,
          -1946.4256348815338,
          -1443.6312210611673,
          -2626.494760123042,
          -3482.9509244203136,
          -5860.406970913428,
          -424.4944516024714,
          -1819.1411133435672,
          -1747.2845158743755,
          -948.1700320034148,
          -1341.6421504993382,
          -2551.6409458673006,
          -2706.954245859541,
          -361.82287722906165,
          776.7213551828788,
          -3656.8600405231196,
          -3215.3117531036187,
          -1788.5950192551393,
          -946.4427010468277,
          -1200.4987085747016,
          -3595.4264994551536,
          -2456.0624695072056,
          -512.168161665237,
          -296.9479102201375,
          -219.8356734403215,
          -2299.1775764582517,
          -2876.0168218541617,
          -1034.046286118069,
          -3209.705699855121,
          -2386.7446703879696,
          -4966.632983631629,
          -1806.371634963476,
          -1709.680992265404,
          -1998.3145148841263,
          -2520.8796709258977,
          -2373.906852113616,
          -3270.250012030125,
          -2297.410428456015,
          -1059.5099705589168,
          -4327.599800404025,
          -1061.3928297006285,
          -1690.223524424541,
          -1271.836696800183,
          -1681.107809398616,
          -1573.1293339464698,
          -559.8887343311571,
          -2913.151326193393,
          -2662.237917413058,
          -2323.9550250667426,
          -2226.5238835946834,
          -1918.0706539765356,
          -3267.664533478743,
          -2003.3795586148938,
          -3267.8530880659673,
          -3330.095089314261,
          -3159.4030652887373,
          -3652.1430220775037
         ],
         "yaxis": "y"
        },
        {
         "customdata": [
          [
           86
          ],
          [
           56
          ],
          [
           91
          ],
          [
           59
          ],
          [
           28
          ],
          [
           85
          ],
          [
           65
          ],
          [
           94
          ],
          [
           86
          ],
          [
           30
          ],
          [
           62
          ],
          [
           85
          ],
          [
           59
          ],
          [
           30
          ],
          [
           83
          ],
          [
           66
          ],
          [
           31
          ],
          [
           88
          ],
          [
           28
          ],
          [
           85
          ],
          [
           64
          ],
          [
           33
          ],
          [
           62
          ],
          [
           89
          ],
          [
           61
          ],
          [
           29
          ],
          [
           56
          ],
          [
           92
          ],
          [
           62
          ],
          [
           60
          ],
          [
           85
          ],
          [
           88
          ],
          [
           94
          ],
          [
           62
          ],
          [
           64
          ],
          [
           29
          ],
          [
           27
          ],
          [
           31
          ],
          [
           87
          ],
          [
           32
          ],
          [
           63
          ],
          [
           58
          ],
          [
           62
          ],
          [
           32
          ],
          [
           93
          ],
          [
           59
          ],
          [
           61
          ],
          [
           53
          ],
          [
           82
          ],
          [
           28
          ],
          [
           32
          ],
          [
           89
          ],
          [
           84
          ],
          [
           87
          ],
          [
           29
          ],
          [
           58
          ],
          [
           29
          ],
          [
           55
          ],
          [
           25
          ],
          [
           60
          ],
          [
           88
          ],
          [
           24
          ],
          [
           56
          ],
          [
           95
          ],
          [
           89
          ],
          [
           86
          ],
          [
           85
          ],
          [
           60
          ],
          [
           87
          ],
          [
           29
          ],
          [
           23
          ],
          [
           31
          ],
          [
           89
          ],
          [
           58
          ],
          [
           56
          ],
          [
           37
          ],
          [
           89
          ],
          [
           29
          ],
          [
           23
          ],
          [
           34
          ],
          [
           64
          ],
          [
           63
          ],
          [
           85
          ],
          [
           62
          ],
          [
           59
          ],
          [
           92
          ],
          [
           67
          ],
          [
           58
          ],
          [
           58
          ],
          [
           38
          ],
          [
           57
          ],
          [
           31
          ],
          [
           36
          ],
          [
           25
          ],
          [
           66
          ],
          [
           64
          ],
          [
           59
          ],
          [
           90
          ],
          [
           68
          ],
          [
           35
          ],
          [
           84
          ],
          [
           24
          ],
          [
           29
          ],
          [
           28
          ],
          [
           81
          ],
          [
           57
          ],
          [
           37
          ],
          [
           91
          ],
          [
           82
          ],
          [
           36
          ],
          [
           31
          ],
          [
           61
          ],
          [
           64
          ],
          [
           83
          ],
          [
           63
          ],
          [
           55
          ],
          [
           86
          ],
          [
           57
          ],
          [
           94
          ],
          [
           37
          ],
          [
           26
          ],
          [
           57
          ],
          [
           37
          ],
          [
           88
          ],
          [
           61
          ],
          [
           91
          ],
          [
           84
          ],
          [
           43
          ],
          [
           59
          ],
          [
           90
          ]
         ],
         "hoverlabel": {
          "namelength": 0
         },
         "hovertemplate": "Cluster=Cluster 1<br>PCA1=%{x}<br>PCA2=%{y}<br>Feature=%{customdata[0]}",
         "legendgroup": "Cluster=Cluster 1",
         "marker": {
          "color": "#EF553B",
          "opacity": 0.5,
          "symbol": "circle"
         },
         "mode": "markers",
         "name": "Cluster=Cluster 1",
         "showlegend": true,
         "textposition": "top center",
         "type": "scatter",
         "x": [
          30806.776341952773,
          24706.12835284514,
          25328.069962281665,
          25363.91922672041,
          37194.90227907418,
          26228.37628643618,
          37939.71700891233,
          31960.754514207252,
          26983.046364278183,
          20592.346613007758,
          35036.7158554872,
          18943.372817813015,
          34834.90179465999,
          35572.71538685354,
          25732.344972190553,
          32561.02536006329,
          23470.84703332801,
          31361.08526779913,
          31045.220255678778,
          27758.387575808203,
          35758.275435536685,
          39135.37622313005,
          30949.63690199793,
          32572.750272366186,
          23967.006087975613,
          35579.20581580633,
          22393.41773018012,
          31911.001239366324,
          40673.85964432744,
          26298.14841024671,
          38869.649452671685,
          32797.643669354926,
          21900.785300032752,
          38847.16976776082,
          32210.979768642395,
          22224.556143435268,
          19295.26768680955,
          25474.40276379727,
          24613.751980326102,
          21973.30795044381,
          41298.631292835045,
          30584.124615113244,
          32416.939873895542,
          23032.680124651262,
          24491.38889864472,
          37228.73474520067,
          29861.546669621443,
          33379.42058468908,
          32912.89206331583,
          22350.769816321557,
          39513.273555432424,
          25938.050496756237,
          25376.693266073147,
          14006.00096536539,
          22105.03459107825,
          30046.489080926043,
          30148.68267391608,
          15764.491431415825,
          32307.93672914094,
          24294.80847834632,
          31253.46853044941,
          32289.54020716664,
          34830.86603735357,
          31016.95277066786,
          34815.254920538035,
          31614.442565419085,
          23196.21330643822,
          36008.725359122305,
          33345.15627123117,
          23858.598240023413,
          22258.60866856989,
          23748.67781545404,
          34360.48180735057,
          32345.708428700582,
          32149.92129268287,
          27456.913266673102,
          32322.908553122466,
          38938.11813871434,
          31317.298064553695,
          30614.165778553546,
          39941.23737509612,
          20486.140695945443,
          24819.360949497728,
          31330.343984524763,
          28912.89513619993,
          28960.634964946756,
          36813.76713420394,
          33203.84256888801,
          28627.25985640029,
          26343.678673902457,
          32691.869561685708,
          26507.042872359896,
          29210.55694643968,
          36260.39985707386,
          38543.62512292871,
          28639.385002450494,
          31502.36034296821,
          26312.372968927517,
          22236.16947437227,
          33217.92661094809,
          16918.67620110012,
          26023.56635140614,
          39399.40138181148,
          34753.148485730795,
          23022.218263126633,
          40419.57669510414,
          19785.994393274665,
          30836.978307627433,
          23392.942046850578,
          25765.79004232835,
          30950.10183968237,
          15177.319714667676,
          30155.334159636965,
          30268.70548126328,
          27412.69140542122,
          19017.16946491749,
          32853.062283695246,
          35023.216270800265,
          31202.41268247606,
          26003.522431925605,
          28681.54988758575,
          35187.91053468464,
          24827.978780545967,
          40849.480597690614,
          26071.98118135924,
          29240.50974864809,
          34060.87750047382,
          26578.15319626618,
          35711.07999432944,
          23896.36880790408
         ],
         "xaxis": "x",
         "y": [
          -5560.2046796,
          -6304.286871577941,
          -4507.818852759071,
          -6518.877743618621,
          -4030.4860762357503,
          -4266.484164687801,
          -4683.44028185975,
          -7950.137679904536,
          -2897.4181107781205,
          -4611.587648361573,
          -6415.699536226249,
          -6099.9265116751585,
          -5079.540930731746,
          -4807.665202226774,
          -4846.280009746119,
          -5658.529147335396,
          -4720.2489254083885,
          -4837.589604607751,
          -4354.880673536974,
          -3524.6018820414943,
          -4122.472097486012,
          -4339.707016425756,
          -4397.197322284793,
          -6711.005814772026,
          -5918.696393593377,
          -6195.256515402727,
          -5150.746928288214,
          -2672.9112969661537,
          -5771.827716588528,
          -5023.038755192274,
          -4117.836047019013,
          -5654.54684838932,
          -5234.914435436244,
          -8209.639308093872,
          -5806.3623666588965,
          -5737.01421639917,
          -3266.6501002799137,
          -4541.161711915865,
          -3288.464289351834,
          -5227.972306159949,
          -6422.065006311351,
          -5198.65174378372,
          -3316.8737845198516,
          -5461.1790445209535,
          -3378.544090547869,
          -4575.537648425251,
          -4210.491742797324,
          -4139.05304404694,
          -4588.664684244311,
          -5405.192380070511,
          -4805.68252052094,
          -4054.252841897084,
          -3922.329207394543,
          -1775.6050399833534,
          -4346.187741550608,
          -2733.109485171265,
          -3727.641222685246,
          -2149.152212076625,
          -3401.0815217687777,
          -3156.174867738151,
          -4792.820172444663,
          -3634.3413606407394,
          -5377.229021116214,
          -4865.00440731728,
          -5108.281670571712,
          -3948.4131537015073,
          -5613.7149464738695,
          -6111.705171395258,
          -6080.299826048201,
          -4857.997302514553,
          -5195.925409188555,
          -4085.3878885407785,
          -5038.8164407421755,
          -2201.7204362153557,
          -5508.945169399095,
          -4868.312164441829,
          -3681.290385681803,
          -4443.1698152763865,
          -6141.763263553495,
          -4762.4349126193365,
          -5237.495032301003,
          -4804.2037003568,
          -6443.116567478199,
          -5635.163544619185,
          -5224.5544356708415,
          -5439.902381792006,
          -4615.462129870629,
          -6552.893169384942,
          -3324.8164217780154,
          -3863.0068749343077,
          -6066.457122934574,
          -5484.674656121097,
          -6286.356908964104,
          -3890.3447962612563,
          -7198.063753004436,
          -3130.950539346104,
          -5081.205331963822,
          -4286.405360287334,
          -4400.042331000773,
          -4387.404636496326,
          -2877.194607876878,
          -7172.334785619933,
          -5202.090344164468,
          -4008.589012753901,
          -4439.122859420631,
          -6642.233640263946,
          -4699.391527469764,
          -4248.4109987799275,
          -5117.926369906291,
          -4647.515091833699,
          -6274.3994076764575,
          4253.670268811264,
          -6491.845916302062,
          -4917.675594824386,
          -5970.659605817779,
          -4587.0566004039965,
          -5910.595724540103,
          -4416.577273256116,
          -4006.880782404123,
          -3786.1336424715287,
          -4194.11245457707,
          -4164.858385743973,
          -5088.608312301611,
          -5591.430862352507,
          -4687.764619495448,
          -5240.709879901141,
          -5075.678351149004,
          -4542.181472406769,
          -4543.481105344734,
          -4653.5725508840405
         ],
         "yaxis": "y"
        },
        {
         "customdata": [
          [
           88
          ],
          [
           59
          ],
          [
           59
          ],
          [
           88
          ],
          [
           37
          ],
          [
           33
          ],
          [
           90
          ],
          [
           31
          ],
          [
           90
          ],
          [
           91
          ],
          [
           29
          ],
          [
           83
          ],
          [
           84
          ],
          [
           87
          ],
          [
           22
          ],
          [
           58
          ],
          [
           31
          ],
          [
           33
          ],
          [
           56
          ],
          [
           30
          ],
          [
           85
          ],
          [
           87
          ],
          [
           34
          ],
          [
           61
          ],
          [
           30
          ],
          [
           88
          ],
          [
           56
          ],
          [
           30
          ],
          [
           25
          ],
          [
           61
          ],
          [
           88
          ],
          [
           37
          ],
          [
           35
          ],
          [
           85
          ],
          [
           85
          ],
          [
           88
          ],
          [
           59
          ],
          [
           90
          ],
          [
           33
          ],
          [
           62
          ],
          [
           59
          ],
          [
           91
          ],
          [
           33
          ],
          [
           87
          ],
          [
           26
          ],
          [
           88
          ],
          [
           24
          ],
          [
           91
          ],
          [
           86
          ],
          [
           36
          ],
          [
           87
          ],
          [
           33
          ],
          [
           59
          ],
          [
           29
          ],
          [
           59
          ],
          [
           57
          ],
          [
           40
          ],
          [
           42
          ],
          [
           89
          ],
          [
           93
          ],
          [
           17
          ],
          [
           24
          ],
          [
           34
          ],
          [
           90
          ],
          [
           20
          ],
          [
           92
          ],
          [
           84
          ],
          [
           59
          ],
          [
           61
          ],
          [
           67
          ],
          [
           82
          ],
          [
           94
          ],
          [
           28
          ],
          [
           36
          ],
          [
           91
          ],
          [
           34
          ],
          [
           77
          ],
          [
           63
          ],
          [
           35
          ],
          [
           21
          ],
          [
           86
          ],
          [
           56
          ],
          [
           83
          ],
          [
           28
          ],
          [
           59
          ],
          [
           83
          ],
          [
           83
          ],
          [
           58
          ],
          [
           91
          ],
          [
           29
          ],
          [
           61
          ],
          [
           84
          ],
          [
           34
          ],
          [
           33
          ],
          [
           55
          ],
          [
           88
          ],
          [
           91
          ],
          [
           91
          ],
          [
           84
          ],
          [
           87
          ],
          [
           39
          ],
          [
           38
          ],
          [
           89
          ],
          [
           59
          ],
          [
           35
          ],
          [
           59
          ],
          [
           87
          ],
          [
           94
          ],
          [
           86
          ],
          [
           60
          ],
          [
           79
          ],
          [
           86
          ],
          [
           60
          ],
          [
           85
          ],
          [
           92
          ],
          [
           37
          ],
          [
           89
          ],
          [
           67
          ],
          [
           31
          ],
          [
           20
          ],
          [
           37
          ],
          [
           57
          ],
          [
           87
          ],
          [
           33
          ],
          [
           56
          ],
          [
           67
          ],
          [
           58
          ],
          [
           89
          ],
          [
           34
          ],
          [
           25
          ],
          [
           44
          ],
          [
           68
          ],
          [
           31
          ],
          [
           58
          ],
          [
           55
          ],
          [
           21
          ],
          [
           36
          ],
          [
           88
          ],
          [
           26
          ],
          [
           29
          ],
          [
           38
          ],
          [
           79
          ],
          [
           51
          ],
          [
           82
          ],
          [
           39
          ],
          [
           87
          ],
          [
           36
          ],
          [
           57
          ],
          [
           61
          ],
          [
           86
          ],
          [
           86
          ],
          [
           35
          ],
          [
           89
          ],
          [
           30
          ],
          [
           60
          ],
          [
           64
          ]
         ],
         "hoverlabel": {
          "namelength": 0
         },
         "hovertemplate": "Cluster=Cluster 2<br>PCA1=%{x}<br>PCA2=%{y}<br>Feature=%{customdata[0]}",
         "legendgroup": "Cluster=Cluster 2",
         "marker": {
          "color": "#00cc96",
          "opacity": 0.5,
          "symbol": "circle"
         },
         "mode": "markers",
         "name": "Cluster=Cluster 2",
         "showlegend": true,
         "textposition": "top center",
         "type": "scatter",
         "x": [
          -7981.746810683438,
          -10371.487057071716,
          -2220.63545061007,
          3607.6218475354435,
          -805.5182840466978,
          -811.2733012583034,
          -3147.9716901024026,
          -12402.614006035734,
          5619.125538763624,
          2868.6753358918063,
          7034.566991846874,
          -1709.0067116984444,
          -3127.7464754071916,
          4615.6045897838885,
          4968.7646458745685,
          -6214.354917756373,
          5679.935032255555,
          -4794.730185972457,
          -9823.292971418654,
          -5787.584457334295,
          1547.912439559419,
          -7431.169946592949,
          -11770.09622190469,
          -3197.770674931709,
          -1424.2968527852504,
          -5149.414552966312,
          -4588.8456828873295,
          -9176.939917160444,
          1855.0479869186859,
          7017.407229806945,
          5122.282562298912,
          -967.1345292294824,
          -10419.650727093273,
          -4883.720561797821,
          3333.0370081988813,
          -7827.504392605745,
          -6270.130057704634,
          -4114.665812502668,
          -7225.65665149656,
          -4661.643199436444,
          -6586.375015596342,
          -7793.211508914162,
          -6075.7239459118755,
          3574.8676282851347,
          -1755.3663563989974,
          -1864.5940590614434,
          -9270.98324611397,
          2555.78423516021,
          -5898.744479681151,
          -5327.512619806886,
          -1710.0091006297753,
          -2630.7941352081816,
          1381.2925438038897,
          -10238.837928743029,
          -2329.616759752768,
          -3536.6248996188683,
          -11570.013629472287,
          -12594.17524212853,
          -3881.279223544836,
          -9447.566957019657,
          -4595.725467462927,
          5567.478117111804,
          9121.20832982617,
          4848.442764387976,
          499.4966180961289,
          -4176.72263170431,
          -6529.597912750259,
          -7423.928769536232,
          -9153.992100917838,
          4864.683651412996,
          -7249.028129796932,
          7325.2561894926885,
          1198.215527285726,
          -6945.490220855901,
          -5628.983771409211,
          -6874.447300583789,
          3175.7301008876757,
          -10072.87511880353,
          -5806.07705261182,
          -6051.798027149638,
          11039.026942031705,
          -4972.9221411299695,
          11129.4241492296,
          6644.597612798225,
          -611.8920766835475,
          -879.6961231840224,
          1270.5926186365048,
          -3354.409395492056,
          -3652.051627219523,
          1535.3200349238593,
          3442.0678654010358,
          1691.146999005498,
          -9514.742122293768,
          -5495.930030665687,
          -11393.264281389042,
          -1006.7942808926961,
          -11385.807297750884,
          10499.407295945575,
          -5228.773548143099,
          -2009.7086141751745,
          -847.3002227743448,
          -13124.391604038407,
          -6112.701966838937,
          -14757.626854505606,
          -5414.451723823097,
          -4197.995995572509,
          -907.6690876091207,
          4241.77589515304,
          -2601.869628345949,
          1797.869284620748,
          -860.435447795388,
          13091.374153516681,
          -4333.353171495316,
          106.44730782999513,
          -5414.849621380295,
          -1148.5927138363184,
          834.6063416853508,
          -182.8750970629007,
          -12401.012614422627,
          384.48865377878377,
          -15876.014194933861,
          2392.9514000132294,
          -4856.160277619086,
          -9604.976101231397,
          -3578.6411667637326,
          3594.0424216908305,
          -5713.304475031718,
          -7793.454352086526,
          -18832.32308999509,
          277.3194547180323,
          2456.1149429108837,
          3385.8220491313155,
          -1867.5011952055188,
          -4025.534586861495,
          -5506.504775277299,
          1380.9095854822526,
          -1254.796105082281,
          1223.3332842063553,
          -10817.514881421732,
          375.6120252474093,
          -18377.080919160886,
          -7740.904879089724,
          -9600.009525716894,
          -284.934616131756,
          -15159.901916245672,
          -4335.121223668252,
          -3902.650760127406,
          -9955.599000501968,
          8122.080380415534,
          5073.487356522336,
          871.0561448640358,
          3735.2223001205366,
          -8175.94478384165,
          -7927.279393999564,
          -3222.02849711765,
          2663.814142724256
         ],
         "xaxis": "x",
         "y": [
          3467.5659749114184,
          6211.2744884591975,
          4177.140129281849,
          4852.444518767337,
          4348.095679784136,
          4771.515153180692,
          5506.99662291386,
          4277.420432790428,
          4314.803908984968,
          5223.642330390356,
          3374.287134293426,
          3684.6952959403584,
          5318.281993622224,
          5713.442041909502,
          3943.117073633911,
          8154.200533863804,
          4711.285967238691,
          5174.470545977292,
          6862.247572080604,
          5711.6283932669685,
          3973.906997486512,
          6342.036901878027,
          5001.42078319685,
          5127.949261280453,
          7267.328542397003,
          5556.6661391338175,
          4468.268102563841,
          7146.662858252778,
          5468.743274286695,
          5588.800602998203,
          3424.0736039052877,
          4638.724240674151,
          5982.858221439129,
          4688.370746949258,
          4012.2154933423158,
          5701.697575023511,
          5401.821696967168,
          3078.8964384945916,
          4564.6176218553155,
          4875.41203439204,
          4795.659622307597,
          6334.243251982048,
          3500.5964543132527,
          6638.189488143045,
          4273.205301847635,
          5267.352553209774,
          5996.549152653392,
          5164.690387393574,
          5205.840154213878,
          5507.674538617931,
          5692.091704359399,
          5512.809888472099,
          5207.221097509009,
          7423.315368546435,
          6502.20788277559,
          5070.4130984363255,
          6393.584927460235,
          5058.593507665866,
          3532.750801645636,
          6026.37013772877,
          4575.315245883314,
          6399.679457928577,
          4076.1888638584983,
          6716.389270082327,
          4450.5724650858,
          5121.94817799102,
          5174.060016070749,
          5595.425208078426,
          6237.455006749796,
          4834.953991865887,
          5030.1015099048445,
          5245.750156657963,
          6031.597780098118,
          5240.2836976266035,
          3413.4609900340333,
          3266.4701832643786,
          4727.079813055347,
          7033.83230622547,
          5686.132349951807,
          6221.683453940019,
          4384.687289531571,
          5053.974394482307,
          2451.395645635492,
          6074.108821940037,
          2642.8564628733093,
          4574.029852480231,
          4918.861099714735,
          4039.0497082186084,
          4298.147934215797,
          6617.143404468855,
          3293.925709825785,
          4305.605513370139,
          5484.062210130749,
          5033.927181148622,
          4760.726683836119,
          6827.736752280867,
          5239.83448625213,
          4092.586810582495,
          4906.8213691170085,
          4571.311601888514,
          5435.293808150464,
          5122.298575466132,
          7150.265686204207,
          5008.012103778606,
          6401.496850378555,
          4646.423038232094,
          4662.571801362161,
          4854.373611538007,
          5720.063910631847,
          3616.906622264862,
          1366.2175061913904,
          3878.0740056043537,
          6791.121727987131,
          5019.5450718658585,
          4509.378948047729,
          6154.518606181513,
          5141.10136743259,
          4411.324353776285,
          6731.62237122814,
          6845.141814371278,
          7337.462584330765,
          5992.684094109705,
          6861.841710581506,
          5517.45699879979,
          4687.331305792244,
          5244.223767536203,
          6098.407171499207,
          5788.853893383746,
          6823.253328040564,
          5152.077722121314,
          5539.978254276127,
          4513.159427781256,
          2685.662685436795,
          5644.552199614268,
          6298.430178867733,
          5567.112673818731,
          6380.915494292793,
          5666.367954752699,
          6677.482101590936,
          5049.606296947775,
          5086.374324713102,
          5133.639471687388,
          4923.281603355221,
          4064.008336080809,
          5573.243592768726,
          2658.2975188904134,
          5499.339332721765,
          4085.3122504461194,
          4731.012058760928,
          5244.4368093489165,
          5689.00045309191,
          4370.467828822718,
          5599.274828311294,
          5673.527728610803,
          4129.181189416356,
          3399.1203547303217
         ],
         "yaxis": "y"
        },
        {
         "customdata": [
          [
           37
          ],
          [
           65
          ],
          [
           90
          ],
          [
           59
          ],
          [
           29
          ],
          [
           58
          ],
          [
           88
          ],
          [
           63
          ],
          [
           92
          ],
          [
           17
          ],
          [
           34
          ],
          [
           22
          ],
          [
           24
          ],
          [
           36
          ],
          [
           34
          ],
          [
           87
          ],
          [
           85
          ],
          [
           61
          ],
          [
           27
          ],
          [
           59
          ],
          [
           31
          ],
          [
           31
          ],
          [
           93
          ],
          [
           17
          ],
          [
           35
          ],
          [
           28
          ],
          [
           94
          ],
          [
           28
          ],
          [
           33
          ],
          [
           56
          ],
          [
           28
          ],
          [
           86
          ],
          [
           92
          ],
          [
           18
          ],
          [
           61
          ],
          [
           32
          ],
          [
           63
          ],
          [
           58
          ],
          [
           31
          ],
          [
           62
          ],
          [
           60
          ],
          [
           62
          ],
          [
           90
          ],
          [
           33
          ],
          [
           33
          ],
          [
           65
          ],
          [
           59
          ],
          [
           65
          ],
          [
           86
          ],
          [
           32
          ],
          [
           84
          ],
          [
           84
          ],
          [
           90
          ],
          [
           91
          ],
          [
           26
          ],
          [
           92
          ],
          [
           97
          ],
          [
           84
          ],
          [
           58
          ],
          [
           61
          ],
          [
           92
          ],
          [
           87
          ],
          [
           66
          ],
          [
           22
          ],
          [
           91
          ],
          [
           30
          ],
          [
           25
          ],
          [
           28
          ],
          [
           93
          ],
          [
           90
          ],
          [
           91
          ],
          [
           89
          ]
         ],
         "hoverlabel": {
          "namelength": 0
         },
         "hovertemplate": "Cluster=Cluster 3<br>PCA1=%{x}<br>PCA2=%{y}<br>Feature=%{customdata[0]}",
         "legendgroup": "Cluster=Cluster 3",
         "marker": {
          "color": "#ab63fa",
          "opacity": 0.5,
          "symbol": "circle"
         },
         "mode": "markers",
         "name": "Cluster=Cluster 3",
         "showlegend": true,
         "textposition": "top center",
         "type": "scatter",
         "x": [
          48551.89779119263,
          42414.13984409395,
          46271.7499906681,
          48029.2359829609,
          62912.457097805665,
          43629.01273923756,
          55587.351730733564,
          56651.455483747464,
          41328.25266330998,
          43861.747091025514,
          53899.23405997957,
          44952.90203538896,
          47549.76254622706,
          47842.883679066494,
          59798.1748284997,
          47182.06858155582,
          51395.2243559995,
          57857.2890569223,
          47415.389162405314,
          58984.55027496726,
          48410.00929047232,
          55168.45154506188,
          59803.045579193,
          53976.79000263129,
          56449.6781382814,
          46993.6410879084,
          53422.552485701235,
          41580.27174463823,
          47836.44839182684,
          48602.571111840196,
          52465.03358665989,
          52263.49410874446,
          50433.85138453335,
          51532.47005840451,
          46000.80248469954,
          63317.066532442914,
          52086.380658927206,
          50397.08389773133,
          43600.216180309755,
          54542.56026091127,
          52679.13742245062,
          54778.91990969144,
          45728.4011443441,
          59239.85352839813,
          41859.15436997562,
          48281.964764021905,
          54230.31142047659,
          49923.2324025863,
          48577.24594456371,
          45920.303846007606,
          45302.570904167434,
          55809.60825993979,
          43084.43130106839,
          48697.32854440995,
          50874.593733151865,
          44074.74432267948,
          47210.611284129605,
          52844.21454083214,
          47518.88131856791,
          53924.59703955876,
          42157.805428701,
          66750.62108457653,
          45280.29645748761,
          61617.25602185721,
          61085.161815426894,
          41933.87634909209,
          55783.42885801489,
          42045.79570257141,
          55795.99791496394,
          45049.713037748465,
          59196.59308633909,
          47964.55226138694
         ],
         "xaxis": "x",
         "y": [
          4668.214697412171,
          -5432.281819509644,
          4207.414796612183,
          5422.323757682562,
          5261.355213266388,
          -6254.840941209125,
          3427.1351952588107,
          4271.292185091136,
          -4823.645899335596,
          -6877.035883382066,
          3176.7468854090907,
          -4985.514801220397,
          3437.8964823947795,
          4758.188729714914,
          4315.751792559066,
          -4557.716601791876,
          5657.241494980816,
          5717.501137167641,
          4709.388807631826,
          3350.7116179336454,
          -5693.665441157447,
          4016.9816222016148,
          8450.30756249261,
          5488.389984582105,
          5101.398697367521,
          -4647.129088588652,
          3894.2354791277485,
          -5615.560772408639,
          6059.9833233745485,
          6249.537360930081,
          3371.5330650130977,
          5916.358054129829,
          -6854.206134077956,
          6006.73383366253,
          3884.452851319084,
          4946.1775101205085,
          3388.4270346813732,
          2890.5509685647044,
          -5657.478831520006,
          4193.882999372307,
          -4749.057025715366,
          4629.791365281096,
          3658.306501252221,
          4745.144589124807,
          -4543.3262670671975,
          8499.966944599806,
          3238.428770323685,
          6048.724079227706,
          -6305.307759672731,
          -4953.921129423361,
          3778.181421309607,
          3879.1497332626573,
          -4660.855622444508,
          5282.497809754306,
          -5178.052813440073,
          -6307.669140625976,
          6674.234677495916,
          -5677.667475551912,
          4941.999362973271,
          5765.842845736465,
          -5954.454601851145,
          2693.008186621752,
          4437.35656616774,
          6726.313750520614,
          4243.721728508765,
          4717.997205237607,
          4732.087714707707,
          -3106.10347586836,
          4252.897540706996,
          4590.8725834561055,
          3903.9749268153687,
          -4397.186114919679
         ],
         "yaxis": "y"
        }
       ],
       "layout": {
        "height": 600,
        "legend": {
         "tracegroupgap": 0
        },
        "margin": {
         "t": 60
        },
        "plot_bgcolor": "rgb(240,240,240)",
        "template": {
         "data": {
          "bar": [
           {
            "error_x": {
             "color": "#2a3f5f"
            },
            "error_y": {
             "color": "#2a3f5f"
            },
            "marker": {
             "line": {
              "color": "#E5ECF6",
              "width": 0.5
             }
            },
            "type": "bar"
           }
          ],
          "barpolar": [
           {
            "marker": {
             "line": {
              "color": "#E5ECF6",
              "width": 0.5
             }
            },
            "type": "barpolar"
           }
          ],
          "carpet": [
           {
            "aaxis": {
             "endlinecolor": "#2a3f5f",
             "gridcolor": "white",
             "linecolor": "white",
             "minorgridcolor": "white",
             "startlinecolor": "#2a3f5f"
            },
            "baxis": {
             "endlinecolor": "#2a3f5f",
             "gridcolor": "white",
             "linecolor": "white",
             "minorgridcolor": "white",
             "startlinecolor": "#2a3f5f"
            },
            "type": "carpet"
           }
          ],
          "choropleth": [
           {
            "colorbar": {
             "outlinewidth": 0,
             "ticks": ""
            },
            "type": "choropleth"
           }
          ],
          "contour": [
           {
            "colorbar": {
             "outlinewidth": 0,
             "ticks": ""
            },
            "colorscale": [
             [
              0,
              "#0d0887"
             ],
             [
              0.1111111111111111,
              "#46039f"
             ],
             [
              0.2222222222222222,
              "#7201a8"
             ],
             [
              0.3333333333333333,
              "#9c179e"
             ],
             [
              0.4444444444444444,
              "#bd3786"
             ],
             [
              0.5555555555555556,
              "#d8576b"
             ],
             [
              0.6666666666666666,
              "#ed7953"
             ],
             [
              0.7777777777777778,
              "#fb9f3a"
             ],
             [
              0.8888888888888888,
              "#fdca26"
             ],
             [
              1,
              "#f0f921"
             ]
            ],
            "type": "contour"
           }
          ],
          "contourcarpet": [
           {
            "colorbar": {
             "outlinewidth": 0,
             "ticks": ""
            },
            "type": "contourcarpet"
           }
          ],
          "heatmap": [
           {
            "colorbar": {
             "outlinewidth": 0,
             "ticks": ""
            },
            "colorscale": [
             [
              0,
              "#0d0887"
             ],
             [
              0.1111111111111111,
              "#46039f"
             ],
             [
              0.2222222222222222,
              "#7201a8"
             ],
             [
              0.3333333333333333,
              "#9c179e"
             ],
             [
              0.4444444444444444,
              "#bd3786"
             ],
             [
              0.5555555555555556,
              "#d8576b"
             ],
             [
              0.6666666666666666,
              "#ed7953"
             ],
             [
              0.7777777777777778,
              "#fb9f3a"
             ],
             [
              0.8888888888888888,
              "#fdca26"
             ],
             [
              1,
              "#f0f921"
             ]
            ],
            "type": "heatmap"
           }
          ],
          "heatmapgl": [
           {
            "colorbar": {
             "outlinewidth": 0,
             "ticks": ""
            },
            "colorscale": [
             [
              0,
              "#0d0887"
             ],
             [
              0.1111111111111111,
              "#46039f"
             ],
             [
              0.2222222222222222,
              "#7201a8"
             ],
             [
              0.3333333333333333,
              "#9c179e"
             ],
             [
              0.4444444444444444,
              "#bd3786"
             ],
             [
              0.5555555555555556,
              "#d8576b"
             ],
             [
              0.6666666666666666,
              "#ed7953"
             ],
             [
              0.7777777777777778,
              "#fb9f3a"
             ],
             [
              0.8888888888888888,
              "#fdca26"
             ],
             [
              1,
              "#f0f921"
             ]
            ],
            "type": "heatmapgl"
           }
          ],
          "histogram": [
           {
            "marker": {
             "colorbar": {
              "outlinewidth": 0,
              "ticks": ""
             }
            },
            "type": "histogram"
           }
          ],
          "histogram2d": [
           {
            "colorbar": {
             "outlinewidth": 0,
             "ticks": ""
            },
            "colorscale": [
             [
              0,
              "#0d0887"
             ],
             [
              0.1111111111111111,
              "#46039f"
             ],
             [
              0.2222222222222222,
              "#7201a8"
             ],
             [
              0.3333333333333333,
              "#9c179e"
             ],
             [
              0.4444444444444444,
              "#bd3786"
             ],
             [
              0.5555555555555556,
              "#d8576b"
             ],
             [
              0.6666666666666666,
              "#ed7953"
             ],
             [
              0.7777777777777778,
              "#fb9f3a"
             ],
             [
              0.8888888888888888,
              "#fdca26"
             ],
             [
              1,
              "#f0f921"
             ]
            ],
            "type": "histogram2d"
           }
          ],
          "histogram2dcontour": [
           {
            "colorbar": {
             "outlinewidth": 0,
             "ticks": ""
            },
            "colorscale": [
             [
              0,
              "#0d0887"
             ],
             [
              0.1111111111111111,
              "#46039f"
             ],
             [
              0.2222222222222222,
              "#7201a8"
             ],
             [
              0.3333333333333333,
              "#9c179e"
             ],
             [
              0.4444444444444444,
              "#bd3786"
             ],
             [
              0.5555555555555556,
              "#d8576b"
             ],
             [
              0.6666666666666666,
              "#ed7953"
             ],
             [
              0.7777777777777778,
              "#fb9f3a"
             ],
             [
              0.8888888888888888,
              "#fdca26"
             ],
             [
              1,
              "#f0f921"
             ]
            ],
            "type": "histogram2dcontour"
           }
          ],
          "mesh3d": [
           {
            "colorbar": {
             "outlinewidth": 0,
             "ticks": ""
            },
            "type": "mesh3d"
           }
          ],
          "parcoords": [
           {
            "line": {
             "colorbar": {
              "outlinewidth": 0,
              "ticks": ""
             }
            },
            "type": "parcoords"
           }
          ],
          "pie": [
           {
            "automargin": true,
            "type": "pie"
           }
          ],
          "scatter": [
           {
            "marker": {
             "colorbar": {
              "outlinewidth": 0,
              "ticks": ""
             }
            },
            "type": "scatter"
           }
          ],
          "scatter3d": [
           {
            "line": {
             "colorbar": {
              "outlinewidth": 0,
              "ticks": ""
             }
            },
            "marker": {
             "colorbar": {
              "outlinewidth": 0,
              "ticks": ""
             }
            },
            "type": "scatter3d"
           }
          ],
          "scattercarpet": [
           {
            "marker": {
             "colorbar": {
              "outlinewidth": 0,
              "ticks": ""
             }
            },
            "type": "scattercarpet"
           }
          ],
          "scattergeo": [
           {
            "marker": {
             "colorbar": {
              "outlinewidth": 0,
              "ticks": ""
             }
            },
            "type": "scattergeo"
           }
          ],
          "scattergl": [
           {
            "marker": {
             "colorbar": {
              "outlinewidth": 0,
              "ticks": ""
             }
            },
            "type": "scattergl"
           }
          ],
          "scattermapbox": [
           {
            "marker": {
             "colorbar": {
              "outlinewidth": 0,
              "ticks": ""
             }
            },
            "type": "scattermapbox"
           }
          ],
          "scatterpolar": [
           {
            "marker": {
             "colorbar": {
              "outlinewidth": 0,
              "ticks": ""
             }
            },
            "type": "scatterpolar"
           }
          ],
          "scatterpolargl": [
           {
            "marker": {
             "colorbar": {
              "outlinewidth": 0,
              "ticks": ""
             }
            },
            "type": "scatterpolargl"
           }
          ],
          "scatterternary": [
           {
            "marker": {
             "colorbar": {
              "outlinewidth": 0,
              "ticks": ""
             }
            },
            "type": "scatterternary"
           }
          ],
          "surface": [
           {
            "colorbar": {
             "outlinewidth": 0,
             "ticks": ""
            },
            "colorscale": [
             [
              0,
              "#0d0887"
             ],
             [
              0.1111111111111111,
              "#46039f"
             ],
             [
              0.2222222222222222,
              "#7201a8"
             ],
             [
              0.3333333333333333,
              "#9c179e"
             ],
             [
              0.4444444444444444,
              "#bd3786"
             ],
             [
              0.5555555555555556,
              "#d8576b"
             ],
             [
              0.6666666666666666,
              "#ed7953"
             ],
             [
              0.7777777777777778,
              "#fb9f3a"
             ],
             [
              0.8888888888888888,
              "#fdca26"
             ],
             [
              1,
              "#f0f921"
             ]
            ],
            "type": "surface"
           }
          ],
          "table": [
           {
            "cells": {
             "fill": {
              "color": "#EBF0F8"
             },
             "line": {
              "color": "white"
             }
            },
            "header": {
             "fill": {
              "color": "#C8D4E3"
             },
             "line": {
              "color": "white"
             }
            },
            "type": "table"
           }
          ]
         },
         "layout": {
          "annotationdefaults": {
           "arrowcolor": "#2a3f5f",
           "arrowhead": 0,
           "arrowwidth": 1
          },
          "coloraxis": {
           "colorbar": {
            "outlinewidth": 0,
            "ticks": ""
           }
          },
          "colorscale": {
           "diverging": [
            [
             0,
             "#8e0152"
            ],
            [
             0.1,
             "#c51b7d"
            ],
            [
             0.2,
             "#de77ae"
            ],
            [
             0.3,
             "#f1b6da"
            ],
            [
             0.4,
             "#fde0ef"
            ],
            [
             0.5,
             "#f7f7f7"
            ],
            [
             0.6,
             "#e6f5d0"
            ],
            [
             0.7,
             "#b8e186"
            ],
            [
             0.8,
             "#7fbc41"
            ],
            [
             0.9,
             "#4d9221"
            ],
            [
             1,
             "#276419"
            ]
           ],
           "sequential": [
            [
             0,
             "#0d0887"
            ],
            [
             0.1111111111111111,
             "#46039f"
            ],
            [
             0.2222222222222222,
             "#7201a8"
            ],
            [
             0.3333333333333333,
             "#9c179e"
            ],
            [
             0.4444444444444444,
             "#bd3786"
            ],
            [
             0.5555555555555556,
             "#d8576b"
            ],
            [
             0.6666666666666666,
             "#ed7953"
            ],
            [
             0.7777777777777778,
             "#fb9f3a"
            ],
            [
             0.8888888888888888,
             "#fdca26"
            ],
            [
             1,
             "#f0f921"
            ]
           ],
           "sequentialminus": [
            [
             0,
             "#0d0887"
            ],
            [
             0.1111111111111111,
             "#46039f"
            ],
            [
             0.2222222222222222,
             "#7201a8"
            ],
            [
             0.3333333333333333,
             "#9c179e"
            ],
            [
             0.4444444444444444,
             "#bd3786"
            ],
            [
             0.5555555555555556,
             "#d8576b"
            ],
            [
             0.6666666666666666,
             "#ed7953"
            ],
            [
             0.7777777777777778,
             "#fb9f3a"
            ],
            [
             0.8888888888888888,
             "#fdca26"
            ],
            [
             1,
             "#f0f921"
            ]
           ]
          },
          "colorway": [
           "#636efa",
           "#EF553B",
           "#00cc96",
           "#ab63fa",
           "#FFA15A",
           "#19d3f3",
           "#FF6692",
           "#B6E880",
           "#FF97FF",
           "#FECB52"
          ],
          "font": {
           "color": "#2a3f5f"
          },
          "geo": {
           "bgcolor": "white",
           "lakecolor": "white",
           "landcolor": "#E5ECF6",
           "showlakes": true,
           "showland": true,
           "subunitcolor": "white"
          },
          "hoverlabel": {
           "align": "left"
          },
          "hovermode": "closest",
          "mapbox": {
           "style": "light"
          },
          "paper_bgcolor": "white",
          "plot_bgcolor": "#E5ECF6",
          "polar": {
           "angularaxis": {
            "gridcolor": "white",
            "linecolor": "white",
            "ticks": ""
           },
           "bgcolor": "#E5ECF6",
           "radialaxis": {
            "gridcolor": "white",
            "linecolor": "white",
            "ticks": ""
           }
          },
          "scene": {
           "xaxis": {
            "backgroundcolor": "#E5ECF6",
            "gridcolor": "white",
            "gridwidth": 2,
            "linecolor": "white",
            "showbackground": true,
            "ticks": "",
            "zerolinecolor": "white"
           },
           "yaxis": {
            "backgroundcolor": "#E5ECF6",
            "gridcolor": "white",
            "gridwidth": 2,
            "linecolor": "white",
            "showbackground": true,
            "ticks": "",
            "zerolinecolor": "white"
           },
           "zaxis": {
            "backgroundcolor": "#E5ECF6",
            "gridcolor": "white",
            "gridwidth": 2,
            "linecolor": "white",
            "showbackground": true,
            "ticks": "",
            "zerolinecolor": "white"
           }
          },
          "shapedefaults": {
           "line": {
            "color": "#2a3f5f"
           }
          },
          "ternary": {
           "aaxis": {
            "gridcolor": "white",
            "linecolor": "white",
            "ticks": ""
           },
           "baxis": {
            "gridcolor": "white",
            "linecolor": "white",
            "ticks": ""
           },
           "bgcolor": "#E5ECF6",
           "caxis": {
            "gridcolor": "white",
            "linecolor": "white",
            "ticks": ""
           }
          },
          "title": {
           "x": 0.05
          },
          "xaxis": {
           "automargin": true,
           "gridcolor": "white",
           "linecolor": "white",
           "ticks": "",
           "title": {
            "standoff": 15
           },
           "zerolinecolor": "white",
           "zerolinewidth": 2
          },
          "yaxis": {
           "automargin": true,
           "gridcolor": "white",
           "linecolor": "white",
           "ticks": "",
           "title": {
            "standoff": 15
           },
           "zerolinecolor": "white",
           "zerolinewidth": 2
          }
         }
        },
        "title": {
         "text": "2D Cluster PCA Plot"
        },
        "xaxis": {
         "anchor": "y",
         "domain": [
          0,
          1
         ],
         "title": {
          "text": "PCA1"
         }
        },
        "yaxis": {
         "anchor": "x",
         "domain": [
          0,
          1
         ],
         "title": {
          "text": "PCA2"
         }
        }
       }
      },
      "text/html": [
       "<div>\n",
       "        \n",
       "        \n",
       "            <div id=\"22772e04-2ae1-4e3b-bce9-789a7af362c6\" class=\"plotly-graph-div\" style=\"height:600px; width:100%;\"></div>\n",
       "            <script type=\"text/javascript\">\n",
       "                require([\"plotly\"], function(Plotly) {\n",
       "                    window.PLOTLYENV=window.PLOTLYENV || {};\n",
       "                    \n",
       "                if (document.getElementById(\"22772e04-2ae1-4e3b-bce9-789a7af362c6\")) {\n",
       "                    Plotly.newPlot(\n",
       "                        '22772e04-2ae1-4e3b-bce9-789a7af362c6',\n",
       "                        [{\"customdata\": [[58], [59], [62], [59], [87], [29], [54], [87], [83], [84], [85], [36], [30], [31], [61], [92], [55], [87], [82], [88], [30], [84], [53], [91], [89], [30], [17], [55], [90], [61], [59], [59], [88], [56], [33], [61], [84], [61], [39], [31], [60], [87], [20], [57], [61], [18], [83], [25], [31], [55], [84], [36], [27], [91], [53], [91], [25], [83], [87], [90], [83], [83], [83], [61], [64], [62], [91], [28], [23], [55], [58], [31], [83], [91], [30], [57], [33], [59], [58], [29], [59], [84], [64], [87], [88], [35], [34], [58], [56], [63], [58], [60], [24], [94], [58], [25], [36], [62], [66], [37], [27], [24], [31], [23], [34], [88], [89], [32], [38], [57], [90], [33], [66], [35], [31], [35], [63], [30], [22], [84], [28], [88], [84], [88], [35], [82], [64], [91], [62], [62], [34], [60], [32], [65], [24], [88], [82], [26], [60], [31], [85], [63], [56], [28], [58], [26], [62]], \"hoverlabel\": {\"namelength\": 0}, \"hovertemplate\": \"Cluster=Cluster 0<br>PCA1=%{x}<br>PCA2=%{y}<br>Feature=%{customdata[0]}\", \"legendgroup\": \"Cluster=Cluster 0\", \"marker\": {\"color\": \"#636efa\", \"opacity\": 0.5, \"symbol\": \"circle\"}, \"mode\": \"markers\", \"name\": \"Cluster=Cluster 0\", \"showlegend\": true, \"textposition\": \"top center\", \"type\": \"scatter\", \"x\": [-45316.581406095545, -49427.52413702611, -47129.844163420596, -47975.62989430368, -41047.37636685029, -57176.86780610602, -42194.798734952405, -47211.30921897938, -55300.438356116465, -39708.64698966346, -37510.58801132116, -43231.47790879878, -55368.9842756801, -48469.75822555576, -51191.18311026794, -46897.28720484183, -36822.88272990106, -42594.243001932955, -48754.55322293143, -49610.67501015969, -28705.2128267698, -47927.75615335323, -45592.662714596445, -50446.68725850557, -42805.17469366227, -40907.25147798807, -51240.79467490207, -42382.69883203619, -46294.69652581508, -49640.5163339359, -33685.82303783499, -41654.28537091671, -46752.17189114907, -53680.7205852779, -60035.355735186306, -47339.94733410824, -59885.18345080086, -41090.43271162364, -51335.696362198025, -43219.570630797956, -45489.12002421861, -47271.4132762421, -54957.49098917233, -44945.69901444299, -40724.15688509663, -47490.05337363705, -58306.89374121131, -44680.89350931923, -51006.62596717176, -49952.56386424754, -50055.78756429354, -50029.048673484416, -48459.57885316464, -42253.87287795822, -43012.76978349139, -58127.50387027, -45508.35388587765, -50504.823142737696, -48762.36466827118, -37730.76934060818, -28723.991919565997, -46206.76070917286, -44821.27195537091, -56178.67327005175, -49206.072979236196, -54413.15855352473, -45504.92821664384, -53514.36608306822, -43811.47262039386, -63634.72200273954, -39063.28667619089, -63656.347589980105, -53329.0889086379, -56491.72616160142, -53484.99044797619, -57750.75774612387, -42432.64509966226, -48329.37521986342, -47000.171708792885, -48496.84792497304, -53103.84791289729, -46522.91941975115, -39882.023331383025, -46108.564418073096, -45148.0621460879, -57495.82751822279, -48890.162042831646, -48254.00622992488, -56854.24491468409, -41272.89533986178, -55116.83601816836, -58771.33010043616, -51459.51350546342, -56820.08755360424, -42172.09142372813, -39916.59061152689, -48448.189821393375, -49274.44239615929, -46888.40589877375, -47148.04950665259, -51304.420791210185, -49855.36023906115, -49083.98904448346, -52219.78891026321, -53905.330808706654, -45889.16124528393, -39730.75492373197, -44207.36919669003, -42334.04767150633, -49618.564251583884, -42152.502819378744, -39255.47386551346, -52957.616291780956, -48338.7046626193, -56895.336026094636, -41183.65207165711, -47591.22511121999, -52877.38164603334, -38257.012522678684, -45243.33599570979, -38870.672641380326, -55003.11473536292, -51590.97205811302, -51858.952852259725, -48031.60033869833, -53120.54070874579, -52745.27199507382, -57888.986937986156, -44891.726940178145, -33223.78792758689, -46621.675189920854, -57945.29400939377, -52350.13688160766, -44316.39097613651, -42485.198930508355, -41229.085326467895, -55837.896212559055, -57516.27318363642, -42546.30928703382, -47366.64939309711, -40392.52353813575, -48086.471615067814, -52508.30353343573, -45053.50115134015, -48867.33422412473, -40276.44813108954, -47072.83270827878], \"xaxis\": \"x\", \"y\": [72.34189620856402, -3282.4967836895134, -2166.945526513025, -2697.480649636871, 163.0086019424052, -500.3822260290372, -2831.244972649776, -497.0287321468162, -2379.4453929525353, -2812.640832274527, -2385.9306735999717, -2464.3665067293473, -990.6075970316542, -975.0110199269376, -2999.0481368530054, -1500.599753550347, -3004.135925035731, -4573.13594967613, -3476.757532941406, -2494.346015854769, -2125.516573296833, 1139.0677249894056, -1858.7415428672748, -1789.8310613735061, -2383.923586492434, -2247.7230980697595, -337.58311029945986, -1026.2178281219426, -3445.1407626668756, -2403.452656500527, -2359.981060852437, -1284.276335232602, -4260.667936777422, -1523.153182779476, -2067.7852022028583, -2756.2104567652154, 968.182184170174, -2507.468037848858, -2253.3249547903138, -982.6374045457443, -857.2365574199126, -1422.2632521531468, -1273.0340909671545, -2663.436303414359, -3403.3549980948774, -1025.6556377131594, -1498.3070625904006, -3320.238109106742, 1229.6342021037979, -1016.3628176053369, -458.73293797347014, -2907.7981801354913, -623.0248233972363, -2813.4088657561015, -2388.397515567186, -3329.4241557503897, -1716.0957515179953, -2541.1040744024217, -1902.3037525718125, -3447.5228656993513, -1283.2493416842203, -3972.4372911141954, -809.2478504066152, -1450.731868886663, 646.5438723752023, -1055.9968931753701, -1656.425055816306, -3511.650542757559, -3844.0506429942834, -958.536564511077, -2178.951260878267, -672.1303645871003, -3704.1152030668827, -1529.9495201383838, -2964.871161538943, -1546.7860227984663, -2804.317598781817, -2106.9565485318567, -3258.5927312494296, -1255.02312171752, -1838.6646455566602, -2395.150620327911, -3145.83881166963, -4704.9007181400775, -918.4435413744582, -874.5938320396249, -3117.043572435123, -3586.392912339362, -1039.8869670204504, -2039.051945091478, -3386.6313874278353, -1946.4256348815338, -1443.6312210611673, -2626.494760123042, -3482.9509244203136, -5860.406970913428, -424.4944516024714, -1819.1411133435672, -1747.2845158743755, -948.1700320034148, -1341.6421504993382, -2551.6409458673006, -2706.954245859541, -361.82287722906165, 776.7213551828788, -3656.8600405231196, -3215.3117531036187, -1788.5950192551393, -946.4427010468277, -1200.4987085747016, -3595.4264994551536, -2456.0624695072056, -512.168161665237, -296.9479102201375, -219.8356734403215, -2299.1775764582517, -2876.0168218541617, -1034.046286118069, -3209.705699855121, -2386.7446703879696, -4966.632983631629, -1806.371634963476, -1709.680992265404, -1998.3145148841263, -2520.8796709258977, -2373.906852113616, -3270.250012030125, -2297.410428456015, -1059.5099705589168, -4327.599800404025, -1061.3928297006285, -1690.223524424541, -1271.836696800183, -1681.107809398616, -1573.1293339464698, -559.8887343311571, -2913.151326193393, -2662.237917413058, -2323.9550250667426, -2226.5238835946834, -1918.0706539765356, -3267.664533478743, -2003.3795586148938, -3267.8530880659673, -3330.095089314261, -3159.4030652887373, -3652.1430220775037], \"yaxis\": \"y\"}, {\"customdata\": [[86], [56], [91], [59], [28], [85], [65], [94], [86], [30], [62], [85], [59], [30], [83], [66], [31], [88], [28], [85], [64], [33], [62], [89], [61], [29], [56], [92], [62], [60], [85], [88], [94], [62], [64], [29], [27], [31], [87], [32], [63], [58], [62], [32], [93], [59], [61], [53], [82], [28], [32], [89], [84], [87], [29], [58], [29], [55], [25], [60], [88], [24], [56], [95], [89], [86], [85], [60], [87], [29], [23], [31], [89], [58], [56], [37], [89], [29], [23], [34], [64], [63], [85], [62], [59], [92], [67], [58], [58], [38], [57], [31], [36], [25], [66], [64], [59], [90], [68], [35], [84], [24], [29], [28], [81], [57], [37], [91], [82], [36], [31], [61], [64], [83], [63], [55], [86], [57], [94], [37], [26], [57], [37], [88], [61], [91], [84], [43], [59], [90]], \"hoverlabel\": {\"namelength\": 0}, \"hovertemplate\": \"Cluster=Cluster 1<br>PCA1=%{x}<br>PCA2=%{y}<br>Feature=%{customdata[0]}\", \"legendgroup\": \"Cluster=Cluster 1\", \"marker\": {\"color\": \"#EF553B\", \"opacity\": 0.5, \"symbol\": \"circle\"}, \"mode\": \"markers\", \"name\": \"Cluster=Cluster 1\", \"showlegend\": true, \"textposition\": \"top center\", \"type\": \"scatter\", \"x\": [30806.776341952773, 24706.12835284514, 25328.069962281665, 25363.91922672041, 37194.90227907418, 26228.37628643618, 37939.71700891233, 31960.754514207252, 26983.046364278183, 20592.346613007758, 35036.7158554872, 18943.372817813015, 34834.90179465999, 35572.71538685354, 25732.344972190553, 32561.02536006329, 23470.84703332801, 31361.08526779913, 31045.220255678778, 27758.387575808203, 35758.275435536685, 39135.37622313005, 30949.63690199793, 32572.750272366186, 23967.006087975613, 35579.20581580633, 22393.41773018012, 31911.001239366324, 40673.85964432744, 26298.14841024671, 38869.649452671685, 32797.643669354926, 21900.785300032752, 38847.16976776082, 32210.979768642395, 22224.556143435268, 19295.26768680955, 25474.40276379727, 24613.751980326102, 21973.30795044381, 41298.631292835045, 30584.124615113244, 32416.939873895542, 23032.680124651262, 24491.38889864472, 37228.73474520067, 29861.546669621443, 33379.42058468908, 32912.89206331583, 22350.769816321557, 39513.273555432424, 25938.050496756237, 25376.693266073147, 14006.00096536539, 22105.03459107825, 30046.489080926043, 30148.68267391608, 15764.491431415825, 32307.93672914094, 24294.80847834632, 31253.46853044941, 32289.54020716664, 34830.86603735357, 31016.95277066786, 34815.254920538035, 31614.442565419085, 23196.21330643822, 36008.725359122305, 33345.15627123117, 23858.598240023413, 22258.60866856989, 23748.67781545404, 34360.48180735057, 32345.708428700582, 32149.92129268287, 27456.913266673102, 32322.908553122466, 38938.11813871434, 31317.298064553695, 30614.165778553546, 39941.23737509612, 20486.140695945443, 24819.360949497728, 31330.343984524763, 28912.89513619993, 28960.634964946756, 36813.76713420394, 33203.84256888801, 28627.25985640029, 26343.678673902457, 32691.869561685708, 26507.042872359896, 29210.55694643968, 36260.39985707386, 38543.62512292871, 28639.385002450494, 31502.36034296821, 26312.372968927517, 22236.16947437227, 33217.92661094809, 16918.67620110012, 26023.56635140614, 39399.40138181148, 34753.148485730795, 23022.218263126633, 40419.57669510414, 19785.994393274665, 30836.978307627433, 23392.942046850578, 25765.79004232835, 30950.10183968237, 15177.319714667676, 30155.334159636965, 30268.70548126328, 27412.69140542122, 19017.16946491749, 32853.062283695246, 35023.216270800265, 31202.41268247606, 26003.522431925605, 28681.54988758575, 35187.91053468464, 24827.978780545967, 40849.480597690614, 26071.98118135924, 29240.50974864809, 34060.87750047382, 26578.15319626618, 35711.07999432944, 23896.36880790408], \"xaxis\": \"x\", \"y\": [-5560.2046796, -6304.286871577941, -4507.818852759071, -6518.877743618621, -4030.4860762357503, -4266.484164687801, -4683.44028185975, -7950.137679904536, -2897.4181107781205, -4611.587648361573, -6415.699536226249, -6099.9265116751585, -5079.540930731746, -4807.665202226774, -4846.280009746119, -5658.529147335396, -4720.2489254083885, -4837.589604607751, -4354.880673536974, -3524.6018820414943, -4122.472097486012, -4339.707016425756, -4397.197322284793, -6711.005814772026, -5918.696393593377, -6195.256515402727, -5150.746928288214, -2672.9112969661537, -5771.827716588528, -5023.038755192274, -4117.836047019013, -5654.54684838932, -5234.914435436244, -8209.639308093872, -5806.3623666588965, -5737.01421639917, -3266.6501002799137, -4541.161711915865, -3288.464289351834, -5227.972306159949, -6422.065006311351, -5198.65174378372, -3316.8737845198516, -5461.1790445209535, -3378.544090547869, -4575.537648425251, -4210.491742797324, -4139.05304404694, -4588.664684244311, -5405.192380070511, -4805.68252052094, -4054.252841897084, -3922.329207394543, -1775.6050399833534, -4346.187741550608, -2733.109485171265, -3727.641222685246, -2149.152212076625, -3401.0815217687777, -3156.174867738151, -4792.820172444663, -3634.3413606407394, -5377.229021116214, -4865.00440731728, -5108.281670571712, -3948.4131537015073, -5613.7149464738695, -6111.705171395258, -6080.299826048201, -4857.997302514553, -5195.925409188555, -4085.3878885407785, -5038.8164407421755, -2201.7204362153557, -5508.945169399095, -4868.312164441829, -3681.290385681803, -4443.1698152763865, -6141.763263553495, -4762.4349126193365, -5237.495032301003, -4804.2037003568, -6443.116567478199, -5635.163544619185, -5224.5544356708415, -5439.902381792006, -4615.462129870629, -6552.893169384942, -3324.8164217780154, -3863.0068749343077, -6066.457122934574, -5484.674656121097, -6286.356908964104, -3890.3447962612563, -7198.063753004436, -3130.950539346104, -5081.205331963822, -4286.405360287334, -4400.042331000773, -4387.404636496326, -2877.194607876878, -7172.334785619933, -5202.090344164468, -4008.589012753901, -4439.122859420631, -6642.233640263946, -4699.391527469764, -4248.4109987799275, -5117.926369906291, -4647.515091833699, -6274.3994076764575, 4253.670268811264, -6491.845916302062, -4917.675594824386, -5970.659605817779, -4587.0566004039965, -5910.595724540103, -4416.577273256116, -4006.880782404123, -3786.1336424715287, -4194.11245457707, -4164.858385743973, -5088.608312301611, -5591.430862352507, -4687.764619495448, -5240.709879901141, -5075.678351149004, -4542.181472406769, -4543.481105344734, -4653.5725508840405], \"yaxis\": \"y\"}, {\"customdata\": [[88], [59], [59], [88], [37], [33], [90], [31], [90], [91], [29], [83], [84], [87], [22], [58], [31], [33], [56], [30], [85], [87], [34], [61], [30], [88], [56], [30], [25], [61], [88], [37], [35], [85], [85], [88], [59], [90], [33], [62], [59], [91], [33], [87], [26], [88], [24], [91], [86], [36], [87], [33], [59], [29], [59], [57], [40], [42], [89], [93], [17], [24], [34], [90], [20], [92], [84], [59], [61], [67], [82], [94], [28], [36], [91], [34], [77], [63], [35], [21], [86], [56], [83], [28], [59], [83], [83], [58], [91], [29], [61], [84], [34], [33], [55], [88], [91], [91], [84], [87], [39], [38], [89], [59], [35], [59], [87], [94], [86], [60], [79], [86], [60], [85], [92], [37], [89], [67], [31], [20], [37], [57], [87], [33], [56], [67], [58], [89], [34], [25], [44], [68], [31], [58], [55], [21], [36], [88], [26], [29], [38], [79], [51], [82], [39], [87], [36], [57], [61], [86], [86], [35], [89], [30], [60], [64]], \"hoverlabel\": {\"namelength\": 0}, \"hovertemplate\": \"Cluster=Cluster 2<br>PCA1=%{x}<br>PCA2=%{y}<br>Feature=%{customdata[0]}\", \"legendgroup\": \"Cluster=Cluster 2\", \"marker\": {\"color\": \"#00cc96\", \"opacity\": 0.5, \"symbol\": \"circle\"}, \"mode\": \"markers\", \"name\": \"Cluster=Cluster 2\", \"showlegend\": true, \"textposition\": \"top center\", \"type\": \"scatter\", \"x\": [-7981.746810683438, -10371.487057071716, -2220.63545061007, 3607.6218475354435, -805.5182840466978, -811.2733012583034, -3147.9716901024026, -12402.614006035734, 5619.125538763624, 2868.6753358918063, 7034.566991846874, -1709.0067116984444, -3127.7464754071916, 4615.6045897838885, 4968.7646458745685, -6214.354917756373, 5679.935032255555, -4794.730185972457, -9823.292971418654, -5787.584457334295, 1547.912439559419, -7431.169946592949, -11770.09622190469, -3197.770674931709, -1424.2968527852504, -5149.414552966312, -4588.8456828873295, -9176.939917160444, 1855.0479869186859, 7017.407229806945, 5122.282562298912, -967.1345292294824, -10419.650727093273, -4883.720561797821, 3333.0370081988813, -7827.504392605745, -6270.130057704634, -4114.665812502668, -7225.65665149656, -4661.643199436444, -6586.375015596342, -7793.211508914162, -6075.7239459118755, 3574.8676282851347, -1755.3663563989974, -1864.5940590614434, -9270.98324611397, 2555.78423516021, -5898.744479681151, -5327.512619806886, -1710.0091006297753, -2630.7941352081816, 1381.2925438038897, -10238.837928743029, -2329.616759752768, -3536.6248996188683, -11570.013629472287, -12594.17524212853, -3881.279223544836, -9447.566957019657, -4595.725467462927, 5567.478117111804, 9121.20832982617, 4848.442764387976, 499.4966180961289, -4176.72263170431, -6529.597912750259, -7423.928769536232, -9153.992100917838, 4864.683651412996, -7249.028129796932, 7325.2561894926885, 1198.215527285726, -6945.490220855901, -5628.983771409211, -6874.447300583789, 3175.7301008876757, -10072.87511880353, -5806.07705261182, -6051.798027149638, 11039.026942031705, -4972.9221411299695, 11129.4241492296, 6644.597612798225, -611.8920766835475, -879.6961231840224, 1270.5926186365048, -3354.409395492056, -3652.051627219523, 1535.3200349238593, 3442.0678654010358, 1691.146999005498, -9514.742122293768, -5495.930030665687, -11393.264281389042, -1006.7942808926961, -11385.807297750884, 10499.407295945575, -5228.773548143099, -2009.7086141751745, -847.3002227743448, -13124.391604038407, -6112.701966838937, -14757.626854505606, -5414.451723823097, -4197.995995572509, -907.6690876091207, 4241.77589515304, -2601.869628345949, 1797.869284620748, -860.435447795388, 13091.374153516681, -4333.353171495316, 106.44730782999513, -5414.849621380295, -1148.5927138363184, 834.6063416853508, -182.8750970629007, -12401.012614422627, 384.48865377878377, -15876.014194933861, 2392.9514000132294, -4856.160277619086, -9604.976101231397, -3578.6411667637326, 3594.0424216908305, -5713.304475031718, -7793.454352086526, -18832.32308999509, 277.3194547180323, 2456.1149429108837, 3385.8220491313155, -1867.5011952055188, -4025.534586861495, -5506.504775277299, 1380.9095854822526, -1254.796105082281, 1223.3332842063553, -10817.514881421732, 375.6120252474093, -18377.080919160886, -7740.904879089724, -9600.009525716894, -284.934616131756, -15159.901916245672, -4335.121223668252, -3902.650760127406, -9955.599000501968, 8122.080380415534, 5073.487356522336, 871.0561448640358, 3735.2223001205366, -8175.94478384165, -7927.279393999564, -3222.02849711765, 2663.814142724256], \"xaxis\": \"x\", \"y\": [3467.5659749114184, 6211.2744884591975, 4177.140129281849, 4852.444518767337, 4348.095679784136, 4771.515153180692, 5506.99662291386, 4277.420432790428, 4314.803908984968, 5223.642330390356, 3374.287134293426, 3684.6952959403584, 5318.281993622224, 5713.442041909502, 3943.117073633911, 8154.200533863804, 4711.285967238691, 5174.470545977292, 6862.247572080604, 5711.6283932669685, 3973.906997486512, 6342.036901878027, 5001.42078319685, 5127.949261280453, 7267.328542397003, 5556.6661391338175, 4468.268102563841, 7146.662858252778, 5468.743274286695, 5588.800602998203, 3424.0736039052877, 4638.724240674151, 5982.858221439129, 4688.370746949258, 4012.2154933423158, 5701.697575023511, 5401.821696967168, 3078.8964384945916, 4564.6176218553155, 4875.41203439204, 4795.659622307597, 6334.243251982048, 3500.5964543132527, 6638.189488143045, 4273.205301847635, 5267.352553209774, 5996.549152653392, 5164.690387393574, 5205.840154213878, 5507.674538617931, 5692.091704359399, 5512.809888472099, 5207.221097509009, 7423.315368546435, 6502.20788277559, 5070.4130984363255, 6393.584927460235, 5058.593507665866, 3532.750801645636, 6026.37013772877, 4575.315245883314, 6399.679457928577, 4076.1888638584983, 6716.389270082327, 4450.5724650858, 5121.94817799102, 5174.060016070749, 5595.425208078426, 6237.455006749796, 4834.953991865887, 5030.1015099048445, 5245.750156657963, 6031.597780098118, 5240.2836976266035, 3413.4609900340333, 3266.4701832643786, 4727.079813055347, 7033.83230622547, 5686.132349951807, 6221.683453940019, 4384.687289531571, 5053.974394482307, 2451.395645635492, 6074.108821940037, 2642.8564628733093, 4574.029852480231, 4918.861099714735, 4039.0497082186084, 4298.147934215797, 6617.143404468855, 3293.925709825785, 4305.605513370139, 5484.062210130749, 5033.927181148622, 4760.726683836119, 6827.736752280867, 5239.83448625213, 4092.586810582495, 4906.8213691170085, 4571.311601888514, 5435.293808150464, 5122.298575466132, 7150.265686204207, 5008.012103778606, 6401.496850378555, 4646.423038232094, 4662.571801362161, 4854.373611538007, 5720.063910631847, 3616.906622264862, 1366.2175061913904, 3878.0740056043537, 6791.121727987131, 5019.5450718658585, 4509.378948047729, 6154.518606181513, 5141.10136743259, 4411.324353776285, 6731.62237122814, 6845.141814371278, 7337.462584330765, 5992.684094109705, 6861.841710581506, 5517.45699879979, 4687.331305792244, 5244.223767536203, 6098.407171499207, 5788.853893383746, 6823.253328040564, 5152.077722121314, 5539.978254276127, 4513.159427781256, 2685.662685436795, 5644.552199614268, 6298.430178867733, 5567.112673818731, 6380.915494292793, 5666.367954752699, 6677.482101590936, 5049.606296947775, 5086.374324713102, 5133.639471687388, 4923.281603355221, 4064.008336080809, 5573.243592768726, 2658.2975188904134, 5499.339332721765, 4085.3122504461194, 4731.012058760928, 5244.4368093489165, 5689.00045309191, 4370.467828822718, 5599.274828311294, 5673.527728610803, 4129.181189416356, 3399.1203547303217], \"yaxis\": \"y\"}, {\"customdata\": [[37], [65], [90], [59], [29], [58], [88], [63], [92], [17], [34], [22], [24], [36], [34], [87], [85], [61], [27], [59], [31], [31], [93], [17], [35], [28], [94], [28], [33], [56], [28], [86], [92], [18], [61], [32], [63], [58], [31], [62], [60], [62], [90], [33], [33], [65], [59], [65], [86], [32], [84], [84], [90], [91], [26], [92], [97], [84], [58], [61], [92], [87], [66], [22], [91], [30], [25], [28], [93], [90], [91], [89]], \"hoverlabel\": {\"namelength\": 0}, \"hovertemplate\": \"Cluster=Cluster 3<br>PCA1=%{x}<br>PCA2=%{y}<br>Feature=%{customdata[0]}\", \"legendgroup\": \"Cluster=Cluster 3\", \"marker\": {\"color\": \"#ab63fa\", \"opacity\": 0.5, \"symbol\": \"circle\"}, \"mode\": \"markers\", \"name\": \"Cluster=Cluster 3\", \"showlegend\": true, \"textposition\": \"top center\", \"type\": \"scatter\", \"x\": [48551.89779119263, 42414.13984409395, 46271.7499906681, 48029.2359829609, 62912.457097805665, 43629.01273923756, 55587.351730733564, 56651.455483747464, 41328.25266330998, 43861.747091025514, 53899.23405997957, 44952.90203538896, 47549.76254622706, 47842.883679066494, 59798.1748284997, 47182.06858155582, 51395.2243559995, 57857.2890569223, 47415.389162405314, 58984.55027496726, 48410.00929047232, 55168.45154506188, 59803.045579193, 53976.79000263129, 56449.6781382814, 46993.6410879084, 53422.552485701235, 41580.27174463823, 47836.44839182684, 48602.571111840196, 52465.03358665989, 52263.49410874446, 50433.85138453335, 51532.47005840451, 46000.80248469954, 63317.066532442914, 52086.380658927206, 50397.08389773133, 43600.216180309755, 54542.56026091127, 52679.13742245062, 54778.91990969144, 45728.4011443441, 59239.85352839813, 41859.15436997562, 48281.964764021905, 54230.31142047659, 49923.2324025863, 48577.24594456371, 45920.303846007606, 45302.570904167434, 55809.60825993979, 43084.43130106839, 48697.32854440995, 50874.593733151865, 44074.74432267948, 47210.611284129605, 52844.21454083214, 47518.88131856791, 53924.59703955876, 42157.805428701, 66750.62108457653, 45280.29645748761, 61617.25602185721, 61085.161815426894, 41933.87634909209, 55783.42885801489, 42045.79570257141, 55795.99791496394, 45049.713037748465, 59196.59308633909, 47964.55226138694], \"xaxis\": \"x\", \"y\": [4668.214697412171, -5432.281819509644, 4207.414796612183, 5422.323757682562, 5261.355213266388, -6254.840941209125, 3427.1351952588107, 4271.292185091136, -4823.645899335596, -6877.035883382066, 3176.7468854090907, -4985.514801220397, 3437.8964823947795, 4758.188729714914, 4315.751792559066, -4557.716601791876, 5657.241494980816, 5717.501137167641, 4709.388807631826, 3350.7116179336454, -5693.665441157447, 4016.9816222016148, 8450.30756249261, 5488.389984582105, 5101.398697367521, -4647.129088588652, 3894.2354791277485, -5615.560772408639, 6059.9833233745485, 6249.537360930081, 3371.5330650130977, 5916.358054129829, -6854.206134077956, 6006.73383366253, 3884.452851319084, 4946.1775101205085, 3388.4270346813732, 2890.5509685647044, -5657.478831520006, 4193.882999372307, -4749.057025715366, 4629.791365281096, 3658.306501252221, 4745.144589124807, -4543.3262670671975, 8499.966944599806, 3238.428770323685, 6048.724079227706, -6305.307759672731, -4953.921129423361, 3778.181421309607, 3879.1497332626573, -4660.855622444508, 5282.497809754306, -5178.052813440073, -6307.669140625976, 6674.234677495916, -5677.667475551912, 4941.999362973271, 5765.842845736465, -5954.454601851145, 2693.008186621752, 4437.35656616774, 6726.313750520614, 4243.721728508765, 4717.997205237607, 4732.087714707707, -3106.10347586836, 4252.897540706996, 4590.8725834561055, 3903.9749268153687, -4397.186114919679], \"yaxis\": \"y\"}],\n",
       "                        {\"height\": 600, \"legend\": {\"tracegroupgap\": 0}, \"margin\": {\"t\": 60}, \"plot_bgcolor\": \"rgb(240,240,240)\", \"template\": {\"data\": {\"bar\": [{\"error_x\": {\"color\": \"#2a3f5f\"}, \"error_y\": {\"color\": \"#2a3f5f\"}, \"marker\": {\"line\": {\"color\": \"#E5ECF6\", \"width\": 0.5}}, \"type\": \"bar\"}], \"barpolar\": [{\"marker\": {\"line\": {\"color\": \"#E5ECF6\", \"width\": 0.5}}, \"type\": \"barpolar\"}], \"carpet\": [{\"aaxis\": {\"endlinecolor\": \"#2a3f5f\", \"gridcolor\": \"white\", \"linecolor\": \"white\", \"minorgridcolor\": \"white\", \"startlinecolor\": \"#2a3f5f\"}, \"baxis\": {\"endlinecolor\": \"#2a3f5f\", \"gridcolor\": \"white\", \"linecolor\": \"white\", \"minorgridcolor\": \"white\", \"startlinecolor\": \"#2a3f5f\"}, \"type\": \"carpet\"}], \"choropleth\": [{\"colorbar\": {\"outlinewidth\": 0, \"ticks\": \"\"}, \"type\": \"choropleth\"}], \"contour\": [{\"colorbar\": {\"outlinewidth\": 0, \"ticks\": \"\"}, \"colorscale\": [[0.0, \"#0d0887\"], [0.1111111111111111, \"#46039f\"], [0.2222222222222222, \"#7201a8\"], [0.3333333333333333, \"#9c179e\"], [0.4444444444444444, \"#bd3786\"], [0.5555555555555556, \"#d8576b\"], [0.6666666666666666, \"#ed7953\"], [0.7777777777777778, \"#fb9f3a\"], [0.8888888888888888, \"#fdca26\"], [1.0, \"#f0f921\"]], \"type\": \"contour\"}], \"contourcarpet\": [{\"colorbar\": {\"outlinewidth\": 0, \"ticks\": \"\"}, \"type\": \"contourcarpet\"}], \"heatmap\": [{\"colorbar\": {\"outlinewidth\": 0, \"ticks\": \"\"}, \"colorscale\": [[0.0, \"#0d0887\"], [0.1111111111111111, \"#46039f\"], [0.2222222222222222, \"#7201a8\"], [0.3333333333333333, \"#9c179e\"], [0.4444444444444444, \"#bd3786\"], [0.5555555555555556, \"#d8576b\"], [0.6666666666666666, \"#ed7953\"], [0.7777777777777778, \"#fb9f3a\"], [0.8888888888888888, \"#fdca26\"], [1.0, \"#f0f921\"]], \"type\": \"heatmap\"}], \"heatmapgl\": [{\"colorbar\": {\"outlinewidth\": 0, \"ticks\": \"\"}, \"colorscale\": [[0.0, \"#0d0887\"], [0.1111111111111111, \"#46039f\"], [0.2222222222222222, \"#7201a8\"], [0.3333333333333333, \"#9c179e\"], [0.4444444444444444, \"#bd3786\"], [0.5555555555555556, \"#d8576b\"], [0.6666666666666666, \"#ed7953\"], [0.7777777777777778, \"#fb9f3a\"], [0.8888888888888888, \"#fdca26\"], [1.0, \"#f0f921\"]], \"type\": \"heatmapgl\"}], \"histogram\": [{\"marker\": {\"colorbar\": {\"outlinewidth\": 0, \"ticks\": \"\"}}, \"type\": \"histogram\"}], \"histogram2d\": [{\"colorbar\": {\"outlinewidth\": 0, \"ticks\": \"\"}, \"colorscale\": [[0.0, \"#0d0887\"], [0.1111111111111111, \"#46039f\"], [0.2222222222222222, \"#7201a8\"], [0.3333333333333333, \"#9c179e\"], [0.4444444444444444, \"#bd3786\"], [0.5555555555555556, \"#d8576b\"], [0.6666666666666666, \"#ed7953\"], [0.7777777777777778, \"#fb9f3a\"], [0.8888888888888888, \"#fdca26\"], [1.0, \"#f0f921\"]], \"type\": \"histogram2d\"}], \"histogram2dcontour\": [{\"colorbar\": {\"outlinewidth\": 0, \"ticks\": \"\"}, \"colorscale\": [[0.0, \"#0d0887\"], [0.1111111111111111, \"#46039f\"], [0.2222222222222222, \"#7201a8\"], [0.3333333333333333, \"#9c179e\"], [0.4444444444444444, \"#bd3786\"], [0.5555555555555556, \"#d8576b\"], [0.6666666666666666, \"#ed7953\"], [0.7777777777777778, \"#fb9f3a\"], [0.8888888888888888, \"#fdca26\"], [1.0, \"#f0f921\"]], \"type\": \"histogram2dcontour\"}], \"mesh3d\": [{\"colorbar\": {\"outlinewidth\": 0, \"ticks\": \"\"}, \"type\": \"mesh3d\"}], \"parcoords\": [{\"line\": {\"colorbar\": {\"outlinewidth\": 0, \"ticks\": \"\"}}, \"type\": \"parcoords\"}], \"pie\": [{\"automargin\": true, \"type\": \"pie\"}], \"scatter\": [{\"marker\": {\"colorbar\": {\"outlinewidth\": 0, \"ticks\": \"\"}}, \"type\": \"scatter\"}], \"scatter3d\": [{\"line\": {\"colorbar\": {\"outlinewidth\": 0, \"ticks\": \"\"}}, \"marker\": {\"colorbar\": {\"outlinewidth\": 0, \"ticks\": \"\"}}, \"type\": \"scatter3d\"}], \"scattercarpet\": [{\"marker\": {\"colorbar\": {\"outlinewidth\": 0, \"ticks\": \"\"}}, \"type\": \"scattercarpet\"}], \"scattergeo\": [{\"marker\": {\"colorbar\": {\"outlinewidth\": 0, \"ticks\": \"\"}}, \"type\": \"scattergeo\"}], \"scattergl\": [{\"marker\": {\"colorbar\": {\"outlinewidth\": 0, \"ticks\": \"\"}}, \"type\": \"scattergl\"}], \"scattermapbox\": [{\"marker\": {\"colorbar\": {\"outlinewidth\": 0, \"ticks\": \"\"}}, \"type\": \"scattermapbox\"}], \"scatterpolar\": [{\"marker\": {\"colorbar\": {\"outlinewidth\": 0, \"ticks\": \"\"}}, \"type\": \"scatterpolar\"}], \"scatterpolargl\": [{\"marker\": {\"colorbar\": {\"outlinewidth\": 0, \"ticks\": \"\"}}, \"type\": \"scatterpolargl\"}], \"scatterternary\": [{\"marker\": {\"colorbar\": {\"outlinewidth\": 0, \"ticks\": \"\"}}, \"type\": \"scatterternary\"}], \"surface\": [{\"colorbar\": {\"outlinewidth\": 0, \"ticks\": \"\"}, \"colorscale\": [[0.0, \"#0d0887\"], [0.1111111111111111, \"#46039f\"], [0.2222222222222222, \"#7201a8\"], [0.3333333333333333, \"#9c179e\"], [0.4444444444444444, \"#bd3786\"], [0.5555555555555556, \"#d8576b\"], [0.6666666666666666, \"#ed7953\"], [0.7777777777777778, \"#fb9f3a\"], [0.8888888888888888, \"#fdca26\"], [1.0, \"#f0f921\"]], \"type\": \"surface\"}], \"table\": [{\"cells\": {\"fill\": {\"color\": \"#EBF0F8\"}, \"line\": {\"color\": \"white\"}}, \"header\": {\"fill\": {\"color\": \"#C8D4E3\"}, \"line\": {\"color\": \"white\"}}, \"type\": \"table\"}]}, \"layout\": {\"annotationdefaults\": {\"arrowcolor\": \"#2a3f5f\", \"arrowhead\": 0, \"arrowwidth\": 1}, \"coloraxis\": {\"colorbar\": {\"outlinewidth\": 0, \"ticks\": \"\"}}, \"colorscale\": {\"diverging\": [[0, \"#8e0152\"], [0.1, \"#c51b7d\"], [0.2, \"#de77ae\"], [0.3, \"#f1b6da\"], [0.4, \"#fde0ef\"], [0.5, \"#f7f7f7\"], [0.6, \"#e6f5d0\"], [0.7, \"#b8e186\"], [0.8, \"#7fbc41\"], [0.9, \"#4d9221\"], [1, \"#276419\"]], \"sequential\": [[0.0, \"#0d0887\"], [0.1111111111111111, \"#46039f\"], [0.2222222222222222, \"#7201a8\"], [0.3333333333333333, \"#9c179e\"], [0.4444444444444444, \"#bd3786\"], [0.5555555555555556, \"#d8576b\"], [0.6666666666666666, \"#ed7953\"], [0.7777777777777778, \"#fb9f3a\"], [0.8888888888888888, \"#fdca26\"], [1.0, \"#f0f921\"]], \"sequentialminus\": [[0.0, \"#0d0887\"], [0.1111111111111111, \"#46039f\"], [0.2222222222222222, \"#7201a8\"], [0.3333333333333333, \"#9c179e\"], [0.4444444444444444, \"#bd3786\"], [0.5555555555555556, \"#d8576b\"], [0.6666666666666666, \"#ed7953\"], [0.7777777777777778, \"#fb9f3a\"], [0.8888888888888888, \"#fdca26\"], [1.0, \"#f0f921\"]]}, \"colorway\": [\"#636efa\", \"#EF553B\", \"#00cc96\", \"#ab63fa\", \"#FFA15A\", \"#19d3f3\", \"#FF6692\", \"#B6E880\", \"#FF97FF\", \"#FECB52\"], \"font\": {\"color\": \"#2a3f5f\"}, \"geo\": {\"bgcolor\": \"white\", \"lakecolor\": \"white\", \"landcolor\": \"#E5ECF6\", \"showlakes\": true, \"showland\": true, \"subunitcolor\": \"white\"}, \"hoverlabel\": {\"align\": \"left\"}, \"hovermode\": \"closest\", \"mapbox\": {\"style\": \"light\"}, \"paper_bgcolor\": \"white\", \"plot_bgcolor\": \"#E5ECF6\", \"polar\": {\"angularaxis\": {\"gridcolor\": \"white\", \"linecolor\": \"white\", \"ticks\": \"\"}, \"bgcolor\": \"#E5ECF6\", \"radialaxis\": {\"gridcolor\": \"white\", \"linecolor\": \"white\", \"ticks\": \"\"}}, \"scene\": {\"xaxis\": {\"backgroundcolor\": \"#E5ECF6\", \"gridcolor\": \"white\", \"gridwidth\": 2, \"linecolor\": \"white\", \"showbackground\": true, \"ticks\": \"\", \"zerolinecolor\": \"white\"}, \"yaxis\": {\"backgroundcolor\": \"#E5ECF6\", \"gridcolor\": \"white\", \"gridwidth\": 2, \"linecolor\": \"white\", \"showbackground\": true, \"ticks\": \"\", \"zerolinecolor\": \"white\"}, \"zaxis\": {\"backgroundcolor\": \"#E5ECF6\", \"gridcolor\": \"white\", \"gridwidth\": 2, \"linecolor\": \"white\", \"showbackground\": true, \"ticks\": \"\", \"zerolinecolor\": \"white\"}}, \"shapedefaults\": {\"line\": {\"color\": \"#2a3f5f\"}}, \"ternary\": {\"aaxis\": {\"gridcolor\": \"white\", \"linecolor\": \"white\", \"ticks\": \"\"}, \"baxis\": {\"gridcolor\": \"white\", \"linecolor\": \"white\", \"ticks\": \"\"}, \"bgcolor\": \"#E5ECF6\", \"caxis\": {\"gridcolor\": \"white\", \"linecolor\": \"white\", \"ticks\": \"\"}}, \"title\": {\"x\": 0.05}, \"xaxis\": {\"automargin\": true, \"gridcolor\": \"white\", \"linecolor\": \"white\", \"ticks\": \"\", \"title\": {\"standoff\": 15}, \"zerolinecolor\": \"white\", \"zerolinewidth\": 2}, \"yaxis\": {\"automargin\": true, \"gridcolor\": \"white\", \"linecolor\": \"white\", \"ticks\": \"\", \"title\": {\"standoff\": 15}, \"zerolinecolor\": \"white\", \"zerolinewidth\": 2}}}, \"title\": {\"text\": \"2D Cluster PCA Plot\"}, \"xaxis\": {\"anchor\": \"y\", \"domain\": [0.0, 1.0], \"title\": {\"text\": \"PCA1\"}}, \"yaxis\": {\"anchor\": \"x\", \"domain\": [0.0, 1.0], \"title\": {\"text\": \"PCA2\"}}},\n",
       "                        {\"responsive\": true}\n",
       "                    ).then(function(){\n",
       "                            \n",
       "var gd = document.getElementById('22772e04-2ae1-4e3b-bce9-789a7af362c6');\n",
       "var x = new MutationObserver(function (mutations, observer) {{\n",
       "        var display = window.getComputedStyle(gd).display;\n",
       "        if (!display || display === 'none') {{\n",
       "            console.log([gd, 'removed!']);\n",
       "            Plotly.purge(gd);\n",
       "            observer.disconnect();\n",
       "        }}\n",
       "}});\n",
       "\n",
       "// Listen for the removal of the full notebook cells\n",
       "var notebookContainer = gd.closest('#notebook-container');\n",
       "if (notebookContainer) {{\n",
       "    x.observe(notebookContainer, {childList: true});\n",
       "}}\n",
       "\n",
       "// Listen for the clearing of the current output cell\n",
       "var outputEl = gd.closest('.output');\n",
       "if (outputEl) {{\n",
       "    x.observe(outputEl, {childList: true});\n",
       "}}\n",
       "\n",
       "                        })\n",
       "                };\n",
       "                });\n",
       "            </script>\n",
       "        </div>"
      ]
     },
     "metadata": {},
     "output_type": "display_data"
    }
   ],
   "source": [
    "plot_model(kmeans)"
   ]
  },
  {
   "cell_type": "code",
   "execution_count": null,
   "metadata": {},
   "outputs": [],
   "source": []
  }
 ],
 "metadata": {
  "kernelspec": {
   "display_name": "Python 3",
   "language": "python",
   "name": "python3"
  },
  "language_info": {
   "codemirror_mode": {
    "name": "ipython",
    "version": 3
   },
   "file_extension": ".py",
   "mimetype": "text/x-python",
   "name": "python",
   "nbconvert_exporter": "python",
   "pygments_lexer": "ipython3",
   "version": "3.7.0"
  }
 },
 "nbformat": 4,
 "nbformat_minor": 4
}
